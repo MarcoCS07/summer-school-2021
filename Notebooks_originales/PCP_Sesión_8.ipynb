{
  "nbformat": 4,
  "nbformat_minor": 0,
  "metadata": {
    "accelerator": "GPU",
    "colab": {
      "name": "PCP_Sesión_8.ipynb",
      "provenance": [],
      "collapsed_sections": []
    },
    "kernelspec": {
      "display_name": "Python 3",
      "language": "python",
      "name": "python3"
    },
    "language_info": {
      "codemirror_mode": {
        "name": "ipython",
        "version": 3
      },
      "file_extension": ".py",
      "mimetype": "text/x-python",
      "name": "python",
      "nbconvert_exporter": "python",
      "pygments_lexer": "ipython3",
      "version": "3.6.8"
    },
    "widgets": {
      "application/vnd.jupyter.widget-state+json": {
        "03f5a46c8c8b4fbb9ca3071bd0f28a1a": {
          "model_module": "@jupyter-widgets/controls",
          "model_name": "VBoxModel",
          "state": {
            "_dom_classes": [
              "widget-interact"
            ],
            "_model_module": "@jupyter-widgets/controls",
            "_model_module_version": "1.5.0",
            "_model_name": "VBoxModel",
            "_view_count": null,
            "_view_module": "@jupyter-widgets/controls",
            "_view_module_version": "1.5.0",
            "_view_name": "VBoxView",
            "box_style": "",
            "children": [
              "IPY_MODEL_69498d5bef09470c8b93838c04503a5c",
              "IPY_MODEL_44cb18e2c89f45809e2c31d71b213540",
              "IPY_MODEL_076629954a164b1c9eabc05dec8dfee9"
            ],
            "layout": "IPY_MODEL_8fe5f70dc8a5498e84e46ca13854a3a1"
          }
        },
        "69498d5bef09470c8b93838c04503a5c": {
          "model_module": "@jupyter-widgets/controls",
          "model_name": "FloatSliderModel",
          "state": {
            "_dom_classes": [],
            "_model_module": "@jupyter-widgets/controls",
            "_model_module_version": "1.5.0",
            "_model_name": "FloatSliderModel",
            "_view_count": null,
            "_view_module": "@jupyter-widgets/controls",
            "_view_module_version": "1.5.0",
            "_view_name": "FloatSliderView",
            "continuous_update": true,
            "description": "epsilon",
            "description_tooltip": null,
            "disabled": false,
            "layout": "IPY_MODEL_1a83fe3275c647f188391c30770eae4e",
            "max": 2,
            "min": 0.1,
            "orientation": "horizontal",
            "readout": true,
            "readout_format": ".2f",
            "step": 0.1,
            "style": "IPY_MODEL_403524e9a66c466f8748a575f4025cc5",
            "value": 1
          }
        },
        "44cb18e2c89f45809e2c31d71b213540": {
          "model_module": "@jupyter-widgets/controls",
          "model_name": "FloatSliderModel",
          "state": {
            "_dom_classes": [],
            "_model_module": "@jupyter-widgets/controls",
            "_model_module_version": "1.5.0",
            "_model_name": "FloatSliderModel",
            "_view_count": null,
            "_view_module": "@jupyter-widgets/controls",
            "_view_module_version": "1.5.0",
            "_view_name": "FloatSliderView",
            "continuous_update": true,
            "description": "sigma",
            "description_tooltip": null,
            "disabled": false,
            "layout": "IPY_MODEL_3030a44a26b54df4b0caa963a35ab018",
            "max": 2,
            "min": 0.1,
            "orientation": "horizontal",
            "readout": true,
            "readout_format": ".2f",
            "step": 0.1,
            "style": "IPY_MODEL_e426de9f68a547258b5953b5b1717548",
            "value": 1
          }
        },
        "076629954a164b1c9eabc05dec8dfee9": {
          "model_module": "@jupyter-widgets/output",
          "model_name": "OutputModel",
          "state": {
            "_dom_classes": [],
            "_model_module": "@jupyter-widgets/output",
            "_model_module_version": "1.0.0",
            "_model_name": "OutputModel",
            "_view_count": null,
            "_view_module": "@jupyter-widgets/output",
            "_view_module_version": "1.0.0",
            "_view_name": "OutputView",
            "layout": "IPY_MODEL_e1dcd2e8a9744525b995ca3734021301",
            "msg_id": "",
            "outputs": [
              {
                "image/png": "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\n",
                "metadata": {
                  "needs_background": "light",
                  "tags": []
                },
                "output_type": "display_data",
                "text/plain": "<Figure size 720x432 with 1 Axes>"
              }
            ]
          }
        },
        "8fe5f70dc8a5498e84e46ca13854a3a1": {
          "model_module": "@jupyter-widgets/base",
          "model_name": "LayoutModel",
          "state": {
            "_model_module": "@jupyter-widgets/base",
            "_model_module_version": "1.2.0",
            "_model_name": "LayoutModel",
            "_view_count": null,
            "_view_module": "@jupyter-widgets/base",
            "_view_module_version": "1.2.0",
            "_view_name": "LayoutView",
            "align_content": null,
            "align_items": null,
            "align_self": null,
            "border": null,
            "bottom": null,
            "display": null,
            "flex": null,
            "flex_flow": null,
            "grid_area": null,
            "grid_auto_columns": null,
            "grid_auto_flow": null,
            "grid_auto_rows": null,
            "grid_column": null,
            "grid_gap": null,
            "grid_row": null,
            "grid_template_areas": null,
            "grid_template_columns": null,
            "grid_template_rows": null,
            "height": null,
            "justify_content": null,
            "justify_items": null,
            "left": null,
            "margin": null,
            "max_height": null,
            "max_width": null,
            "min_height": null,
            "min_width": null,
            "object_fit": null,
            "object_position": null,
            "order": null,
            "overflow": null,
            "overflow_x": null,
            "overflow_y": null,
            "padding": null,
            "right": null,
            "top": null,
            "visibility": null,
            "width": null
          }
        },
        "1a83fe3275c647f188391c30770eae4e": {
          "model_module": "@jupyter-widgets/base",
          "model_name": "LayoutModel",
          "state": {
            "_model_module": "@jupyter-widgets/base",
            "_model_module_version": "1.2.0",
            "_model_name": "LayoutModel",
            "_view_count": null,
            "_view_module": "@jupyter-widgets/base",
            "_view_module_version": "1.2.0",
            "_view_name": "LayoutView",
            "align_content": null,
            "align_items": null,
            "align_self": null,
            "border": null,
            "bottom": null,
            "display": null,
            "flex": null,
            "flex_flow": null,
            "grid_area": null,
            "grid_auto_columns": null,
            "grid_auto_flow": null,
            "grid_auto_rows": null,
            "grid_column": null,
            "grid_gap": null,
            "grid_row": null,
            "grid_template_areas": null,
            "grid_template_columns": null,
            "grid_template_rows": null,
            "height": null,
            "justify_content": null,
            "justify_items": null,
            "left": null,
            "margin": null,
            "max_height": null,
            "max_width": null,
            "min_height": null,
            "min_width": null,
            "object_fit": null,
            "object_position": null,
            "order": null,
            "overflow": null,
            "overflow_x": null,
            "overflow_y": null,
            "padding": null,
            "right": null,
            "top": null,
            "visibility": null,
            "width": null
          }
        },
        "403524e9a66c466f8748a575f4025cc5": {
          "model_module": "@jupyter-widgets/controls",
          "model_name": "SliderStyleModel",
          "state": {
            "_model_module": "@jupyter-widgets/controls",
            "_model_module_version": "1.5.0",
            "_model_name": "SliderStyleModel",
            "_view_count": null,
            "_view_module": "@jupyter-widgets/base",
            "_view_module_version": "1.2.0",
            "_view_name": "StyleView",
            "description_width": "",
            "handle_color": null
          }
        },
        "3030a44a26b54df4b0caa963a35ab018": {
          "model_module": "@jupyter-widgets/base",
          "model_name": "LayoutModel",
          "state": {
            "_model_module": "@jupyter-widgets/base",
            "_model_module_version": "1.2.0",
            "_model_name": "LayoutModel",
            "_view_count": null,
            "_view_module": "@jupyter-widgets/base",
            "_view_module_version": "1.2.0",
            "_view_name": "LayoutView",
            "align_content": null,
            "align_items": null,
            "align_self": null,
            "border": null,
            "bottom": null,
            "display": null,
            "flex": null,
            "flex_flow": null,
            "grid_area": null,
            "grid_auto_columns": null,
            "grid_auto_flow": null,
            "grid_auto_rows": null,
            "grid_column": null,
            "grid_gap": null,
            "grid_row": null,
            "grid_template_areas": null,
            "grid_template_columns": null,
            "grid_template_rows": null,
            "height": null,
            "justify_content": null,
            "justify_items": null,
            "left": null,
            "margin": null,
            "max_height": null,
            "max_width": null,
            "min_height": null,
            "min_width": null,
            "object_fit": null,
            "object_position": null,
            "order": null,
            "overflow": null,
            "overflow_x": null,
            "overflow_y": null,
            "padding": null,
            "right": null,
            "top": null,
            "visibility": null,
            "width": null
          }
        },
        "e426de9f68a547258b5953b5b1717548": {
          "model_module": "@jupyter-widgets/controls",
          "model_name": "SliderStyleModel",
          "state": {
            "_model_module": "@jupyter-widgets/controls",
            "_model_module_version": "1.5.0",
            "_model_name": "SliderStyleModel",
            "_view_count": null,
            "_view_module": "@jupyter-widgets/base",
            "_view_module_version": "1.2.0",
            "_view_name": "StyleView",
            "description_width": "",
            "handle_color": null
          }
        },
        "e1dcd2e8a9744525b995ca3734021301": {
          "model_module": "@jupyter-widgets/base",
          "model_name": "LayoutModel",
          "state": {
            "_model_module": "@jupyter-widgets/base",
            "_model_module_version": "1.2.0",
            "_model_name": "LayoutModel",
            "_view_count": null,
            "_view_module": "@jupyter-widgets/base",
            "_view_module_version": "1.2.0",
            "_view_name": "LayoutView",
            "align_content": null,
            "align_items": null,
            "align_self": null,
            "border": null,
            "bottom": null,
            "display": null,
            "flex": null,
            "flex_flow": null,
            "grid_area": null,
            "grid_auto_columns": null,
            "grid_auto_flow": null,
            "grid_auto_rows": null,
            "grid_column": null,
            "grid_gap": null,
            "grid_row": null,
            "grid_template_areas": null,
            "grid_template_columns": null,
            "grid_template_rows": null,
            "height": null,
            "justify_content": null,
            "justify_items": null,
            "left": null,
            "margin": null,
            "max_height": null,
            "max_width": null,
            "min_height": null,
            "min_width": null,
            "object_fit": null,
            "object_position": null,
            "order": null,
            "overflow": null,
            "overflow_x": null,
            "overflow_y": null,
            "padding": null,
            "right": null,
            "top": null,
            "visibility": null,
            "width": null
          }
        }
      }
    }
  },
  "cells": [
    {
      "cell_type": "markdown",
      "metadata": {
        "id": "4skdndoa-7GI"
      },
      "source": [
        "<center>\n",
        "\n",
        "\n",
        "<img src=\"https://habrastorage.org/webt/jq/gc/r5/jqgcr5azmatev6zvgufn8xftehy.png\">\n",
        "    \n",
        "#  **II Escuela de Verano en Física Computacional**\n",
        "\n",
        "##Autores: [Ricardo Quispe M.](https://github.com/RcrdPhysics)\n",
        "##Institución: Universidad Nacional Mayor de San Marcos \n",
        "##Correo: ricardo.quispe5@unmsm.edu.pe\n",
        "    \n",
        "Este material está sujeto a los términos y condiciones de la licencia [Creative Commons CC BY-NC-SA 4.0](https://creativecommons.org/licenses/by-nc-sa/4.0/). Se permite el uso gratuito para cualquier propósito no comercial.\n",
        "\n",
        "*También puede consultar la última versión de este notebook en nuestro [repositorio](https://github.com/PCPUNMSM) y los videos de clase [en nuestro canal de Youtube](https://www.youtube.com/channel/UCze8vzQLcplutz0nWDNjFCA).*\n",
        "    "
      ]
    },
    {
      "cell_type": "markdown",
      "metadata": {
        "id": "Vm9O4SUd-7GJ"
      },
      "source": [
        "# <center> Sesión 8. Dinámica Molecular\n",
        "<p align=\"center\">\n",
        "  <img src=\"https://www.creative-proteomics.com/images/Molecular-Dynamics-Simulation-Service.jpg\"  width=35% />\n",
        "</p>\n",
        "\n",
        "## Outline\n",
        "\n",
        "1. Dinámica Molecular 1D\n",
        "2. Dinámica Molecular 2D\n",
        "3. Dinámica Molecular 3D\n",
        "\n",
        "\n",
        "\n"
      ]
    },
    {
      "cell_type": "markdown",
      "metadata": {
        "id": "cKsF6g6-7l_r"
      },
      "source": [
        "## 1. Introducción\n",
        "\n"
      ]
    },
    {
      "cell_type": "markdown",
      "metadata": {
        "id": "TPV-jShA7pzb"
      },
      "source": [
        "La dinámica molecular (DM) es una técnica de simulación por computadora en la que se permite que átomos y moléculas interactúen por un período, permitiendo una visualización del movimiento de las partículas. Esta técnica se concibió dentro de la física teórica, y ahora se usa ampliamente en el campo de la biofísica y la ciencia de materiales. Su campo de aplicación va desde superficies catalíticas hasta sistemas biológicos como las proteínas. Si bien los experimentos de cristalografía de rayos X permiten tomar \"fotografías estáticas\" y la técnica de RMN ofrecen indicios del movimiento molecular, ningún experimento es capaz de acceder a todas las escalas de tiempo involucradas. Resulta tentador, aunque no es enteramente correcto, describir a la DM como un \"microscopio virtual\" con alta resolución espacial y temporal."
      ]
    },
    {
      "cell_type": "markdown",
      "metadata": {
        "id": "kYxVsdbq8CUU"
      },
      "source": [
        "En la actualidad existen varios programas capaces de llevar a cabo las simulaciones de DM, y a su vez existen varios campos de fuerza, que en general pueden utilizarse con diversos programas. LAMMPS, OpenMM, CHARMM, AMBER, NAMD y GROMACS son algunos de los paquetes más populares."
      ]
    },
    {
      "cell_type": "code",
      "metadata": {
        "id": "hLlClhebHsPb"
      },
      "source": [
        "import numpy as np\n",
        "import matplotlib.pyplot as plt\n",
        "from copy import *\n",
        "\n",
        "%matplotlib notebook\n",
        "#%matplotlib inline\n",
        "np.random.seed(42)\n",
        "\n",
        "plt.rcParams[\"figure.figsize\"] = (5,5)"
      ],
      "execution_count": null,
      "outputs": []
    },
    {
      "cell_type": "code",
      "metadata": {
        "colab": {
          "base_uri": "https://localhost:8080/",
          "height": 279
        },
        "id": "1SEDSZIrHsPd",
        "scrolled": true,
        "outputId": "a3d4e1ed-dbe7-443e-d643-39356b0b48e4"
      },
      "source": [
        "x = np.random.rand(100)\n",
        "y = np.random.rand(100)\n",
        "%matplotlib inline\n",
        "plt.figure()\n",
        "plt.plot(x,y,'r.')\n",
        "plt.xlabel('x')\n",
        "plt.ylabel('y')\n",
        "plt.show()"
      ],
      "execution_count": null,
      "outputs": [
        {
          "output_type": "display_data",
          "data": {
            "image/png": "[encoded data removed]",
            "text/plain": [
              "<Figure size 432x288 with 1 Axes>"
            ]
          },
          "metadata": {
            "tags": []
          }
        }
      ]
    },
    {
      "cell_type": "markdown",
      "metadata": {
        "id": "Ah9qR4VAHsPd"
      },
      "source": [
        "## 2. Partícula clásica en una caja bidimensional\n",
        "\n",
        "Suponga que desea simular el movimiento de una partícula en una caja bidimensional. Para ello utilizaremos las leyes de Newton para integrar su movimiento. La dinámica de la misma dependerá de atributos de la misma, como ser la masa de la misma y de parámetros de la caja, como ser sus dimensiones. \n",
        "\n",
        "A su vez, para poder determinar las posiciones en función del tiempo deberemos contar con la posición inicial y la velocidad inicial. Podemos saber donde se encontrará la misma integrando las posición de la misma un diferencial de tiempo posterior.\n",
        "\n",
        "Defina las siguientes variables: \n",
        "\n",
        "1. Tamaño del lado de la caja (L): 10 m\n",
        "2. masa de la partícula (m): 1.0 kg\n",
        "3. Posición inicial (x0,y0): (aleatorio, aleatorio) (m, m)\n",
        "4. Velocidad inicial (vx0, vy0): (aleatorio, aleatorio) (m/s, m/s)\n",
        "5. diferencial de tiempo (dt): 0.1 (s)\n",
        "\n",
        "Para la posición tenga en cuenta el tamaño de la caja. Acote la velocidad a no más de +1 o -1 (m/s)"
      ]
    },
    {
      "cell_type": "code",
      "metadata": {
        "id": "KCzYEqFSHsPe"
      },
      "source": [
        "L = 10.0\n",
        "m = 1.0\n",
        "V = 5.0\n",
        "X0 = np.random.rand(1,2)*L - L/2.0\n",
        "V0 = 2.0*V*(np.random.rand(1,2)-0.5)\n",
        "dt = 0.1"
      ],
      "execution_count": null,
      "outputs": []
    },
    {
      "cell_type": "markdown",
      "metadata": {
        "id": "8EPzEHUYHsPe"
      },
      "source": [
        "Usando las leyes de Newton podemos escribir:\n",
        "\n",
        "$\\frac{F}{m} = \\frac{d^2x}{dt^2} = a$\n",
        "\n",
        "La velocidad de la particula a tiempo $t$ puede obtenerse sabiendo la aceleración:\n",
        "\n",
        "$ v\\left(t\\right) = v_0 + at$ \n",
        "\n",
        "Integrando esta última ecuación, podemos obtener la posición:\n",
        "\n",
        "$ x\\left(t\\right) = x_0 + vt $ \n",
        "\n",
        "Suponiendo que no hay fuerzas ejerciéndose sobre la partícula, escriba una función (Xt) que devuelva la posición de una partícula en un tiempo (dt) posterior en función de la velocidad inicial (V0):"
      ]
    },
    {
      "cell_type": "code",
      "metadata": {
        "id": "AWbQbIajHsPe"
      },
      "source": [
        "def Xt(X0,V0,dt):\n",
        "    X = X0 + V0*dt\n",
        "    return X"
      ],
      "execution_count": null,
      "outputs": []
    },
    {
      "cell_type": "markdown",
      "metadata": {
        "id": "F2KQIb0pHsPe"
      },
      "source": [
        "Chequee que la función funciona correctamente. Por ejemplo, vea que si $x_0$ = 10 m, $v_0$ = 1 m/s y dt = 1 s, la posición final es 11 m. Luego, utilice la función generada para mover la partícula 100 pasos:"
      ]
    },
    {
      "cell_type": "code",
      "metadata": {
        "colab": {
          "base_uri": "https://localhost:8080/"
        },
        "id": "J_5fUw9WHsPe",
        "outputId": "985efb2e-2aaf-4403-f964-13f07245371f"
      },
      "source": [
        "Xt(10,1,1)"
      ],
      "execution_count": null,
      "outputs": [
        {
          "output_type": "execute_result",
          "data": {
            "text/plain": [
              "11"
            ]
          },
          "metadata": {
            "tags": []
          },
          "execution_count": 5
        }
      ]
    },
    {
      "cell_type": "code",
      "metadata": {
        "colab": {
          "base_uri": "https://localhost:8080/",
          "height": 265
        },
        "id": "pf8EFCbEHsPf",
        "outputId": "fd51609e-79ca-4d18-a9b6-afbb1575d620"
      },
      "source": [
        "%matplotlib inline\n",
        "\n",
        "#Crea un objeto figura llamado fig\n",
        "fig = plt.figure()\n",
        "\n",
        "#Crea un eje (ax1) en la figura\n",
        "ax1 = fig.add_subplot(1,1,1)\n",
        "\n",
        "#Crea un plot en el eje ax1. Dibuja la posición inicial de la partícula como una estrella negra\n",
        "ax1.plot(X0[:,0],X0[:,1],'k*')\n",
        "\n",
        "nsteps = 100\n",
        "\n",
        "#un bucle de nsetps pases que hace lo que está indentado\n",
        "for i in range(nsteps):\n",
        "    \n",
        "    #Calcula la posición en función de x0, v0 y dt\n",
        "    X = Xt(X0,V0,dt)\n",
        "    \n",
        "    #Dibuja la posición actual de la partícula como un punto rojo\n",
        "    ax1.plot(X[:,0],X[:,1],'r.')\n",
        "    \n",
        "    #Ajusta el aspecto de los ejes para que sean simétricos\n",
        "    ax1.axis('equal')\n",
        "    ax1.set_aspect('equal', 'box')\n",
        "    \n",
        "    #Setea los limites de la figura\n",
        "    ax1.set_xlim([-L/2,L/2])\n",
        "    ax1.set_ylim([-L/2,L/2])\n",
        "    \n",
        "    #Actualiza la figura\n",
        "    fig.canvas.draw()\n",
        "    \n",
        "    #Actualiza la posición. La posición calculada se convierte en la\n",
        "    #posición inicial del próximo paso\n",
        "    X0 = X"
      ],
      "execution_count": null,
      "outputs": [
        {
          "output_type": "display_data",
          "data": {
            "image/png": "[encoded data removed]",
            "text/plain": [
              "<Figure size 432x288 with 1 Axes>"
            ]
          },
          "metadata": {
            "tags": []
          }
        }
      ]
    },
    {
      "cell_type": "markdown",
      "metadata": {
        "id": "9achxGoAHsPf"
      },
      "source": [
        "La función anterior mueve la partícula según la velocidad de la misma y la posición inicial. Si la misma estuviese en una caja con paredes rígidas, al chocar debería cambiar de dirección. Reescribamos la ecuación que integra el movimiento teniendo cuenta que al llegar a la pared, choca y cambia direccion. Una posibilidad es asumir choques perfectamente elásticos. Podemos pensar que si al integrar la posición, la misma está por fuera de la caja, debemos mover la partícula adentro y cambiarle el signo a la velocidad que traía. Complete el código a continuación:"
      ]
    },
    {
      "cell_type": "code",
      "metadata": {
        "id": "RBqhH_czHsPf"
      },
      "source": [
        "def Xt2(X0,V0,dt,L):\n",
        "    \n",
        "    #X es un vector de tamaño 2.\n",
        "    #X[0] es la posición en la coordenada X\n",
        "    #X[1] es la posición en la coordenada Y\n",
        "    \n",
        "    #Nueva posición en función de X0, V0 y dt\n",
        "    X = X0 + V0*dt\n",
        "    \n",
        "    #Dado que la aceleración es 0.0, la velocidad es siempre la misma\n",
        "    V = V0\n",
        "    \n",
        "    #Que pasa si la partícula se fue de la caja en la dimensión x? \n",
        "    #La caja está centrada en 0, por lo que va de -L/2 a L/2\n",
        "    \n",
        "    #Si la posición en la coordenada X es mayor a L/2, quiere decir que está \n",
        "    #fuera de la caja\n",
        "    if X[0] > L/2:\n",
        "        #Si está fuera, entonces el excedente de la posición respecto a la pared (X[0] - L/2)\n",
        "        #hay que restarlo a la posición de la pared: nueva X[0] = L/2 - (X[0] - L/2) = X[0] = L - X[0]\n",
        "        X[0] = L - X[0]\n",
        "        #Si la partícula rebotó en la pared, entonces la dirección de la velocidad cambia!\n",
        "        V[0] = -V[0]\n",
        "    elif X[0] < -L/2:\n",
        "        X[0] = -L - X[0]\n",
        "        V[0] = -V[0]\n",
        "    \n",
        "    #Que pasa si la partícula se fue de la caja en la dimensión y?\n",
        "    if X[1] > L/2:\n",
        "        X[1] = L - X[1]\n",
        "        V[1] = -V[1]\n",
        "    elif X[1] < -L/2:\n",
        "        X[1] = -L - X[1]\n",
        "        V[1] = -V[1]   \n",
        "        \n",
        "    #Ahora debemos devolver tanto X como V, para poder saber la dirección de la partícula\n",
        "    return X, V"
      ],
      "execution_count": null,
      "outputs": []
    },
    {
      "cell_type": "markdown",
      "metadata": {
        "id": "rDSzybXgHsPg"
      },
      "source": [
        "Testeemos que la función Xt2 hace lo que pedimos que haga. Complete el código a continuación para que la partícula se mueva 500 pasos con un dt de 0.1."
      ]
    },
    {
      "cell_type": "code",
      "metadata": {
        "colab": {
          "base_uri": "https://localhost:8080/",
          "height": 265
        },
        "id": "7FzFDvMMHsPg",
        "outputId": "3cea0665-b90c-4bbb-e374-0de26a524215"
      },
      "source": [
        "#Inicializamos la partícula en la posición (0.0,0.0) con velocidad (3.14,1.0) y un dt = 0.1\n",
        "X0 = np.array([0.0,0.0])\n",
        "V0 = np.array([3.14,1.0])\n",
        "dt = 0.1\n",
        "\n",
        "nsteps = 500\n",
        "\n",
        "fig = plt.figure()\n",
        "ax1 = fig.add_subplot(1,1,1)\n",
        "ax1.plot(X0[0],X0[1],'k*')\n",
        "fig.show()\n",
        "fig.canvas.draw()\n",
        "\n",
        "for i in range(nsteps):\n",
        "    X, V = Xt2(X0,V0,dt,L)\n",
        "    ax1.plot(X[0],X[1],'r.')\n",
        "    ax1.axis('equal')\n",
        "    ax1.set_aspect('equal', 'box')\n",
        "    ax1.set_xlim([-L/2,L/2])\n",
        "    ax1.set_ylim([-L/2,L/2])\n",
        "    fig.canvas.draw()\n",
        "    \n",
        "    #Actualizo X y V\n",
        "    X0 = X\n",
        "    V0 = V"
      ],
      "execution_count": null,
      "outputs": [
        {
          "output_type": "display_data",
          "data": {
            "image/png": "[encoded data removed]",
            "text/plain": [
              "<Figure size 432x288 with 1 Axes>"
            ]
          },
          "metadata": {
            "tags": []
          }
        }
      ]
    },
    {
      "cell_type": "markdown",
      "metadata": {
        "id": "hrVgZytPHsPg"
      },
      "source": [
        "El algoritmo propuesto para mover la partícula en la caja no permite poner cualquier valor de dt. Por ejemplo, para las condiciones de V0 y L anteriores, un dt = 10 genera problemas (la partícula se va de la caja!). Chequéelo. \n",
        "En este caso ¿De qué depende el máximo dt que puede utilizar antes de que su sistema explote? Escríbalo en función de L y V0"
      ]
    },
    {
      "cell_type": "markdown",
      "metadata": {
        "collapsed": true,
        "id": "rN_Hi9r7HsPg"
      },
      "source": [
        "## 3. N partículas no interactuantes en una caja bidimensional\n",
        "\n",
        "Ahora que ya somos capaces de simular una partícula chocando contra las paredes de una caja bidimensional, podemos extenderlo fácilmente a varias partículas que no interactúen. Para ello, simplemente reutilizamos el código, generando coordenadas iniciales y velocidades para dos partículas. Por ejemplo, si queremos simular dos partículas, necesitamos coordenas iniciales y velocidades para las dos:"
      ]
    },
    {
      "cell_type": "code",
      "metadata": {
        "colab": {
          "base_uri": "https://localhost:8080/"
        },
        "id": "fIkFEraTHsPh",
        "outputId": "3872f083-da18-455d-c2b7-3ee2ea6264e7"
      },
      "source": [
        "#N es el número de partículas\n",
        "N = 2\n",
        "\n",
        "#X0 son las posiciones inciales. Es una matriz de 2 x 2 (2 partículas x 2 coordenadss).\n",
        "#Cada partícula es una nueva fila\n",
        "X0 = np.random.rand(N,2)*L - L/2.0\n",
        "V = 5.0\n",
        "V0 = 2.0*V*(np.random.rand(N,2)-0.5)\n",
        "\n",
        "print('X0')\n",
        "print(X0)\n",
        "print('V0')\n",
        "print(V0)"
      ],
      "execution_count": null,
      "outputs": [
        {
          "output_type": "stream",
          "text": [
            "X0\n",
            "[[ 1.0642906  -4.90802948]\n",
            " [-3.98528457  1.63501769]]\n",
            "V0\n",
            "[[-4.94938416 -3.39191949]\n",
            " [ 0.48733789  1.91895198]]\n"
          ],
          "name": "stdout"
        }
      ]
    },
    {
      "cell_type": "markdown",
      "metadata": {
        "id": "EaEKjvXnHsPh"
      },
      "source": [
        "Para que el algoritmo de integración de posición funcione con varias partículas, lo reescribimos en Xt3. Si bien la integración puede hacerse fácilmente sumando las matrices de X0 y V0dt (ambas tienen las mismas dimensiones!), con el fin de testear si cada partícula está dentro o fuera de la caja y modificar su posición y velocidad en consecuencia lo hacemos mediante un ciclo sobre el número de partículas (no es estrictamente necesario hacerlo así, pero vamos a hacerlo así para ilustrar lo que está pasando). Eso quiere decir que el algoritmo es lo suficientemente general como para simular N partículas no interactuantes!"
      ]
    },
    {
      "cell_type": "code",
      "metadata": {
        "id": "23o3sS7xHsPh"
      },
      "source": [
        "def Xt3(X0,V0,dt,L,N):\n",
        "    \n",
        "    #Nueva posición, misma velocidad de siempre\n",
        "    X = X0 + V0*dt\n",
        "    V = V0\n",
        "    \n",
        "    #Para cada partícula, chequeamos si choca con la pared\n",
        "    for i in range(N):\n",
        "        if X[i,0] > L/2:\n",
        "            X[i,0] = L - X[i,0]\n",
        "            V[i,0] = -V[i,0]\n",
        "        elif X[i,0] < -L/2:\n",
        "            X[i,0] = -L - X[i,0]\n",
        "            V[i,0] = -V[i,0]\n",
        "    \n",
        "        if X[i,1] > L/2:\n",
        "            X[i,1] = L - X[i,1]\n",
        "            V[i,1] = -V[i,1]\n",
        "        elif X[i,1] < -L/2:\n",
        "            X[i,1] = -L - X[i,1]\n",
        "            V[i,1] = -V[i,1]   \n",
        "    return X, V"
      ],
      "execution_count": null,
      "outputs": []
    },
    {
      "cell_type": "markdown",
      "metadata": {
        "id": "Bf2TNlM0HsPh"
      },
      "source": [
        "Testeemos el algoritmo para muchas N = 10 partículas. Simule el sistema durante 500 pasos, una caja de lado 10, un dt = 0.01"
      ]
    },
    {
      "cell_type": "code",
      "metadata": {
        "colab": {
          "base_uri": "https://localhost:8080/",
          "height": 265
        },
        "id": "Y2nDUu_9HsPh",
        "outputId": "315f81a8-118a-469d-96fd-481df5c9ade5"
      },
      "source": [
        "nsteps = 500\n",
        "N = 10\n",
        "V = 5\n",
        "L = 10\n",
        "dt = 0.01\n",
        "\n",
        "#Condiciones iniciales\n",
        "X0 = np.random.rand(N,2)*L - L/2.0\n",
        "V0 = 2.0*V*(np.random.rand(N,2)-0.5)\n",
        "\n",
        "fig = plt.figure()\n",
        "ax1 = fig.add_subplot(1,1,1)\n",
        "ax1.plot(X0[:,0],X0[:,1],'k*')\n",
        "fig.show()\n",
        "fig.canvas.draw()\n",
        "\n",
        "for i in range(nsteps):\n",
        "    #Calculo posiciones y velocidades\n",
        "    X, V = Xt3(X0,V0,dt,L,N)\n",
        "    \n",
        "    #Actualizo gráfico\n",
        "    ax1.clear()\n",
        "    ax1.plot(X[:,0],X[:,1],'r.')\n",
        "    ax1.axis('equal')\n",
        "    ax1.set_aspect('equal', 'box')\n",
        "    ax1.set_xlim([-L/2,L/2])\n",
        "    ax1.set_ylim([-L/2,L/2])\n",
        "    fig.canvas.draw()\n",
        "    \n",
        "    #Las nuevas posiciones pasan a ser las posiciones iniciales del próximo paso\n",
        "    #Idem para las velocidades\n",
        "    X0 = X\n",
        "    V0 = V"
      ],
      "execution_count": null,
      "outputs": [
        {
          "output_type": "display_data",
          "data": {
            "image/png": "[encoded data removed]",
            "text/plain": [
              "<Figure size 432x288 with 1 Axes>"
            ]
          },
          "metadata": {
            "tags": []
          }
        }
      ]
    },
    {
      "cell_type": "markdown",
      "metadata": {
        "id": "MAsa8g0XHsPi"
      },
      "source": [
        "## 4. Potencial Armónico\n",
        "\n",
        "¿Cómo podemos agregar la interacción entre las partículas? Podemos hacerlo de muchas maneras distintas. La interacción entre las mismas va a depender del potencial entre ellas. Por ejemplo, podríamos proponer que entre dos partículas, la energía potencial dependiera del cuadrado de la distancia:\n",
        "\n",
        "\n",
        "<center>\n",
        "$U(r) = \\frac{k}{2} \\left(r - r_0 \\right)^2 $\n",
        "</center>\n",
        "\n",
        "Este potencial es el llamado armónico y es el modelo para un resorte a estiramientos pequeños y es usado, por ejemplo, para modelar enlaces en moléculas. \n",
        "\n",
        "Construya una función pot_arm, que dada la constante del resorte (k), la distancia de equilibrio (r0) y la distancia entre las partículas devuelva la energía del sistema:"
      ]
    },
    {
      "cell_type": "code",
      "metadata": {
        "id": "q5V9uUu9HsPi"
      },
      "source": [
        "def pot_arm(k,r,r0):\n",
        "    return 0.5*k*(r-r0)**2"
      ],
      "execution_count": null,
      "outputs": []
    },
    {
      "cell_type": "markdown",
      "metadata": {
        "id": "cqQER_yMHsPj"
      },
      "source": [
        "Construya un gráfico que muestre la energía potencial del sistema en función de la distancia de las dos partículas:"
      ]
    },
    {
      "cell_type": "code",
      "metadata": {
        "colab": {
          "base_uri": "https://localhost:8080/",
          "height": 284
        },
        "id": "Oaf59rUYHsPk",
        "outputId": "7954fd57-31ee-4c4d-b80c-83413f1bedc1"
      },
      "source": [
        "k = 500\n",
        "r0 = 3.5\n",
        "\n",
        "r = np.arange(2.0,5.0,0.05)\n",
        "total = pot_arm(k,r,r0)\n",
        "fig = plt.figure()\n",
        "plt.plot(r,total,'k',label = 'Total')\n",
        "plt.xlabel('r ($\\AA$)')\n",
        "plt.ylabel('E (kJ/mol)')\n",
        "plt.legend()\n",
        "plt.show()"
      ],
      "execution_count": null,
      "outputs": [
        {
          "output_type": "display_data",
          "data": {
            "image/png": "[encoded data removed]",
            "text/plain": [
              "<Figure size 432x288 with 1 Axes>"
            ]
          },
          "metadata": {
            "tags": []
          }
        }
      ]
    },
    {
      "cell_type": "markdown",
      "metadata": {
        "id": "Jtfe_FnFHsPk"
      },
      "source": [
        "Para poder utilzar este potencial en una simulación, necesitamos calcular la fuerza que experimenta cada partícula en función de la posición. Eso significa que en vez de la energía potencial, necesitamos la fuerza. La fuerza y la energía potencial se relacionan a través de la siguiente igualdad:\n",
        "\n",
        "$F_x = -\\frac{dU}{dx}$\n",
        "\n",
        "Escriba una función para calcular la fuerza entre dos partículas sometidas a un potencial armónico. Complete la función propuesta de forma que dada la constante del resorte, la distancia de equilibrio y la posición de las partículas, devuelva la fuerza que siente cada partícula."
      ]
    },
    {
      "cell_type": "code",
      "metadata": {
        "id": "_BFtvGA9HsPk"
      },
      "source": [
        "#Calculo de fuerza usando un potencial armonico\n",
        "def force_arm(N,k,X,r0):\n",
        "    \n",
        "    #Inicializo la Energia y las fueras a 0.0\n",
        "    Epot = 0.0\n",
        "    F = np.zeros(X.shape)\n",
        "    \n",
        "    #Me fijo para todas las combinaciones de partículas\n",
        "    #Evitando contando dos veces cada par y la interaccion sobre si misma\n",
        "    for i in range(N-1):\n",
        "        for j in range(i+1,N):\n",
        "            rx = X[j,0] - X[i,0]\n",
        "            ry = X[j,1] - X[i,1]\n",
        "            r = np.sqrt(rx**2 +ry**2)\n",
        "            fx = k*(r-r0)*rx/r\n",
        "            fy = k*(r-r0)*ry/r\n",
        "            \n",
        "            Epot = Epot + 0.5*k*(r-r0)**2\n",
        "    \n",
        "            F[i,0] = F[i,0] + fx\n",
        "            F[j,0] = F[j,0] - fx\n",
        "            F[i,1] = F[i,1] + fy\n",
        "            F[j,1] = F[j,1] - fy\n",
        "    \n",
        "    return F, Epot"
      ],
      "execution_count": null,
      "outputs": []
    },
    {
      "cell_type": "markdown",
      "metadata": {
        "id": "4dwMEEYyHsPk"
      },
      "source": [
        "Ahora podemos utilizar este potencial para testear la dinámica de dos partículas en una caja bidimensional. A diferencia de lo que hicimos hasta ahora, para actualizar las posiciones utilizaremos las fuerzas. Una de las formas de hacer esto es mediante el algoritmo de Verlet. Para ello, las nuevas posiciones se calculan de la siguiente forma:\n",
        "\n",
        "$X_{t+1} = 2X_t - X_{t-1} + F_t \\Delta t^2 + \\mathcal{O}\\left(\\Delta t^4\\right)$\n",
        "\n",
        "En otras palabras, la nueva posición depende de la posición actual, la posición anterior y la fuerza que experimenta la partícula. Interesantemente, la posición no depende de la velocidad, por lo que en principio no es necesario computarla. Sin embargo, dado que la velocidad de las partículas da cuenta de la energía cinética del sistema, es útil hacerlo. En este caso, se puede hacer de la siguiente manera:\n",
        "\n",
        "$V_{t+1} = \\frac{X_{t+1} - X_{t-1}}{2 \\Delta t}$\n",
        "\n",
        "Nuevamente, dado que tenemos a nuestras partículas dentro de una caja, deberemos testear si las nuevas posiciones deben ser modificadas o no al chocar con las paredes. Usando el script a continuación, estudie el efecto de la constante de fuerza y la posición de equilibrio en la dinámica. Para su comodidad, además de la dinámica puede observar la evolución de la energía cinética, potencial y total del sistema. Para comenzar, analice el sistema para dos partículas (por ejemplo, N = 2; L = 3.0; V = 0.5; k = 25; r0 = 1; dt = 0.01). Cuando finalice, repita los mismos parámetros pero usando N = 49 partículas y k = 1. Por último, descomente la sección que dice \"DESCOMENTAME!\" (para ello, comente las \"\"\" al principio y al final del bloque), y vuelva a ejecutar el código. A diferencia del último caso, las 49 partículas estarán dispuestas homogéneamente en el centro de una caja de 10x10."
      ]
    },
    {
      "cell_type": "code",
      "metadata": {
        "colab": {
          "base_uri": "https://localhost:8080/",
          "height": 283
        },
        "id": "6CEoZ3MFHsPl",
        "outputId": "6a40ebd8-ba1a-4bce-98da-171fb1f0db0a"
      },
      "source": [
        "np.random.seed(42)\n",
        "\n",
        "N = 2\n",
        "L = 3.0\n",
        "X = np.random.rand(N,2)*L - L/2.0\n",
        "V = 0.5\n",
        "k = 25\n",
        "r0 = 1\n",
        "dt = 0.01\n",
        "nsteps = 1000\n",
        "#L = 10\n",
        "# DESCOMENTAME! #############################\n",
        "#\"\"\"\n",
        "N = 49\n",
        "L = 7.0\n",
        "X = L*np.array([[ 0.07142857,  0.5       ],\n",
        "       [ 0.21428571,  0.07142857],\n",
        "       [ 0.92857143,  0.92857143],\n",
        "       [ 0.35714286,  0.21428571],\n",
        "       [ 0.07142857,  0.92857143],\n",
        "       [ 0.07142857,  0.35714286],\n",
        "       [ 0.21428571,  0.92857143],\n",
        "       [ 0.92857143,  0.21428571],\n",
        "       [ 0.35714286,  0.64285714],\n",
        "       [ 0.35714286,  0.92857143],\n",
        "       [ 0.21428571,  0.64285714],\n",
        "\n",
        "       [ 0.92857143,  0.07142857],\n",
        "       [ 0.78571429,  0.21428571],\n",
        "       [ 0.92857143,  0.35714286],\n",
        "       [ 0.64285714,  0.5       ],\n",
        "       [ 0.5       ,  0.64285714],\n",
        "       [ 0.21428571,  0.5       ],\n",
        "       [ 0.92857143,  0.5       ],\n",
        "       [ 0.35714286,  0.07142857],\n",
        "       [ 0.78571429,  0.64285714],\n",
        "       [ 0.64285714,  0.78571429],\n",
        "       [ 0.5       ,  0.07142857],\n",
        "       [ 0.07142857,  0.07142857],\n",
        "       [ 0.64285714,  0.35714286],\n",
        "       [ 0.5       ,  0.21428571],\n",
        "       [ 0.78571429,  0.35714286],\n",
        "       [ 0.78571429,  0.5       ],\n",
        "       [ 0.92857143,  0.64285714],\n",
        "       [ 0.92857143,  0.78571429],\n",
        "       [ 0.64285714,  0.21428571],\n",
        "       [ 0.5       ,  0.35714286],\n",
        "       [ 0.21428571,  0.35714286],\n",
        "       [ 0.07142857,  0.21428571],\n",
        "       [ 0.5       ,  0.5       ],\n",
        "       [ 0.07142857,  0.64285714],\n",
        "       [ 0.35714286,  0.5       ],\n",
        "       [ 0.07142857,  0.78571429],\n",
        "       [ 0.64285714,  0.92857143],\n",
        "       [ 0.78571429,  0.92857143],\n",
        "       [ 0.64285714,  0.07142857],\n",
        "       [ 0.5       ,  0.92857143],\n",
        "       [ 0.21428571,  0.78571429],\n",
        "       [ 0.35714286,  0.78571429],\n",
        "       [ 0.64285714,  0.64285714],\n",
        "       [ 0.21428571,  0.21428571],\n",
        "       [ 0.35714286,  0.35714286],\n",
        "       [ 0.5       ,  0.78571429],\n",
        "       [ 0.78571429,  0.07142857],\n",
        "       [ 0.78571429,  0.78571429]]) - L/2.0\n",
        "V = 1\n",
        "k = 5.0\n",
        "r0 = 1.0\n",
        "dt = 0.01\n",
        "L = 10 \n",
        "#\"\"\"\n",
        "#######################################################\n",
        "\n",
        "#Velocidad inicial\n",
        "V0 = 2.0*V*(np.random.rand(N,2)-0.5)\n",
        "\n",
        "#Calculo la energia cinetica y la guardo en una lista\n",
        "Ekin = 0.5*sum(np.sum(V0**2, axis = 1))\n",
        "Ekin_list = [Ekin/N]\n",
        "\n",
        "#Construyo una posición en t-1 usando la velocidad\n",
        "X0 = X - V0*dt\n",
        "\n",
        "#Fuerza inicial y energia potencial inicial\n",
        "F, Epot = force_arm(N, k, X, r0)\n",
        "Epot_list = [Epot/N]\n",
        "\n",
        "def integrate(N,X0,X,F,L,dt):\n",
        "\n",
        "    #inicializo energia \n",
        "    Ekin = 0.0\n",
        "    \n",
        "    #Calculo la nueva posicion y la nueva velocidad de todas las particulas\n",
        "    Xnew = 2.0*X - X0 + F*dt**2\n",
        "    Vnew = (Xnew - X0)/(2.0*dt)\n",
        "    \n",
        "    #Para cada particula chequeo si choca con las paredes\n",
        "    for i in range(N):\n",
        "        if Xnew[i,0] > L/2:\n",
        "            Xnew[i,0] = L - Xnew[i,0]\n",
        "            Vnew[i,0] = -Vnew[i,0]           \n",
        "            #Si choco, entonces muevo la posicion anterior de forma de mantener \n",
        "            #el modulo de la energia cinetica y conservar la energia\n",
        "            X[i,0] = L - X[i,0]\n",
        "            \n",
        "        if Xnew[i,0] < -L/2:\n",
        "            Xnew[i,0] = -L - Xnew[i,0]\n",
        "            Vnew[i,0] = -Vnew[i,0]\n",
        "            #Muevo para conservar la energia\n",
        "            X[i,0] = -L - X[i,0]\n",
        "    \n",
        "        if Xnew[i,1] > L/2:\n",
        "            Xnew[i,1] = L - Xnew[i,1]\n",
        "            Vnew[i,1] = -Vnew[i,1]\n",
        "            #Muevo para conservar la energia\n",
        "            X[i,1] = L - X[i,1]\n",
        "            \n",
        "        if Xnew[i,1] < -L/2:\n",
        "            Xnew[i,1] = -L - Xnew[i,1]\n",
        "            Vnew[i,1] = -Vnew[i,1]   \n",
        "            #Muevo para conservar la energia\n",
        "            X[i,1] = -L - X[i,1]\n",
        "        \n",
        "        #Acumulo la energia cinetica de cada particula\n",
        "        Ekin = Ekin + 0.5*(Vnew[i,0]**2 + Vnew[i,1]**2)\n",
        "    return Xnew, X, Ekin\n",
        "\n",
        "#Inicializo figura\n",
        "fig = plt.figure()\n",
        "ax1 = fig.add_subplot(2,1,1)\n",
        "ax3 = fig.add_subplot(2,1,2)\n",
        "fig.canvas.draw()\n",
        "\n",
        "#calculo la energia total por particula.\n",
        "Etot_list = [(Ekin + Epot)/N]\n",
        "min_Etot = 1e6\n",
        "max_Etot = 0.0\n",
        "\n",
        "for i in range(nsteps):\n",
        "    \n",
        "    #Calculo la fuerza y la Epot\n",
        "    F, Epot = force_arm(N,k,X,r0)\n",
        "    \n",
        "    #agrego la E potencial por particula a la lista\n",
        "    Epot_list.append(Epot/N)\n",
        "    \n",
        "    #Integro posiciones y calculo la Ekin\n",
        "    Xnew, X, Ekin = integrate(N,X0,X,F,L,dt)\n",
        "    \n",
        "    #agrego la E cinetica por particula a la lista\n",
        "    Ekin_list.append(Ekin/N)\n",
        "    \n",
        "    #Actualizo posiciones\n",
        "    X0 = copy(X)\n",
        "    X = copy(Xnew)\n",
        "    \n",
        "    #grafico posiciones\n",
        "    ax1.clear()\n",
        "    ax1.plot(X[:,0],X[:,1],'r.')\n",
        "    ax1.axis('equal')\n",
        "    ax1.set_aspect('equal', 'box')\n",
        "    ax1.set_xlim([-float(L/2),float(L/2)])\n",
        "    ax1.set_ylim([-float(L/2),float(L/2)])\n",
        "    \n",
        "    #Calculo la Etot por particula\n",
        "    Etot = Epot_list[-1] + Ekin_list[-1] \n",
        "    Etot_list.append(Etot)\n",
        "    \n",
        "    #Busco la menor y mayor energia total y las guardo en min_Etot y max_Etot\n",
        "    min_Etot = min(min_Etot, Etot)\n",
        "    max_Etot = max(max_Etot, Etot)\n",
        "    \n",
        "    #Grafico las energias del sistema\n",
        "    ax3.clear()\n",
        "    ax3.plot(Etot,'r')\n",
        "    ax3.plot(np.array(Etot_list[1:]),'r',label = 'Etot')\n",
        "    ax3.plot(np.array(Epot_list[1:]),'g',label = 'Epot')\n",
        "    ax3.plot(np.array(Ekin_list[1:]),'b',label = 'Ekin')\n",
        "    \n",
        "    #Rango de la energia total\n",
        "    ax3.plot(i*[min_Etot],'k--')\n",
        "    ax3.plot(i*[max_Etot],'k--')\n",
        "    \n",
        "    ax3.set_ylabel('Energia')\n",
        "    ax3.set_xlabel('#Paso')\n",
        "    ax3.legend(loc='upper center', bbox_to_anchor=(0.5, 0.2),\n",
        "          ncol=3, fancybox=True, shadow=True)\n",
        "    fig.canvas.draw()\n"
      ],
      "execution_count": null,
      "outputs": [
        {
          "output_type": "display_data",
          "data": {
            "image/png": "[encoded data removed]",
            "text/plain": [
              "<Figure size 432x288 with 2 Axes>"
            ]
          },
          "metadata": {
            "tags": []
          }
        }
      ]
    },
    {
      "cell_type": "markdown",
      "metadata": {
        "id": "z1ZWTZ0HHsPl"
      },
      "source": [
        "Dado que el potencial como está escrito es atractivo, las partículas deberían oscilar alrededor de la posición de equilibrio. ¿Qué pasaría si k = 0?¿Y si k < 0?"
      ]
    },
    {
      "cell_type": "markdown",
      "metadata": {
        "id": "rsr5WqX6HsPl"
      },
      "source": [
        "## 5. Condiciones periódicas de contorno\n",
        "\n",
        "A diferencia de lo que hemos hecho hasta ahora, en vez de realizar simulaciones en una caja de dimensiones finitas en las que las partículas chocan, usaremos una caja infinita. Para esto, nos valdremos de una técnica conocida como Condiciones Periódicas de Contorno (Periodic Boundary Conditions en inglés). Esta técnica se basa en simular una caja finita rodeada por cajas similares en cada uno de sus límites. Si una partícula sale por uno de los lados, se coloca una partícula similar en el lado opuesto de la caja.\n",
        "\n",
        "Cuando trabajamos con una caja finita en la que las partículas chocan contra las paredes, las partículas en las inmediaciones de las paredes tienen entornos distintos a las partículas en el seno de la caja. Al usar condiciones periódicas todas las partículas tienen entornos más parecidos, ya que cada partícula interactuará con partículas de su caja o con las imágenes más cercanas de cajas contiguas.\n",
        "\n",
        "Antes de pasar a un potencial mas realista, incorporemos las condiciones periódicas al conjunto de partículas armónicas para entender su funcionamiento. A continuación el potencial armónico con PBC."
      ]
    },
    {
      "cell_type": "code",
      "metadata": {
        "id": "j6kZIAkGHsPm"
      },
      "source": [
        "#Calculo de fuerza usando un potencial armonico\n",
        "def force_arm_PBC(N,k,X,r0,box):\n",
        "    Epot = 0.0\n",
        "    F = np.zeros(X.shape)\n",
        "    #r_list = np.zeros(N*(N-1)/2)\n",
        "    #w = 0\n",
        "    for i in range(N-1):\n",
        "        for j in range(i+1,N):\n",
        "            rx = X[j,0] - X[i,0]\n",
        "            ry = X[j,1] - X[i,1]\n",
        "            \n",
        "            \n",
        "            #### PBC ########################################################## \n",
        "            #Corrijo la distancia, buscando la particula (o imagen) mas cercana\n",
        "            rx = rx - box*np.rint(rx/box)\n",
        "            ry = ry - box*np.rint(ry/box)\n",
        "            ###################################################################\n",
        "            \n",
        "            r = np.sqrt(rx**2 +ry**2)\n",
        "            #r_list[w] = r\n",
        "            #w = w +1\n",
        "            fx = k*(r-r0)*rx/r\n",
        "            fy = k*(r-r0)*ry/r\n",
        "            \n",
        "            Epot = Epot +0.5*k*(r-r0)**2\n",
        "    \n",
        "            F[i,0] = F[i,0] + fx\n",
        "            F[j,0] = F[j,0] -fx\n",
        "            F[i,1] = F[i,1] + fy\n",
        "            F[j,1] = F[j,1] -fy\n",
        "    \n",
        "    #return F, Epot, r_list\n",
        "    return F, Epot"
      ],
      "execution_count": null,
      "outputs": []
    },
    {
      "cell_type": "markdown",
      "metadata": {
        "id": "Izk75qDsHsPm"
      },
      "source": [
        "Con el fin de inicializar el sistema en condiciones más homogéneas para que relaje más rápida y felizmente, creamos una función que distribuye las partículas en la caja de forma simétrica, adicionandole una pequeña cantidad de aleatoriedad."
      ]
    },
    {
      "cell_type": "code",
      "metadata": {
        "id": "RM0sSUGqHsPm"
      },
      "source": [
        "def lattice_pos(npart,r):\n",
        "    \"\"\"\n",
        "    Distribuye homogeneamente npart particulas en una celda\n",
        "    de 1x1 entre 0 y 1, agregando un r/100% de aleatoriedad. \n",
        "    Devuelve un np.array de npart de posiciones x 2 coordenadas\n",
        "\n",
        "    \"\"\"\n",
        "\n",
        "    #Calculo cantidad de celdas por lado\n",
        "    n = int(np.ceil(np.sqrt(npart)))\n",
        "    \n",
        "    #calculo el centro de la celda\n",
        "    nf = 1.0/float(n)\n",
        "    \n",
        "    #Calculo las posiciones de todas las celdas disponibles agregando un r% de randomizacion\n",
        "    #r = 0.02\n",
        "    celdas = [[i*nf +0.5*nf + r*np.random.rand(),j*nf + 0.5*nf+ r*np.random.rand()]\n",
        "              for i in range(n) for j in range(n)]\n",
        "    \n",
        "    #Mezclo las posiciones de las celdas\n",
        "    np.random.shuffle(celdas)\n",
        "    \n",
        "    X = np.array(celdas[0:npart])\n",
        "    return X"
      ],
      "execution_count": null,
      "outputs": []
    },
    {
      "cell_type": "markdown",
      "metadata": {
        "id": "qnHQu06EHsPm"
      },
      "source": [
        "Utilice el código a continuación para realizar una simulación de 49 partículas interactuando con potenciales armónicos en condiciones periódicas (utilice una caja de L = 7.0). Esta misma geometría es la que utilizó en el caso de los 49 osciladores armónicos en la caja. Observe la dinámica de las partículas y comparelos con lo que veía en la caja. "
      ]
    },
    {
      "cell_type": "code",
      "metadata": {
        "colab": {
          "base_uri": "https://localhost:8080/",
          "height": 279
        },
        "id": "Yoy6KlG5HsPm",
        "outputId": "5cfb1066-0d74-4758-db21-436f6a975d88"
      },
      "source": [
        "np.random.seed(42)\n",
        "\n",
        "N = 49\n",
        "L = 7.0\n",
        "\n",
        "#X = np.random.rand(N,2)*L - L/2.0\n",
        "X = lattice_pos(N,0.01)*L - L/2.0\n",
        "\n",
        "V = 1\n",
        "k = 5.0\n",
        "r0 = 1.0\n",
        "dt = 0.01\n",
        "nsteps = 500\n",
        "#L = 20\n",
        "\n",
        "V0 = 2.0*V*(np.random.rand(N,2)-0.5)\n",
        "\n",
        "#Calculo la velocidad del centro de masa y se la resto para que el sistema no se mueva\n",
        "V0 = V0 - np.tile(np.mean(V0, axis = 0),(N,1));\n",
        "\n",
        "Ekin = 0.5*sum(np.sum(V0**2, axis = 1))\n",
        "Ekin_list = [Ekin/N]\n",
        "\n",
        "#Construyo una posición en t-1 usando la velocidad\n",
        "X0 = X - V0*dt\n",
        "\n",
        "#Fuerza inicial\n",
        "#F, Epot, r = force_arm(N, k, X, r0)\n",
        "F, Epot = force_arm_PBC(N, k, X, r0, L)\n",
        "Epot_list = [Epot/N]\n",
        "#r_list = [r]\n",
        "\n",
        "def integrate(N,X0,X,F,L,dt):\n",
        "    Ekin = 0.0\n",
        "    #Xnew = 2.0*X - X0 + F*dt**2\n",
        "    Xnew = np.zeros(X0.shape)\n",
        "    Vnew = np.zeros(X0.shape)\n",
        "    \n",
        "    for i in range(N):\n",
        "        Xnew[i,0] = 2.0*X[i,0] - X0[i,0] + F[i,0]*dt**2\n",
        "        rx = X[i,0] - X0[i,0]\n",
        "        rx = rx - L*np.rint(rx/L)\n",
        "        v1 = rx/dt\n",
        "        rx = Xnew[i,0] - X[i,0]\n",
        "        rx = rx - L*np.rint(rx/L)\n",
        "        v2 = rx/dt \n",
        "        Vnew[i,0] = 0.5*(v1+v2)\n",
        "        \n",
        "        if Xnew[i,0] > L/2:\n",
        "            Xnew[i,0] = Xnew[i,0] - L\n",
        "                  \n",
        "        if Xnew[i,0] < -L/2:\n",
        "            Xnew[i,0] = L + Xnew[i,0]\n",
        "        \n",
        "        Xnew[i,1] = 2.0*X[i,1] - X0[i,1] + F[i,1]*dt**2\n",
        "        ry = X[i,1] - X0[i,1]\n",
        "        ry = ry - L*np.rint(ry/L)\n",
        "        v1 = ry/dt\n",
        "        ry = Xnew[i,1] - X[i,1]\n",
        "        ry = ry - L*np.rint(ry/L)\n",
        "        v2 = ry/dt \n",
        "        Vnew[i,1] = 0.5*(v1+v2) \n",
        "        \n",
        "        if Xnew[i,1] > L/2:\n",
        "            Xnew[i,1] = Xnew[i,1] - L\n",
        "            \n",
        "        if Xnew[i,1] < -L/2:\n",
        "            Xnew[i,1] = L + Xnew[i,1]\n",
        "        \n",
        "        Ekin = Ekin + 0.5*(Vnew[i,0]**2 + Vnew[i,1]**2)\n",
        "    return Xnew, X, Ekin\n",
        "\n",
        "fig = plt.figure()\n",
        "ax1 = fig.add_subplot(2,1,1)\n",
        "ax3 = fig.add_subplot(3,1,3)\n",
        "ax1.plot(X0[:,0],X0[:,1],'k*')\n",
        "fig.show()\n",
        "fig.canvas.draw()\n",
        "\n",
        "Etot_list = [(Ekin + Epot)/N]\n",
        "min_Etot = 1e6\n",
        "max_Etot = 0.0\n",
        "for i in range(nsteps):\n",
        "    \n",
        "    #Calculo la fuerza y la Epot\n",
        "    #F, Epot, r = force_arm(N,k,X,r0)\n",
        "    F, Epot = force_arm_PBC(N, k, X, r0, L)\n",
        "\n",
        "    Epot_list.append(Epot/N)\n",
        "    \n",
        "    #Integro posiciones y calculo la Ekin\n",
        "    Xnew, X, Ekin = integrate(N,X0,X,F,L,dt)\n",
        "    Ekin_list.append(Ekin/N)\n",
        "    \n",
        "    #Actualizo posiciones\n",
        "    X0 = copy(X)\n",
        "    X = copy(Xnew)\n",
        "    \n",
        "    #r_list.append(r)\n",
        "    \n",
        "    ax1.clear()\n",
        "    ax1.plot(X[:,0],X[:,1],'r.')\n",
        "    ax1.axis('equal')\n",
        "    ax1.set_aspect('equal', 'box')\n",
        "    ax1.set_xlim([-L/2,L/2])\n",
        "    ax1.set_ylim([-L/2,L/2])\n",
        "    \n",
        "    #ax2.clear()\n",
        "    #ax2.plot(r_list,'r')\n",
        "    #ax2.plot(i*[r0],'k--')\n",
        "    #ax2.set_ylabel('Distancia')\n",
        "    #ax2.set_xlabel('#Paso')\n",
        "    \n",
        "    ax3.clear()\n",
        "    Etot = (Ekin+Epot)/N\n",
        "    Etot_list.append(Etot)\n",
        "    min_Etot = min(min_Etot, Etot)\n",
        "    max_Etot = max(max_Etot, Etot)\n",
        "    ax3.plot(i*[min_Etot],'k--')\n",
        "    ax3.plot(i*[max_Etot],'k--')\n",
        "    ax3.plot(np.array(Etot_list[1:]),'r',label = 'Etot')\n",
        "    ax3.plot((np.array(Epot_list[1:])),'g',label = 'Epot')\n",
        "    ax3.plot(np.array(Ekin_list[1:])+225,'b',label = 'Ekin + 225')\n",
        "    ax3.set_ylabel('Energia')\n",
        "    ax3.set_xlabel('#Paso')\n",
        "    ax3.legend(loc='upper center', bbox_to_anchor=(0.5, 1.35),\n",
        "          ncol=3, fancybox=True, shadow=True)\n",
        "    fig.canvas.draw()"
      ],
      "execution_count": null,
      "outputs": [
        {
          "output_type": "display_data",
          "data": {
            "image/png": "[encoded data removed]",
            "text/plain": [
              "<Figure size 432x288 with 2 Axes>"
            ]
          },
          "metadata": {
            "tags": []
          }
        }
      ]
    },
    {
      "cell_type": "code",
      "metadata": {
        "id": "TTt85gCjWv0B"
      },
      "source": [
        ""
      ],
      "execution_count": null,
      "outputs": []
    },
    {
      "cell_type": "markdown",
      "metadata": {
        "id": "TOXXARvMBegy"
      },
      "source": [
        "## DM 1D\n",
        "\n",
        "**Potencial de Lennard-Jones**\n",
        "\n",
        "Un par de átomos o moléculas neutros están sujetos a dos fuerzas distintas en el límite de una gran separación y de una pequeña separación: una fuerza atractiva actúa a grandes distancias (fuerza de Van Der Waals, o fuerza de dispersión) y una fuerza repulsiva actuando a pequeñas distancias (el resultado de la sobreposición de los orbitales electrónicos, conocido como la repulsión de Pauli). El potencial de Lennard-Jones (también conocido como el potencial L-J, el potencial 6-12 o, con menor frecuencia, como el potencial 12-6) es un modelo matemático sencillo para representar este comportamiento.\n",
        "\n",
        "El potencial L-J es de la forma:\n",
        "\n",
        "$${\\displaystyle V(r)=4\\epsilon \\left[\\left({\\frac {\\sigma }{r}}\\right)^{12}-\\left({\\frac {\\sigma }{r}}\\right)^{6}\\right]}$$\n",
        "\n",
        "donde:\n",
        "\n",
        "*   ${\\displaystyle \\,\\epsilon }$ es la profundidad del potencial.\n",
        "*   ${\\displaystyle \\,\\sigma }$ es la distancia (finita) en la que el potencial entre partículas es cero\n",
        "*   $r$ es la distancia entre partículas.\n",
        "\n",
        "Estos parámetros pueden ser ajustados para reproducir datos experimentales o pueden ser deducidos de resultados muy precisos de cálculos de química cuántica. \n",
        "\n",
        "La función que describe la fuerza a la que están sujetas las partículas es opuesta al gradiente del potencial arriba descrito:\n",
        "\n",
        "\n",
        "$$ {\\vec{F}}(r)=-{\\vec {\\nabla }}V(r)$$\n",
        "\n",
        "$$-{\\frac {dV(r)}{dr}}{\\hat {r}}=4\\epsilon \\left((- 12)\\,{\\frac {{\\sigma }^{12}}{{r}^{13}}}-(-6)\\,{\\frac {{\\sigma }^{6}}{{r}^{7}}}\\right){\\hat {r}}$$\n",
        "\n",
        "$$\\vec{F}(r)=24 \\epsilon \\left(2\\,{\\frac {{\\sigma }^{12}}{{r}^{13}}}-\\,{\\frac {{\\sigma }^{6}}{{r}^{7}}}\\right){\\hat {r}}$$\n",
        "\n",
        "La forma del término que describe la repulsión no tiene ninguna justificación teórica; la fuerza repulsiva debe depender exponencialmente de la distancia, pero el término de la fórmula de L-J es más conveniente debido a la facilidad y eficiencia de calcular $r^{12}$ como el cuadrado de $r^6$. Su origen físico está relacionado al principio de exclusión de Pauli: cuando dos nubes electrónicas circulando los átomos se empiezan a sobreponer, la energía del sistema aumenta abruptamente. El término $r^{- 12} $  es la repulsión debida al principio de exclusión de Pauli y $r^{- 6}$ término es la atracción debida a la interacción dipolo-dipolo (van der Waals) entre átomos no polares.\n"
      ]
    },
    {
      "cell_type": "code",
      "metadata": {
        "colab": {
          "base_uri": "https://localhost:8080/",
          "height": 300
        },
        "id": "vEm9OColAuSi",
        "outputId": "d326e933-b04a-407d-c728-8963809f8e7a"
      },
      "source": [
        "\n",
        "def lj_potential(r, epsilon, sigma):\n",
        "    \"\"\"\n",
        "    Lennard-Jones force \n",
        "    to calculate the force of the interaction.\n",
        "\n",
        "    Parameters\n",
        "    ----------\n",
        "    r: float\n",
        "        Distancia entre dos partículas (Å)\n",
        "    epsilon: float \n",
        "        Profundidad del potencial (eV)\n",
        "    sigma: float \n",
        "        es la distancia (finita) en la que \n",
        "        el potencial entre partículas es cero (Å)\n",
        "    \n",
        "    Returns\n",
        "    -------\n",
        "    float\n",
        "        Force of the van der Waals interaction (eV/Å)\n",
        "    \"\"\"\n",
        "    return 4 * epsilon *( np.power(sigma, 12)/np.power(r, 12) \n",
        "        - np.power(sigma, 6)/np.power(r, 6))\n",
        "\n",
        "def lj_force(r, epsilon, sigma):\n",
        "    \"\"\"\n",
        "    Lennard-Jones force \n",
        "    to calculate the force of the interaction.\n",
        "\n",
        "    Parameters\n",
        "    ----------\n",
        "    r: float\n",
        "        Distancia entre dos partículas (Å)\n",
        "    epsilon: float \n",
        "        Profundidad del potencial (eV)\n",
        "    sigma: float \n",
        "        es la distancia (finita) en la que \n",
        "        el potencial entre partículas es cero (Å)\n",
        "    \n",
        "    Returns\n",
        "    -------\n",
        "    float\n",
        "        Force of the van der Waals interaction (eV/Å)\n",
        "    \"\"\"\n",
        "    return 24 * epsilon *( 2* np.power(sigma, 12)/np.power(r, 13) \n",
        "        - np.power(sigma, 6)/np.power(r, 7))\n",
        "    \n",
        "r = np.linspace(3.5, 8, 100)\n",
        "#plt.plot(r, lj_force(r, 0.0103, 3.4))\n",
        "plt.plot(r, lj_potential(r,0.0103, 3.4))\n",
        "plt.xlabel('$r$/Å')\n",
        "#plt.ylabel('$f$/eVÅ$^{-1}$')\n",
        "plt.ylabel('$V_{L-J}$')\n",
        "plt.title(\"Potencial de Lennard-Jones\")\n",
        "plt.show()"
      ],
      "execution_count": null,
      "outputs": [
        {
          "output_type": "display_data",
          "data": {
            "image/png": "[encoded data removed]",
            "text/plain": [
              "<Figure size 432x288 with 1 Axes>"
            ]
          },
          "metadata": {
            "tags": []
          }
        }
      ]
    },
    {
      "cell_type": "code",
      "metadata": {
        "colab": {
          "base_uri": "https://localhost:8080/",
          "height": 284
        },
        "id": "4-MbGwa_XPzJ",
        "outputId": "cbf2edfd-1d2e-404a-a9c1-cef8009fe562"
      },
      "source": [
        "def LJ(r,sigma,epsilon):\n",
        "    repulsivo = 4*epsilon*(sigma/r)**12\n",
        "    atractivo = -4*epsilon*(sigma/r)**6\n",
        "    total = atractivo + repulsivo\n",
        "    \n",
        "    return total, atractivo, repulsivo\n",
        "\n",
        "epsilon = 5\n",
        "sigma = 3.4\n",
        "\n",
        "r = np.arange(sigma - 0.5,2*sigma,0.05)\n",
        "total, atractivo, repulsivo = LJ(r,sigma, epsilon)\n",
        "fig = plt.figure()\n",
        "plt.plot(r,total,'k',label = 'Total')\n",
        "plt.plot(r,atractivo,'r',label = 'Atractivo')\n",
        "plt.plot(r,repulsivo,'b',label = 'Repulsivo')\n",
        "plt.xlabel('r ($\\AA$)')\n",
        "plt.ylabel('E (kJ/mol)')\n",
        "plt.legend()\n",
        "\n",
        "plt.show()"
      ],
      "execution_count": null,
      "outputs": [
        {
          "output_type": "display_data",
          "data": {
            "image/png": "[encoded data removed]",
            "text/plain": [
              "<Figure size 432x288 with 1 Axes>"
            ]
          },
          "metadata": {
            "tags": []
          }
        }
      ]
    },
    {
      "cell_type": "code",
      "metadata": {
        "id": "9a5N4gdRWoO9"
      },
      "source": [
        "import numpy as np\n",
        "import pandas as pd\n",
        "from scipy import spatial\n",
        "import matplotlib.pyplot as plt\n",
        "from ipywidgets import interact\n",
        "%matplotlib inline"
      ],
      "execution_count": null,
      "outputs": []
    },
    {
      "cell_type": "code",
      "metadata": {
        "colab": {
          "base_uri": "https://localhost:8080/",
          "height": 442,
          "referenced_widgets": [
            "03f5a46c8c8b4fbb9ca3071bd0f28a1a",
            "69498d5bef09470c8b93838c04503a5c",
            "44cb18e2c89f45809e2c31d71b213540",
            "076629954a164b1c9eabc05dec8dfee9",
            "8fe5f70dc8a5498e84e46ca13854a3a1",
            "1a83fe3275c647f188391c30770eae4e",
            "403524e9a66c466f8748a575f4025cc5",
            "3030a44a26b54df4b0caa963a35ab018",
            "e426de9f68a547258b5953b5b1717548",
            "e1dcd2e8a9744525b995ca3734021301"
          ]
        },
        "id": "eksYe9XBWotB",
        "outputId": "5ae155d6-932c-4729-80d7-6a4f6eff1342"
      },
      "source": [
        "def lennard_jones_potential(r, epsion=1.0, sigma=1.0):\n",
        "    sigma12 = np.power(sigma, 12.0) \n",
        "    sigma6 = np.power(sigma, 6.0)\n",
        "    return 4.0 * epsion * (sigma12 * np.power(r, -12.) - sigma6 * np.power(r, -6.))\n",
        "\n",
        "def lennard_jones_force(r, epsilon=1.0, sigma=1.0):\n",
        "    sigma13 = np.power(sigma, 12.0) \n",
        "    sigma7 = np.power(sigma, 6.0)\n",
        "    return 24.0 * epsilon / sigma * (2.0 * sigma13 * np.power(r, -12.) - sigma7 * np.power(r, -6.)) \n",
        "\n",
        "def plot_lj_pot(r, epsilon=1.0, sigma=1.0):\n",
        "    pot = lennard_jones_potential(r, epsilon, sigma)\n",
        "    plt.plot(r, pot, lw=2, label='LJ potential')\n",
        "\n",
        "def plot_lj_force(r, epsilon=1.0, sigma=1.0):\n",
        "    force = lennard_jones_force(r, epsilon, sigma)\n",
        "    plt.plot(r, force, lw=2, label='LJ force')\n",
        "\n",
        "r = np.linspace(0.5, 2.5, 100)\n",
        "def plot_lj(epsilon=1.0, sigma=1.0):\n",
        "    fig = plt.figure(figsize=(10, 6))\n",
        "    plot_lj_pot(r, epsilon=epsilon, sigma=sigma)\n",
        "    plot_lj_force(r, epsilon=epsilon, sigma=sigma)\n",
        "    plt.ylim([-4.0, 4.0])\n",
        "    plt.axvline(sigma, linestyle=':', color='blue', label='V = 0')\n",
        "    plt.axvline(np.power(2.0, 1./6.) * sigma, linestyle=':', color='red', label='$r^*$')\n",
        "    plt.axhline(-epsilon, linestyle=':', color='orange', label='$V_\\mathrm{min}$')\n",
        "    plt.legend()\n",
        "    plt.title('')\n",
        "    plt.grid()    \n",
        "    \n",
        "# plot_lj_pot(r, 1.0, 1.0)\n",
        "interact(plot_lj, epsilon=(0.1, 2.0), sigma=(0.1, 2.0));"
      ],
      "execution_count": null,
      "outputs": [
        {
          "output_type": "display_data",
          "data": {
            "application/vnd.jupyter.widget-view+json": {
              "model_id": "03f5a46c8c8b4fbb9ca3071bd0f28a1a",
              "version_major": 2,
              "version_minor": 0
            },
            "text/plain": [
              "interactive(children=(FloatSlider(value=1.0, description='epsilon', max=2.0, min=0.1), FloatSlider(value=1.0, …"
            ]
          },
          "metadata": {
            "tags": []
          }
        }
      ]
    },
    {
      "cell_type": "markdown",
      "metadata": {
        "id": "r_Bnn0OCAudC"
      },
      "source": [
        "Es importante que determinemos la fuerza en cada dirección para nuestra simulación. Esto se logra multiplicando por el vector unitario en esa dirección,\n",
        "\n",
        "$$\\mathbf{f}_x = f\\hat{\\mathbf{r}}_x\\text{, where }\\hat{\\mathbf{r}}_x = \\dfrac{r_x}{|\\mathbf{r}|}$$\n"
      ]
    },
    {
      "cell_type": "markdown",
      "metadata": {
        "id": "4LB3195MJrAu"
      },
      "source": [
        "En la ecuación anterior,$r_x$ es la distancia entre las dos partículas en la dirección x y $|\\mathbb{r}|$ es la magnitud del vector de distancia. Para simplificar, inicialmente solo consideraremos partículas que interactúan en un espacio unidimensional.\n",
        "\n",
        "El siguiente código de Python muestra cómo determinar la aceleración en cada átomo de argón debido a cada uno de los otros átomos de argón. Es posible aumentar la eficiencia de este algoritmo aplicando la tercera ley de Newton, p. Ej. la fuerza sobre el átomo $i$ será igual y opuesto a la fuerza sobre el átomo $j$."
      ]
    },
    {
      "cell_type": "code",
      "metadata": {
        "colab": {
          "base_uri": "https://localhost:8080/"
        },
        "id": "m5cxdZCJAuha",
        "outputId": "9a2404e1-4d0e-4765-f3aa-e1a61e7026d4"
      },
      "source": [
        "mass_of_argon = 39.948 # amu\n",
        "\n",
        "def get_accelerations(positions):\n",
        "    \"\"\"\n",
        "    Calcula la aceleración de cada partícula como \n",
        "    resultado de cada una de las demás\n",
        "\n",
        "    Parameters\n",
        "    ----------\n",
        "    positions: ndarray of floats\n",
        "        The positions, in a single dimension, \n",
        "        for all of the particles (Å)\n",
        "        \n",
        "    Returns\n",
        "    -------\n",
        "    ndarray of floats\n",
        "        The acceleration on each particle (eV/Åamu)\n",
        "    \"\"\"\n",
        "    accel_x = np.zeros((positions.size, positions.size))\n",
        "    for i in range(0, positions.size - 1):\n",
        "        for j in range(i + 1, positions.size):\n",
        "            r_x = positions[j] - positions[i]\n",
        "            rmag = np.sqrt(r_x * r_x)\n",
        "            force_scalar = lj_force(rmag, 0.0103, 3.4)\n",
        "            force_x = force_scalar * r_x / rmag\n",
        "            #De la segunda ley\n",
        "            accel_x[i, j] = force_x / mass_of_argon #eV Å-1 amu-1\n",
        "            # aplicando la tercera ley\n",
        "            accel_x[j, i] = - force_x / mass_of_argon\n",
        "    return np.sum(accel_x, axis=0)\n",
        "\n",
        "pos=np.array([1, 5, 10])#np.linspace(1,10,10)\n",
        "accel = get_accelerations(pos)\n",
        "print('Acceleration on particle 0 = {:.3e} eV/Åamu'.format(\n",
        "    accel[0]))\n",
        "print('Acceleration on particle 1 = {:.3e} eV/Åamu'.format(\n",
        "    accel[1]))\n",
        "print('Acceleration on particle 2 = {:.3e} eV/Åamu'.format(\n",
        "    accel[2]))"
      ],
      "execution_count": null,
      "outputs": [
        {
          "output_type": "stream",
          "text": [
            "Acceleration on particle 0 = 1.453e-04 eV/Åamu\n",
            "Acceleration on particle 1 = -4.519e-05 eV/Åamu\n",
            "Acceleration on particle 2 = -1.002e-04 eV/Åamu\n"
          ],
          "name": "stdout"
        }
      ]
    },
    {
      "cell_type": "markdown",
      "metadata": {
        "id": "Z6LdcHUiAumK"
      },
      "source": [
        "## Integración"
      ]
    },
    {
      "cell_type": "markdown",
      "metadata": {
        "id": "edEmA8RIKe3l"
      },
      "source": [
        "Ahora que hemos visto cómo obtener la aceleración de nuestras partículas, podemos aplicar las **ecuaciones de movimiento de Newton** para sondear la trayectoria de las partículas,"
      ]
    },
    {
      "cell_type": "markdown",
      "metadata": {
        "id": "aswLHlCsKe5_"
      },
      "source": [
        "$$\\mathbf{x}_i(t + \\Delta t) = \\mathbf{x}_i(t) + \\mathbf{v}_i(t)\\Delta t + \\dfrac{1}{2} \\mathbf{a}_i(t)\\Delta t^2$$\n",
        "\n",
        "$$\\mathbf{v}_i(t + \\Delta t) = \\mathbf{v}_i(t) + \\dfrac{1}{2}\\big[\\mathbf{a}_i(t) + \\mathbf{a}_i(t+\\Delta t)\\big]\\Delta t,$$"
      ]
    },
    {
      "cell_type": "markdown",
      "metadata": {
        "id": "AZ86vFu6Ke8P"
      },
      "source": [
        "dónde, $Δt$ es el paso de tiempo (cuánto se incrementa en el tiempo), $x_i$ es la posición de la partícula, $\\mathbb{v_i}$ es la velocidad, y $\\mathbb{a_i}$ la aceleración. Este par de ecuaciones se conoce como algoritmo de  Verlet, que se puede escribir como:\n",
        "\n",
        "\n",
        "\n",
        "1.   Calcule la fuerza (y por lo tanto la aceleración) sobre la partícula\n",
        "2.   Encuentra la posición de la partícula después de un paso de tiempo\n",
        "3.   Calcule las nuevas fuerzas y aceleraciones.\n",
        "4.   Determine una nueva velocidad para la partícula, basada en la aceleración promedio en las posiciones actual y nueva.\n",
        "5.   Sobrescriba los antiguos valores de aceleración con los nuevos, $\\mathbb{a}_i (t)=\\mathbb{a}_i(t+\\Delta t)$\n",
        "6.   Repetir\n",
        "\n",
        "Después de la relajación inicial de las partículas hasta el equilibrio, este proceso puede continuarse durante el tiempo que sea necesario para obtener estadísticas suficientes para la cantidad que le interesa.\n",
        "\n",
        "El código de Python a continuación es un conjunto de dos funciones para las ecuaciones anteriores, que se aplicarán más adelante."
      ]
    },
    {
      "cell_type": "code",
      "metadata": {
        "id": "PLsrUUzEAuqy"
      },
      "source": [
        "def update_pos(x, v, a, dt):\n",
        "    \"\"\"\n",
        "    Update the particle positions.\n",
        "    \n",
        "    Parameters\n",
        "    ----------\n",
        "    x: ndarray of floats\n",
        "        The positions of the particles in a \n",
        "        single dimension (Å)\n",
        "    v: ndarray of floats\n",
        "        The velocities of the particles in a \n",
        "        single dimension (eVs/Åamu)\n",
        "    a: ndarray of floats\n",
        "        The accelerations of the particles in a \n",
        "        single dimension (eV/Åamu)\n",
        "    dt: float\n",
        "        The timestep length (s)\n",
        "    \n",
        "    Returns\n",
        "    -------\n",
        "    ndarray of floats:\n",
        "        New positions of the particles in a \n",
        "        single dimension (Å)\n",
        "    \"\"\"\n",
        "    return x + v * dt + 0.5 * a * dt * dt\n",
        "\n",
        "def update_velo(v, a, a1, dt):\n",
        "    \"\"\"\n",
        "    Actualice las velocidades de las partículas.\n",
        "    \n",
        "     Parámetros\n",
        "     ----------\n",
        "     v: ndarray de floats\n",
        "         Las velocidades de las partículas en un\n",
        "         dimensión única (eVs / Åuma)\n",
        "     a: ndarray de floats\n",
        "         Las aceleraciones de las partículas en un\n",
        "         dimensión única en la anterior\n",
        "         paso de tiempo (eV / Åuma)\n",
        "     a1: ndarray de floats\n",
        "         Las aceleraciones de las partículas en un\n",
        "         dimensión única en la corriente\n",
        "         paso de tiempo (eV / Åuma)\n",
        "     dt: float\n",
        "         La (s) longitud (s) del paso de tiempo\n",
        "    \n",
        "     Devoluciones\n",
        "     -------\n",
        "     ndarray de flotadores:\n",
        "         Nuevas velocidades de las partículas en un\n",
        "         dimensión única (eVs / Åuma)\n",
        "    \"\"\"\n",
        "    return v + 0.5 * (a + a1) * dt"
      ],
      "execution_count": null,
      "outputs": []
    },
    {
      "cell_type": "markdown",
      "metadata": {
        "id": "O0Ehj1RlAuuS"
      },
      "source": [
        "El proceso anterior se denomina paso de integración y el algoritmo de Verlet es el integrador. Esta función es altamente no lineal para más de dos partículas. El resultado es que el paso de integración solo será válido para valores muy pequeños de Δt, Ej. si se usa un paso de tiempo grande, la aceleración calculada no será precisa ya que las fuerzas sobre el átomo cambiarán demasiado significativamente durante el mismo. El valor del intervalo de tiempo suele ser del orden de $10^{-15}$ s (femtosegundos). Por tanto, para medir un nanosegundo de dinámica molecular \"en tiempo real\", se deben realizar 1 000 000 (un millón) de iteraciones del algoritmo anterior. Esto puede resultar muy lento para sistemas grandes y realistas."
      ]
    },
    {
      "cell_type": "markdown",
      "metadata": {
        "id": "z1-gT2nKZejl"
      },
      "source": [
        "## Inicialización"
      ]
    },
    {
      "cell_type": "markdown",
      "metadata": {
        "id": "hwa0_Xb5Zgjr"
      },
      "source": [
        "Solo quedan dos componentes que necesitamos para ejecutar una simulación de dinámica molecular, y ambos están asociados con la configuración original del sistema; las posiciones originales de las partículas y las velocidades originales de las partículas.\n",
        "\n",
        "Las posiciones de las partículas generalmente se toman de alguna biblioteca de estructuras (por ejemplo, el banco de datos de proteínas si está simulando proteínas) o se basan en algún conocimiento del sistema (por ejemplo, $CaF_2$ es bien conocido por tener una estructura cúbica centrada en la cara). Para sistemas complejos de componentes múltiples, se puede utilizar software como Packmol para construir la estructura a partir de sus partes constituyentes. \n",
        "\n",
        "Las velocidades de las partículas son más generales, ya que la energía cinética total,$E_K$ del sistema (y por lo tanto las velocidades de las partículas) dependen de la temperatura de la simulación, $T$."
      ]
    },
    {
      "cell_type": "markdown",
      "metadata": {
        "id": "70bw0muoAu7C"
      },
      "source": [
        "\n",
        "$$E_K = \\sum_{i=1}^N \\dfrac{m_i|v_i|^2}{2} = \\dfrac{3}{2}Nk_BT,$$"
      ]
    },
    {
      "cell_type": "markdown",
      "metadata": {
        "id": "4rxGv_XwbUuj"
      },
      "source": [
        "donde, $m_i$ es la masa de la partícula $i$, N es el número de partículas, y $K_B$ es la constante de Boltzmann."
      ]
    },
    {
      "cell_type": "code",
      "metadata": {
        "id": "pgwMFsDpdSej"
      },
      "source": [
        "from scipy.constants import Boltzmann\n",
        "\n",
        "def init_velocity(T, number_of_particles):\n",
        "    \"\"\"\n",
        "    Initialise the velocities for a series \n",
        "    of particles.\n",
        "    \n",
        "    Parameters\n",
        "    ----------\n",
        "    T: float\n",
        "        Temperature of the system at \n",
        "        initialisation (K)\n",
        "    number_of_particles: int\n",
        "        Number of particles in the \n",
        "        system\n",
        "    \n",
        "    Returns\n",
        "    -------\n",
        "    ndarray of floats\n",
        "        Initial velocities for a series of \n",
        "        particles (eVs/Åamu)\n",
        "    \"\"\"\n",
        "    R = np.random.rand(number_of_particles) - 0.5\n",
        "    return R * np.sqrt(Boltzmann * T / (mass_of_argon * 1.602e-19))"
      ],
      "execution_count": null,
      "outputs": []
    },
    {
      "cell_type": "code",
      "metadata": {
        "colab": {
          "base_uri": "https://localhost:8080/"
        },
        "id": "5TQ7y15LdTWB",
        "outputId": "5f90d78e-f4a5-409f-c779-d3f3c9c81245"
      },
      "source": [
        "init_velocity(1000,100)"
      ],
      "execution_count": null,
      "outputs": [
        {
          "output_type": "execute_result",
          "data": {
            "text/plain": [
              "array([-1.01825879e-02, -2.20943607e-02,  6.75683258e-03, -1.49974197e-02,\n",
              "        2.04582247e-02,  2.10838729e-02,  1.92694369e-02, -6.03081101e-03,\n",
              "       -2.25058558e-02,  1.98943503e-02, -3.33567078e-03,  2.16749757e-02,\n",
              "        2.15340147e-02,  1.63964264e-02, -9.54734655e-03, -5.33692966e-03,\n",
              "        1.63094401e-02, -8.50352538e-03, -1.53512541e-02,  2.63827981e-03,\n",
              "        2.02583232e-02,  9.10510491e-03,  3.25417011e-03, -1.87101673e-02,\n",
              "        5.34180458e-03,  2.27618035e-02, -1.67172178e-02,  8.51367550e-04,\n",
              "        1.75280568e-02,  1.11831138e-02,  9.15089962e-03,  9.40489078e-03,\n",
              "       -6.52629259e-03, -9.58715432e-03,  1.43690695e-02,  1.44040092e-02,\n",
              "        1.70496120e-02,  1.91940136e-02,  5.26826704e-04,  7.04281820e-05,\n",
              "        1.38550820e-02,  6.96545804e-03,  9.38086780e-03,  1.37388465e-02,\n",
              "        1.81147949e-02, -7.52472899e-03, -5.77886775e-03, -1.88585465e-02,\n",
              "        3.63592121e-03, -2.15543471e-02, -1.59788797e-03,  1.98073905e-03,\n",
              "       -9.91463710e-03,  4.21898294e-03, -2.18071158e-02, -2.14890458e-02,\n",
              "        1.49840075e-02, -6.49380298e-03, -1.73221276e-02,  1.03314506e-03,\n",
              "        1.25405406e-02, -1.31994187e-02,  5.70796223e-03, -1.92595967e-02,\n",
              "       -2.08232883e-02,  1.45634600e-03,  1.88740208e-03,  6.38328301e-03,\n",
              "        1.05013898e-02,  2.21021660e-02,  7.57111337e-04, -8.22323910e-03,\n",
              "        1.37106772e-02, -1.06442818e-02, -2.83462834e-03, -1.95796707e-02,\n",
              "       -2.20462978e-02,  2.14888880e-02,  1.56054554e-02,  9.10252287e-03,\n",
              "       -4.22891319e-03, -1.51746803e-02, -1.59576596e-02, -1.16006069e-02,\n",
              "        2.28645825e-03,  9.96745609e-03,  7.44077659e-03, -1.02215326e-02,\n",
              "        2.11273805e-02,  1.10497303e-02,  2.52461289e-03,  5.18915559e-03,\n",
              "       -3.73438058e-03, -1.17172789e-02, -6.68971704e-03,  1.19763216e-02,\n",
              "       -2.25552355e-02, -1.78324874e-02, -2.10870676e-02, -2.13320246e-02])"
            ]
          },
          "metadata": {
            "tags": []
          },
          "execution_count": 26
        }
      ]
    },
    {
      "cell_type": "code",
      "metadata": {
        "colab": {
          "base_uri": "https://localhost:8080/",
          "height": 283
        },
        "id": "18KQ5jUxdcGZ",
        "outputId": "d8f37e9b-7bcd-4879-936d-0f815eb33ba0"
      },
      "source": [
        "plt.plot(init_velocity(1000,100))"
      ],
      "execution_count": null,
      "outputs": [
        {
          "output_type": "execute_result",
          "data": {
            "text/plain": [
              "[<matplotlib.lines.Line2D at 0x7faedef2e210>]"
            ]
          },
          "metadata": {
            "tags": []
          },
          "execution_count": 27
        },
        {
          "output_type": "display_data",
          "data": {
            "image/png": "[encoded data removed]",
            "text/plain": [
              "<Figure size 432x288 with 1 Axes>"
            ]
          },
          "metadata": {
            "tags": []
          }
        }
      ]
    },
    {
      "cell_type": "code",
      "metadata": {
        "colab": {
          "base_uri": "https://localhost:8080/",
          "height": 279
        },
        "id": "ZSYHKv3rdh-h",
        "outputId": "a51fa376-4693-45c2-d9b7-912e170c0542"
      },
      "source": [
        "def run_md(dt, number_of_steps, initial_temp, x):\n",
        "    \"\"\"\n",
        "    Ejecuta una simulación de DM.\n",
        "    \n",
        "    Parámetros\n",
        "    ----------\n",
        "    dt: float\n",
        "        La (s) longitud (s) del paso de tiempo\n",
        "    número_de_pasos: int\n",
        "        Número de iteraciones en la simulación\n",
        "    initial_temp: float\n",
        "        Temperatura del sistema a\n",
        "        inicialización (K)\n",
        "    x: ndarray de floats\n",
        "        Las posiciones iniciales de las partículas en un\n",
        "        dimensión única (Å)\n",
        "       \n",
        "    Devoluciones\n",
        "    -------\n",
        "    ndarray de floats\n",
        "        Las posiciones de todas las partículas.\n",
        "        a lo largo de la simulación (Å)\n",
        "    \"\"\"\n",
        "    positions = np.zeros((number_of_steps, 3))\n",
        "    v = init_velocity(initial_temp, 3)\n",
        "    a = get_accelerations(x)\n",
        "    for i in range(number_of_steps):\n",
        "        x = update_pos(x, v, a, dt)\n",
        "        a1 = get_accelerations(x)\n",
        "        v = update_velo(v, a, a1, dt)\n",
        "        a = np.array(a1)\n",
        "        positions[i, :] = x\n",
        "    return positions\n",
        "\n",
        "x = np.array([1, 5, 10])\n",
        "sim_pos = run_md(0.1, 10000, 300, x)\n",
        "    \n",
        "%matplotlib inline\n",
        "for i in range(sim_pos.shape[1]):\n",
        "    plt.plot(sim_pos[:, i], '.', label='atom {}'.format(i))\n",
        "\n",
        "plt.xlabel(r'Step')\n",
        "plt.ylabel(r'$x$-Position/Å')\n",
        "plt.legend(frameon=False)\n",
        "plt.show()"
      ],
      "execution_count": null,
      "outputs": [
        {
          "output_type": "display_data",
          "data": {
            "image/png": "[encoded data removed]",
            "text/plain": [
              "<Figure size 432x288 with 1 Axes>"
            ]
          },
          "metadata": {
            "tags": []
          }
        }
      ]
    },
    {
      "cell_type": "code",
      "metadata": {
        "colab": {
          "base_uri": "https://localhost:8080/",
          "height": 326
        },
        "id": "_yxf27DPdjvh",
        "outputId": "2fd70d5a-0d4d-4024-a163-24ee8e1f0e6d"
      },
      "source": [
        "x = np.array([1e-10, 2e-10, 1e-9])\n",
        "sim_pos = run_md(0.1, 10000, 300, x)\n",
        "    \n",
        "%matplotlib inline\n",
        "for i in range(sim_pos.shape[1]):\n",
        "    plt.plot(sim_pos[:, i], '.', label='atom {}'.format(i))\n",
        "plt.xlabel(r'Step')\n",
        "plt.ylabel(r'$x$-Position/Å')\n",
        "plt.legend(frameon=False)\n",
        "plt.show()"
      ],
      "execution_count": null,
      "outputs": [
        {
          "output_type": "stream",
          "text": [
            "/usr/local/lib/python3.7/dist-packages/ipykernel_launcher.py:45: RuntimeWarning: overflow encountered in power\n",
            "/usr/local/lib/python3.7/dist-packages/ipykernel_launcher.py:46: RuntimeWarning: overflow encountered in power\n"
          ],
          "name": "stderr"
        },
        {
          "output_type": "display_data",
          "data": {
            "image/png": "[encoded data removed]",
            "text/plain": [
              "<Figure size 432x288 with 1 Axes>"
            ]
          },
          "metadata": {
            "tags": []
          }
        }
      ]
    },
    {
      "cell_type": "markdown",
      "metadata": {
        "id": "3GlMdT_MHDoW"
      },
      "source": [
        "## MD 2D"
      ]
    },
    {
      "cell_type": "code",
      "metadata": {
        "collapsed": true,
        "id": "MgGjOekeYoQU"
      },
      "source": [
        "def lattice_pos(npart,r):\n",
        "    \"\"\"\n",
        "    Distribuye homogeneamente npart particulas en una celda\n",
        "    de 1x1 entre 0 y 1, agregando un r/100% de aleatoriedad. \n",
        "    Devuelve un np.array de npart de posiciones x 2 coordenadas\n",
        "\n",
        "    \"\"\"\n",
        "\n",
        "    #Calculo cantidad de celdas por lado\n",
        "    n = int(np.ceil(np.sqrt(npart)))\n",
        "    \n",
        "    #calculo el centro de la celda\n",
        "    nf = 1.0/float(n)\n",
        "    \n",
        "    #Calculo las posiciones de todas las celdas disponibles agregando un r% de randomizacion\n",
        "    \n",
        "    celdas = [[i*nf +0.5*nf + r*np.random.rand(),j*nf + 0.5*nf+ r*np.random.rand()]\n",
        "              for i in range(n) for j in range(n)]\n",
        "    \n",
        "    #Mezclo las posiciones de las celdas\n",
        "    np.random.shuffle(celdas)\n",
        "    \n",
        "    X = np.array(celdas[0:npart])\n",
        "    return X\n",
        "\n",
        "def vel_ini(npart,temp_red):\n",
        "    \"\"\"\n",
        "    Asigna velocidades al azar de la distribucion uniforme en el rango -0.5 a 0.5\n",
        "\n",
        "    \"\"\"\n",
        "    V = np.random.rand(npart,2)-0.5*np.ones((npart,2), dtype=np.float)\n",
        "    \n",
        "    #Calculamos la velocidad del centro de masa\n",
        "    Vx = sum(V[:,0])/npart\n",
        "    Vy = sum(V[:,1])/npart\n",
        "    \n",
        "    #Calculamos la velocidad cuadratica media\n",
        "    V2 = sum(sum(V**2))/npart\n",
        "    \n",
        "    #Factor de escala para temperatura\n",
        "    fs = np.sqrt(2*temp_red/V2)\n",
        "    \n",
        "    #Elimino la velocidad del centro de masa y escalo\n",
        "    V[:,0] = (V[:,0] - Vx)*fs\n",
        "    V[:,1] = (V[:,1] - Vy)*fs\n",
        "    \n",
        "    return V\n",
        "\n",
        "def init(npart,box,temp_red,dt_red,sigma):\n",
        "    \"\"\"\n",
        "    inicializa posiciones y velocidades usando lattice_pos y vel_ini\n",
        "\n",
        "    \"\"\"    \n",
        "    r = 0.00\n",
        "    X = lattice_pos(npart,r)\n",
        "    \n",
        "    #Escalo posiciones al tamanio de caja y lo reduzco con sigma\n",
        "    X = (X*box)/sigma\n",
        "    V = vel_ini(npart,temp_red) \n",
        "    \n",
        "    return X,V"
      ],
      "execution_count": null,
      "outputs": []
    },
    {
      "cell_type": "markdown",
      "metadata": {
        "id": "04ogMhjfYoQV"
      },
      "source": [
        "Función para calcular las fuerzas usando Lennard-Jones en condiciones periódicas"
      ]
    },
    {
      "cell_type": "code",
      "metadata": {
        "collapsed": true,
        "id": "KIwBOvAaYoQV"
      },
      "source": [
        "def force(npart,X,rcut,box,epsilon):\n",
        "    \"\"\"\n",
        "    Calcula las fuerzas de todas las particulas utilizando un potencial de Lennard-Jones.\n",
        "    Las distancias ya estan reducidas por sigma y utiliza un radio de corte rcut.\n",
        "    Las fuerzas son devueltas en unidades reducidas y las energias en kJ/mol\n",
        "\n",
        "    \"\"\" \n",
        "    \n",
        "    #inicializo las fuerzas a 0.0 y la energia a 0.0\n",
        "    F = np.zeros((npart,2),dtype=np.float)\n",
        "    Epot = 0.0\n",
        "    \n",
        "    #Calculo la energia de cutoff en unidades reducidas\n",
        "    rci6 = 1.0/rcut**6\n",
        "    rci12= rci6**2\n",
        "    Ecut = 4.0*(rci12 -rci6)\n",
        "    \n",
        "    #Calculo la fuerza sobre todos los pares de particulas\n",
        "    for i in range(npart-1):\n",
        "        for j in range(i+1,npart):\n",
        "            rx = X[i,0] - X[j,0]\n",
        "            rx = rx - box*np.rint(rx/box)\n",
        "            ry = X[i,1] - X[j,1]\n",
        "            ry = ry - box*np.rint(ry/box)\n",
        "            r2 = rx**2 + ry**2\n",
        "            \n",
        "            if r2 < rcut**2:\n",
        "                r2i = 1/r2\n",
        "                r6i = r2i**3\n",
        "                ff = 48.0*r2i*r6i*(r6i-0.5)\n",
        "                \n",
        "                # F tiene unidades de reducidas\n",
        "                F[i,0] = F[i,0] + ff*rx\n",
        "                F[j,0] = F[j,0] - ff*rx\n",
        "\n",
        "                F[i,1] = F[i,1] + ff*ry\n",
        "                F[j,1] = F[j,1] - ff*ry\n",
        "\n",
        "                Epot = Epot + 4.0*r6i*(r6i-1.0) - Ecut\n",
        "                \n",
        "    return [F,Epot*epsilon] #Fuerza en unidades reducidas y energia en kJ/mol\n"
      ],
      "execution_count": null,
      "outputs": []
    },
    {
      "cell_type": "markdown",
      "metadata": {
        "id": "k1_v5KEzYoQV"
      },
      "source": [
        "Funciones para calcular posiciones y velocidades usando velocity Verlet en condiciones periódicas"
      ]
    },
    {
      "cell_type": "code",
      "metadata": {
        "collapsed": true,
        "id": "asyAKCMrYoQW"
      },
      "source": [
        "def pos(npart,X,V,F,dt,box,m):\n",
        "    \"\"\"\n",
        "    Calcula las nuevas posiciones usando el algoritmo de velocity Verlet.\n",
        "    Todas las distancias están reducidas. Las nuevas posiciones son devueltas en \n",
        "    coordenadas reducidas.\n",
        "\n",
        "    \"\"\" \n",
        "    \n",
        "    Xnew = X + V*dt + (F/(2.0*m))*dt**2\n",
        "    \n",
        "    #Se fija si la partícula salió de la caja y la transporta a\n",
        "    #la posición correspondiente de su imagen\n",
        "    np.where(Xnew[:,0] > box, Xnew[:,0] - box, Xnew[:,0])\n",
        "    np.where(Xnew[:,0] < 0.0, box + Xnew[:,0], Xnew[:,0])\n",
        "    np.where(Xnew[:,1] > box, Xnew[:,1] - box, Xnew[:,1])\n",
        "    np.where(Xnew[:,1] < 0.0, box + Xnew[:,1], Xnew[:,1])\n",
        "    \n",
        "    return Xnew\n",
        "\n",
        "def vel(npart,V,F,Fnew,dt,m):\n",
        "    \"\"\"\n",
        "    Calcula las nuevas velocidades usando el algoritmo de velocity Verlet.\n",
        "    Las nuevas velocidades son devueltas en coordenadas reducidas y la energía\n",
        "    cinética está en kJ/mol\n",
        "\n",
        "    \"\"\" \n",
        "    Vnew = V + (0.5/m)*(Fnew + F)*dt\n",
        "    \n",
        "    V2 = sum(sum(Vnew**2))\n",
        "    Ekin = 0.5*V2*epsilon\n",
        "    \n",
        "    return Vnew, Ekin"
      ],
      "execution_count": null,
      "outputs": []
    },
    {
      "cell_type": "markdown",
      "metadata": {
        "id": "U9UpojwqYoQW"
      },
      "source": [
        "Función de inicialización de simulación que genera unidades reducidas y otros parámetros relevantes para simular, y función que genera una corrida (capaz de controlar la temperatura usando un termostato de Berendsen)"
      ]
    },
    {
      "cell_type": "code",
      "metadata": {
        "collapsed": true,
        "id": "3aCeuOT7YoQW"
      },
      "source": [
        "def inicializar(npart, box, temperatura, dt, sigma, epsilon, masa):\n",
        "    \"\"\"\n",
        "    Inicializa una simulación en función de la cantidad de partículas (npart),\n",
        "    el tamaño de la caja en angstroms (box), una temperatura (K), el paso de simulación\n",
        "    (dt) en segundos, los parámetros de Lennard-Jones sigma y epsilon (en A y kJ/mol)\n",
        "    y la masa de la partícula (en g/mol). Devuelve coordenadas, velocidades y fuerzas iniciales en\n",
        "    unidades reducidas y un diccionario con parámetros de la corrida (unit_red)\n",
        "\n",
        "    \"\"\"     \n",
        "    NA = 6.02e23 # 1/mol\n",
        "    kB = 1.381e-23 # J/K\n",
        "    \n",
        "    rcut = box/2.0 # A (unidades reales)\n",
        "    \n",
        "    #reduzco el tiempo\n",
        "    t_unit = (sigma*1e-10) * np.sqrt(masa*1e-3/(1000*epsilon))\n",
        "    dt_red = dt/t_unit\n",
        "\n",
        "    #reduzco la temperatura\n",
        "    temp_unit = 1.0/(kB/(1000*epsilon/NA))\n",
        "    temp_red = temperatura/temp_unit\n",
        "\n",
        "    #reduzco la masa\n",
        "    m_unit = masa*1e-3/NA\n",
        "    m = 1\n",
        "\n",
        "    #Posiciones y Velocidad inicial\n",
        "    X, V = init(npart,box,temp_red,dt_red,sigma)\n",
        "\n",
        "    #Calculo fuerzas iniciales\n",
        "    F,Epot = force(npart,X,rcut/sigma,box/sigma,epsilon)\n",
        "\n",
        "    unit_red = {'t_unit': t_unit, 'T_unit': temp_unit, 'm_unit': m_unit, 'E_unit':epsilon, 'x_unit': sigma,\n",
        "               'box': box/sigma, 'rcut':rcut/sigma, 'Temp0':temperatura, 'sigma':sigma, 'epsilon':epsilon,\n",
        "                'dt':dt, 'm':m}\n",
        "    \n",
        "    return X, V, F, unit_red\n",
        "\n",
        "def simular(nsteps, X, V, F, unit_red, tau_ber, plot_freq):\n",
        "    \"\"\"\n",
        "    Corre una simulación nsteps pasos a partir de las coordenadas, velocidades\n",
        "    y fuerzas iniciales. Si se provee un tau_ber > 0, utiliza un termostato de\n",
        "    Berendsen para realizar una simulación a T constante (provista en los parámetros \n",
        "    de la corrida). plot_freq define cada cuantos pasos se grafica. Además de los gráficos\n",
        "    de posición en función del paso, Temperatura y Energías, provee coordenadas, velocidades\n",
        "    y fuerzas finales de la simulación.\n",
        "\n",
        "    \"\"\"   \n",
        "    sigma = unit_red['sigma']\n",
        "    epsilon = unit_red['epsilon']\n",
        "    dt = unit_red['dt']/unit_red['t_unit']\n",
        "    box = unit_red['box']\n",
        "    temp0 = unit_red['Temp0']\n",
        "    m = unit_red['m']\n",
        "    rcut = unit_red['rcut']\n",
        "    temp_unit = unit_red['T_unit']\n",
        "    \n",
        "    if plot_freq < nsteps:\n",
        "        fig = plt.figure()\n",
        "        ax1 = fig.add_subplot(2,2,1)\n",
        "        ax2 = fig.add_subplot(2,2,3)\n",
        "        ax3 = fig.add_subplot(2,2,2)\n",
        "        fig.show()\n",
        "        fig.canvas.draw()\n",
        "\n",
        "    #inicializo\n",
        "    E = np.zeros((nsteps,2))\n",
        "    T = np.zeros((nsteps,1))\n",
        "    \n",
        "    if tau_ber > 0:\n",
        "        berendsen = True\n",
        "    else:\n",
        "        berendsen = False\n",
        "\n",
        "    for i in range(nsteps):\n",
        "        #Calculo Posicion\n",
        "        Xnew = pos(npart,X,V,F,dt,box,m)\n",
        "\n",
        "        #Calculo Fuerzas nuevas\n",
        "        Fnew, Epot = force(npart,Xnew,rcut,box,epsilon)\n",
        "        E[i,0] = Epot\n",
        "    \n",
        "        #Calculo velocidad\n",
        "        Vnew, Ekin = vel(npart,V,F,Fnew,dt,m)\n",
        "        E[i,1] = Ekin\n",
        "        T_i = sum(sum(Vnew**2))/(2*npart)*temp_unit \n",
        "        T[i] = T_i\n",
        "    \n",
        "        if berendsen:\n",
        "            l = np.sqrt(1 + (dt/tau_ber)*(temp0/T_i - 1))\n",
        "            Vnew = Vnew*l\n",
        "    \n",
        "        #Actualizo variables\n",
        "        X = copy(Xnew)\n",
        "        V = copy(Vnew)\n",
        "        F = copy(Fnew)\n",
        "    \n",
        "        if (plot_freq < nsteps) and (i % plot_freq == 0):\n",
        "            ax1.clear()\n",
        "            ax1.plot(X[:,0]*sigma,X[:,1]*sigma,'b.')\n",
        "    \n",
        "            ax1.axis('equal')\n",
        "            ax1.set_aspect('equal', 'box')\n",
        "            ax1.set_xlim(0,box*sigma)\n",
        "            ax1.set_ylim(0,box*sigma)\n",
        "        \n",
        "            ax2.clear()\n",
        "            ax2.plot((E[0:i,0]+ E[0:i,1])/npart,'r', label = 'Total')\n",
        "            ax2.plot(E[0:i,0]/npart,'g', label = 'Potencial')\n",
        "            ax2.plot(E[0:i,1]/npart,'b', label = 'Cinetica')\n",
        "            ax2.set_xlabel('#Paso')\n",
        "            ax2.set_ylabel('E(kJ/mol)')\n",
        "            ax2.legend(loc='upper center', bbox_to_anchor=(0.5, -0.1), ncol=3, fancybox=True, shadow=True)\n",
        "        \n",
        "            ax3.clear()\n",
        "            ax3.plot(T[0:i],'r')\n",
        "            ax3.plot((i+1)*[temp0],'k--')\n",
        "            ax3.set_xlabel('#Paso')\n",
        "            ax3.set_ylabel('T(K)')\n",
        "        \n",
        "            fig.canvas.draw()\n",
        "            \n",
        "    return X, V, F"
      ],
      "execution_count": null,
      "outputs": []
    },
    {
      "cell_type": "markdown",
      "metadata": {
        "id": "mK5lSH4xYoQZ"
      },
      "source": [
        "Inicialización de parámetros y simulación. Termalización a 119.8K por 2000 pasos."
      ]
    },
    {
      "cell_type": "code",
      "metadata": {
        "colab": {
          "base_uri": "https://localhost:8080/",
          "height": 285
        },
        "id": "irtL_FcRYoQb",
        "outputId": "29803a90-8be9-4492-fee9-6491753779d1"
      },
      "source": [
        "nsteps = 2000\n",
        "npart  =  144\n",
        "box = 40\n",
        "temperatura = 119.8 #K\n",
        "dt = 1e-14 # en segundos \n",
        "sigma = 3.405 #A\n",
        "epsilon = 0.996 #kJ/mol\n",
        "masa = 39.95 #g/mol\n",
        "tau_ber = 1\n",
        "plot_freq = 1\n",
        "\n",
        "#Inicializo con berendsen tau = 1 y corro 2000 pasos\n",
        "X, V, F, unit_red = inicializar(npart, box, temperatura, dt, sigma, epsilon, masa)\n",
        "X, V, F = simular(nsteps, X, V, F, unit_red, tau_ber, plot_freq)"
      ],
      "execution_count": null,
      "outputs": [
        {
          "output_type": "display_data",
          "data": {
            "image/png": "[encoded data removed]",
            "text/plain": [
              "<Figure size 432x288 with 3 Axes>"
            ]
          },
          "metadata": {
            "tags": []
          }
        }
      ]
    },
    {
      "cell_type": "code",
      "metadata": {
        "colab": {
          "base_uri": "https://localhost:8080/"
        },
        "id": "ETKrwqfWYoQb",
        "outputId": "e1f66d90-35bb-40b9-9cd5-b7c6575af00e"
      },
      "source": [
        "X"
      ],
      "execution_count": null,
      "outputs": [
        {
          "output_type": "execute_result",
          "data": {
            "text/plain": [
              "array([[ 3.41476256,  3.55892101],\n",
              "       [ 7.77977385, 10.02122579],\n",
              "       [ 7.78441857,  2.52250218],\n",
              "       [ 6.14400644,  6.79405047],\n",
              "       [ 0.49621814,  2.04851067],\n",
              "       [11.38617525,  7.90617039],\n",
              "       [ 9.57180132,  1.54121804],\n",
              "       [ 3.96313974, 10.62624572],\n",
              "       [ 9.6033336 ,  5.82787875],\n",
              "       [ 8.69895636,  6.23662231],\n",
              "       [ 4.99490228, 11.60793003],\n",
              "       [ 3.3991889 ,  6.94229027],\n",
              "       [ 1.41831718,  2.53933425],\n",
              "       [ 2.44864947,  5.18243501],\n",
              "       [10.42972011,  0.96574711],\n",
              "       [ 2.1693456 , 10.5799628 ],\n",
              "       [ 9.60699971,  8.96195972],\n",
              "       [ 2.22128621,  9.54591802],\n",
              "       [ 1.64659931,  5.70846382],\n",
              "       [ 4.02204525, -0.17928067],\n",
              "       [ 8.64423297,  9.47374537],\n",
              "       [ 4.90137322, 10.49258144],\n",
              "       [ 1.23842691,  7.95633782],\n",
              "       [ 8.6609375 ,  3.09634371],\n",
              "       [10.46994325,  9.53902317],\n",
              "       [-0.40264729,  0.55660098],\n",
              "       [ 6.88657109,  7.43887141],\n",
              "       [ 5.02359147,  0.90615798],\n",
              "       [ 1.32394316,  9.13494203],\n",
              "       [ 2.2157872 ,  8.55650148],\n",
              "       [ 4.05905245,  8.66218635],\n",
              "       [10.35449367, 10.5408064 ],\n",
              "       [ 6.81815009, -0.14651527],\n",
              "       [ 0.4413719 ,  8.57320676],\n",
              "       [ 6.77548584,  9.51420895],\n",
              "       [ 2.28664565,  3.04360034],\n",
              "       [ 7.05785216,  6.32461736],\n",
              "       [ 3.12757833,  0.29748658],\n",
              "       [10.57086816,  8.44079389],\n",
              "       [ 0.63475941,  3.11844212],\n",
              "       [ 8.62211393, 11.60836522],\n",
              "       [ 5.11230036,  2.0310999 ],\n",
              "       [ 4.35364901,  4.70680002],\n",
              "       [ 7.88271502,  6.96483447],\n",
              "       [10.51601375,  2.09724524],\n",
              "       [ 1.61832655,  4.62590707],\n",
              "       [ 4.06603894,  9.72635368],\n",
              "       [11.23701186, 11.11229502],\n",
              "       [ 9.69258448,  7.88828758],\n",
              "       [ 0.3711299 , 11.57712214],\n",
              "       [ 5.19977628,  5.21043051],\n",
              "       [ 3.07804317,  9.01860831],\n",
              "       [ 6.93539111,  4.08855087],\n",
              "       [ 5.95412491,  1.4062441 ],\n",
              "       [10.50279726,  5.24481612],\n",
              "       [ 6.05701703,  4.65239265],\n",
              "       [ 8.60507679,  0.98021267],\n",
              "       [ 5.90562546, 11.04438871],\n",
              "       [10.56449148,  3.14170055],\n",
              "       [ 6.91360778,  2.99694641],\n",
              "       [ 0.45339023, 10.59490983],\n",
              "       [ 1.42296574,  6.75409246],\n",
              "       [ 6.08704936,  3.57260936],\n",
              "       [ 5.84038181,  8.77383376],\n",
              "       [ 3.35525504,  5.73212818],\n",
              "       [ 2.14154243,  0.93709351],\n",
              "       [ 8.6742903 ,  8.4183942 ],\n",
              "       [ 9.60547358, 12.19679861],\n",
              "       [ 7.75379827,  7.97958285],\n",
              "       [ 0.47222805,  0.94436628],\n",
              "       [ 4.22484506,  7.6883304 ],\n",
              "       [ 7.85474935,  5.71212082],\n",
              "       [ 6.83615189,  8.497084  ],\n",
              "       [ 7.07176861,  5.20626591],\n",
              "       [11.42833192,  3.71120644],\n",
              "       [ 0.50783912,  7.33904456],\n",
              "       [ 7.69022582, 11.01536844],\n",
              "       [ 8.66250245,  5.11116996],\n",
              "       [ 4.34794984,  6.7013055 ],\n",
              "       [ 4.2566139 ,  2.69364038],\n",
              "       [ 3.12133941, 10.03757012],\n",
              "       [ 2.47928848,  6.31158533],\n",
              "       [ 1.30524129, -0.60923394],\n",
              "       [ 6.75349907, 10.49575568],\n",
              "       [ 6.85685548,  1.95432382],\n",
              "       [10.4143714 , 11.63365595],\n",
              "       [ 0.43191249,  9.59240314],\n",
              "       [ 9.51253913, 10.02716009],\n",
              "       [ 6.91741298,  0.98839661],\n",
              "       [ 6.03067143,  7.79023295],\n",
              "       [ 7.72937981,  3.49656454],\n",
              "       [ 4.28460462,  5.73228529],\n",
              "       [ 7.72561942,  1.53700422],\n",
              "       [ 4.963507  ,  8.26397285],\n",
              "       [10.54446583,  7.31380103],\n",
              "       [ 8.68963956,  4.11982495],\n",
              "       [ 3.07444513, 11.08249675],\n",
              "       [ 2.30089672,  1.96774642],\n",
              "       [ 7.82674148,  8.96944475],\n",
              "       [ 3.29595854,  7.99664892],\n",
              "       [ 2.56348053,  3.98915909],\n",
              "       [ 9.6454675 ,  3.73979022],\n",
              "       [ 5.21066192,  4.21273376],\n",
              "       [11.51397443,  4.73335304],\n",
              "       [11.41193954,  2.67904065],\n",
              "       [ 8.70023287, 10.51981508],\n",
              "       [ 0.53737622,  6.24437479],\n",
              "       [ 5.17308882,  7.27334422],\n",
              "       [ 0.72861703,  5.20388517],\n",
              "       [ 4.97681105,  9.33525008],\n",
              "       [ 9.65805605,  4.74998647],\n",
              "       [11.37565266,  1.55194575],\n",
              "       [ 4.1085409 ,  1.7926414 ],\n",
              "       [ 9.56530726,  6.81493635],\n",
              "       [11.43297595,  6.74089407],\n",
              "       [ 4.41712125,  3.64786787],\n",
              "       [11.33231549,  9.02401374],\n",
              "       [ 5.2270208 ,  6.19419009],\n",
              "       [ 8.69761912,  2.059076  ],\n",
              "       [11.33085771, 10.09568706],\n",
              "       [ 1.53927459,  3.67277212],\n",
              "       [ 2.15730989, -0.17995649],\n",
              "       [10.47843442,  6.19429323],\n",
              "       [ 1.31435202,  1.52998056],\n",
              "       [ 5.22864687,  3.11354934],\n",
              "       [ 1.35785933, 10.08848413],\n",
              "       [ 7.81253158,  0.44256419],\n",
              "       [ 4.03701509,  0.82836692],\n",
              "       [10.5105169 ,  4.24166493],\n",
              "       [ 2.46846331,  7.45478362],\n",
              "       [ 1.33585221,  0.42149414],\n",
              "       [ 8.7598243 ,  7.42060629],\n",
              "       [ 3.14206162,  1.38466726],\n",
              "       [ 5.95952789, 12.17586531],\n",
              "       [ 3.20729732,  2.49720017],\n",
              "       [11.39030736,  5.73488394],\n",
              "       [ 3.37096037,  4.6650295 ],\n",
              "       [ 7.86379058,  4.50287203],\n",
              "       [ 9.52417737, 11.09701138],\n",
              "       [ 6.00421675,  2.55060601],\n",
              "       [ 6.11077744,  5.67582751],\n",
              "       [ 9.67125014,  2.61878722],\n",
              "       [ 5.85802004, 10.02811444],\n",
              "       [ 0.68375927,  4.19189457]])"
            ]
          },
          "metadata": {
            "tags": []
          },
          "execution_count": 35
        }
      ]
    },
    {
      "cell_type": "markdown",
      "metadata": {
        "id": "Mtv11baUYoQc"
      },
      "source": [
        "Testeo eliminar el termostato. Corrida de otros 2000 pasos."
      ]
    },
    {
      "cell_type": "code",
      "metadata": {
        "colab": {
          "base_uri": "https://localhost:8080/",
          "height": 285
        },
        "id": "9MJ_MOHcYoQc",
        "outputId": "fc0b9f52-0da0-42f3-e44d-e3f6133d6a13"
      },
      "source": [
        "#Pongo berendsen tau = 0 y corro 2000 pasos\n",
        "nsteps = 2000\n",
        "tau_ber = 0\n",
        "X, V, F = simular(nsteps, X, V, F, unit_red, tau_ber, plot_freq)\n",
        "V120 = copy(V)"
      ],
      "execution_count": null,
      "outputs": [
        {
          "output_type": "display_data",
          "data": {
            "image/png": "[encoded data removed]",
            "text/plain": [
              "<Figure size 432x288 with 3 Axes>"
            ]
          },
          "metadata": {
            "tags": []
          }
        }
      ]
    },
    {
      "cell_type": "markdown",
      "metadata": {
        "id": "9cJQ1-mrYoQc"
      },
      "source": [
        "Cambio la T a 200K y pongo el termostato."
      ]
    },
    {
      "cell_type": "code",
      "metadata": {
        "colab": {
          "base_uri": "https://localhost:8080/",
          "height": 285
        },
        "id": "WG0FOBGLYoQc",
        "outputId": "b4f9ce2b-8bf1-431c-cea0-00b55156a09f"
      },
      "source": [
        "#Cambio la temperatura del sistema a T = 200K, pongo un berendsen y corro 2000 pasos\n",
        "unit_red['Temp0'] = 200\n",
        "tau_ber = 1.0\n",
        "nsteps = 2000\n",
        "X, V, F = simular(nsteps, X, V, F, unit_red, tau_ber, plot_freq)"
      ],
      "execution_count": null,
      "outputs": [
        {
          "output_type": "display_data",
          "data": {
            "image/png": "[encoded data removed]",
            "text/plain": [
              "<Figure size 432x288 with 3 Axes>"
            ]
          },
          "metadata": {
            "tags": []
          }
        }
      ]
    },
    {
      "cell_type": "markdown",
      "metadata": {
        "id": "25as6puDYoQd"
      },
      "source": [
        "Elimino el termostato y chequeo que la T se mantiene."
      ]
    },
    {
      "cell_type": "code",
      "metadata": {
        "colab": {
          "base_uri": "https://localhost:8080/",
          "height": 285
        },
        "id": "ykj6QyvQYoQd",
        "outputId": "db7f430b-1796-4ce1-bd4d-676fa03ee3be"
      },
      "source": [
        "#Pongo berendsen tau = 0 y corro 2000 pasos\n",
        "nsteps = 2000\n",
        "tau_ber = 0\n",
        "plot_freq = 10\n",
        "X, V, F = simular(nsteps, X, V, F, unit_red, tau_ber, plot_freq)\n",
        "V200 = copy(V)"
      ],
      "execution_count": null,
      "outputs": [
        {
          "output_type": "display_data",
          "data": {
            "image/png": "[encoded data removed]",
            "text/plain": [
              "<Figure size 432x288 with 3 Axes>"
            ]
          },
          "metadata": {
            "tags": []
          }
        }
      ]
    },
    {
      "cell_type": "markdown",
      "metadata": {
        "id": "loNqGK3lYoQd"
      },
      "source": [
        "Enfrio el sistema a 50K usando el Berendsen."
      ]
    },
    {
      "cell_type": "code",
      "metadata": {
        "colab": {
          "base_uri": "https://localhost:8080/",
          "height": 285
        },
        "id": "k_DFi3bkYoQd",
        "outputId": "6d28f1a4-5020-4ae0-bb9f-a1991863cf6f"
      },
      "source": [
        "#Cambio la temperatura del sistema a T = 50K, pongo un berendsen y corro 1000 pasos\n",
        "unit_red['Temp0'] = 50\n",
        "tau_ber = 1.0\n",
        "nsteps = 3000\n",
        "X, V, F = simular(nsteps, X, V, F, unit_red, tau_ber, plot_freq)"
      ],
      "execution_count": null,
      "outputs": [
        {
          "output_type": "display_data",
          "data": {
            "image/png": "[encoded data removed]",
            "text/plain": [
              "<Figure size 432x288 with 3 Axes>"
            ]
          },
          "metadata": {
            "tags": []
          }
        }
      ]
    },
    {
      "cell_type": "markdown",
      "metadata": {
        "id": "X7G5IZ7sYoQd"
      },
      "source": [
        "Elimino el Berendsen y veo la dinámica."
      ]
    },
    {
      "cell_type": "code",
      "metadata": {
        "colab": {
          "background_save": true
        },
        "id": "67BMQqmJYoQd",
        "outputId": "2ed3df34-0cd2-4487-f232-1f350be96be4"
      },
      "source": [
        "#Pongo berendsen tau = 0 y corro 2000 pasos\n",
        "nsteps = 2000\n",
        "tau_ber = 0\n",
        "plot_freq = 10\n",
        "X, V, F = simular(nsteps, X, V, F, unit_red, tau_ber, plot_freq)\n",
        "V50 = copy(V)"
      ],
      "execution_count": null,
      "outputs": [
        {
          "output_type": "display_data",
          "data": {
            "image/png": "[encoded data removed]",
            "text/plain": [
              "<Figure size 432x288 with 3 Axes>"
            ]
          },
          "metadata": {
            "tags": []
          }
        }
      ]
    },
    {
      "cell_type": "markdown",
      "metadata": {
        "id": "4_1RI3g7YoQe"
      },
      "source": [
        "Grafico histogramas de las velocidades a las distintas temperaturas para los sistemas termalizados pero sin termostato."
      ]
    },
    {
      "cell_type": "code",
      "metadata": {
        "colab": {
          "background_save": true
        },
        "id": "q-y5FZggYoQe",
        "outputId": "e2ae5b02-c8b7-4c1f-b84d-95dd5af2b98a"
      },
      "source": [
        "fig = plt.figure()\n",
        "ax1 = fig.add_subplot(3,1,1)\n",
        "ax2 = fig.add_subplot(3,1,2)\n",
        "ax3 = fig.add_subplot(3,1,3)\n",
        "ax1.hist(np.sqrt(np.sum(V50**2, axis=1)), range = (0.0, 5.0), bins = 20, label= 'T = 50K', color = 'r', density=True)\n",
        "ax1.legend()\n",
        "ax2.hist(np.sqrt(np.sum(V120**2, axis=1)), range = (0.0, 5.0), bins = 20, label= 'T = 120K', color = 'g', density=True)\n",
        "ax2.legend()\n",
        "ax3.hist(np.sqrt(np.sum(V200**2, axis=1)), range = (0.0, 5.0), bins = 20, label= 'T = 200K', color = 'b')\n",
        "ax3.legend()\n",
        "plt.show()"
      ],
      "execution_count": null,
      "outputs": [
        {
          "output_type": "display_data",
          "data": {
            "image/png": "[encoded data removed]",
            "text/plain": [
              "<Figure size 432x288 with 3 Axes>"
            ]
          },
          "metadata": {
            "tags": []
          }
        }
      ]
    },
    {
      "cell_type": "markdown",
      "metadata": {
        "id": "RhuRBakRYoQe"
      },
      "source": [
        "Para aumentar la estádistica de los histogramas, termalizo y manteniendo el termostato realizo 10 simulaciones de 500 pasos, guardando las velocidades de las partículas. Asumo que en 500 pasos las velocidades están descorrelacionadas y por lo tanto es como muestrear independientemente las velocidades."
      ]
    },
    {
      "cell_type": "code",
      "metadata": {
        "colab": {
          "background_save": true
        },
        "id": "0KHm7E-IYoQe",
        "outputId": "3664d659-386c-4a46-e942-c2fc2adf3fff"
      },
      "source": [
        "V50_x10 = []\n",
        "nsim = 10\n",
        "for i in range(nsim):\n",
        "    print(i)\n",
        "    nsteps = 500\n",
        "    tau_ber = 1.0\n",
        "    unit_red['Temp0'] = 50\n",
        "    plot_freq = 1000\n",
        "    X, V, F = simular(nsteps, X, V, F, unit_red, tau_ber, plot_freq)\n",
        "    V50_x10.append(np.sqrt(np.sum(V**2, axis=1)))\n",
        "V50_x10 = np.array(V50_x10)\n",
        "V50_x10 = V50_x10.reshape(npart*nsim,1)\n",
        "fig = plt.figure()\n",
        "ax1 = fig.add_subplot(1,1,1)\n",
        "ax1.hist(V50_x10, range = (0.0, 5.0), bins = 20, label= 'T = 50K', color = 'r', density = True)\n",
        "ax1.legend()\n",
        "plt.show()"
      ],
      "execution_count": null,
      "outputs": [
        {
          "output_type": "stream",
          "text": [
            "0\n",
            "1\n",
            "2\n",
            "3\n",
            "4\n",
            "5\n",
            "6\n",
            "7\n",
            "8\n",
            "9\n"
          ],
          "name": "stdout"
        },
        {
          "output_type": "display_data",
          "data": {
            "image/png": "[encoded data removed]",
            "text/plain": [
              "<Figure size 432x288 with 1 Axes>"
            ]
          },
          "metadata": {
            "tags": []
          }
        }
      ]
    },
    {
      "cell_type": "markdown",
      "metadata": {
        "id": "kLCXWoScYoQe"
      },
      "source": [
        "Repito a 100K"
      ]
    },
    {
      "cell_type": "code",
      "metadata": {
        "id": "ilwcSmxDYoQe"
      },
      "source": [
        "nsteps = 2000\n",
        "tau_ber = 1.0\n",
        "unit_red['Temp0'] = 100\n",
        "plot_freq = 100\n",
        "X, V, F = simular(nsteps, X, V, F, unit_red, tau_ber, plot_freq)\n",
        "\n",
        "V100_x10 = []\n",
        "nsim = 10\n",
        "for i in range(nsim):\n",
        "    print(i)\n",
        "    nsteps = 500\n",
        "    tau_ber = 1.0\n",
        "    unit_red['Temp0'] = 100\n",
        "    plot_freq = 1000\n",
        "    X, V, F = simular(nsteps, X, V, F, unit_red, tau_ber, plot_freq)\n",
        "    V100_x10.append(np.sqrt(np.sum(V**2, axis=1)))\n",
        "V100_x10 = np.array(V100_x10)\n",
        "V100_x10 = V100_x10.reshape(npart*nsim,1)\n",
        "fig = plt.figure()\n",
        "ax1 = fig.add_subplot(1,1,1)\n",
        "ax1.hist(V100_x10, range = (0.0, 5.0), bins = 20, label= 'T = 100K', color = 'r', density = True)\n",
        "ax1.legend()\n",
        "plt.show()"
      ],
      "execution_count": null,
      "outputs": []
    },
    {
      "cell_type": "markdown",
      "metadata": {
        "id": "vjQUD-dlYoQf"
      },
      "source": [
        "Repito a 200K"
      ]
    },
    {
      "cell_type": "code",
      "metadata": {
        "id": "M0Idm2V9YoQf"
      },
      "source": [
        "nsteps = 2000\n",
        "tau_ber = 1.0\n",
        "unit_red['Temp0'] = 200\n",
        "plot_freq = 100\n",
        "X, V, F = simular(nsteps, X, V, F, unit_red, tau_ber, plot_freq)\n",
        "\n",
        "V200_x10 = []\n",
        "nsim = 10\n",
        "for i in range(nsim):\n",
        "    print(i)\n",
        "    nsteps = 500\n",
        "    tau_ber = 1.0\n",
        "    unit_red['Temp0'] = 200\n",
        "    plot_freq = 1000\n",
        "    X, V, F = simular(nsteps, X, V, F, unit_red, tau_ber, plot_freq)\n",
        "    V200_x10.append(np.sqrt(np.sum(V**2, axis=1)))\n",
        "V200_x10 = np.array(V200_x10)\n",
        "V200_x10 = V200_x10.reshape(npart*nsim,1)\n",
        "fig = plt.figure()\n",
        "ax1 = fig.add_subplot(1,1,1)\n",
        "ax1.hist(V200_x10, range = (0.0, 5.0), bins = 20, label= 'T = 200K', color = 'r', density = True)\n",
        "ax1.legend()\n",
        "plt.show()"
      ],
      "execution_count": null,
      "outputs": []
    },
    {
      "cell_type": "markdown",
      "metadata": {
        "id": "bUQfy_Y8YoQf"
      },
      "source": [
        "Repito a 400K!"
      ]
    },
    {
      "cell_type": "code",
      "metadata": {
        "id": "GxVGh5BUYoQf"
      },
      "source": [
        "nsteps = 2000\n",
        "tau_ber = 1.0\n",
        "unit_red['Temp0'] = 400\n",
        "plot_freq = 100\n",
        "X, V, F = simular(nsteps, X, V, F, unit_red, tau_ber, plot_freq)\n",
        "\n",
        "V400_x10 = []\n",
        "nsim = 10\n",
        "for i in range(nsim):\n",
        "    print(i)\n",
        "    nsteps = 500\n",
        "    tau_ber = 1.0\n",
        "    unit_red['Temp0'] = 400\n",
        "    plot_freq = 1000\n",
        "    X, V, F = simular(nsteps, X, V, F, unit_red, tau_ber, plot_freq)\n",
        "    V400_x10.append(np.sqrt(np.sum(V**2, axis=1)))\n",
        "V400_x10 = np.array(V400_x10)\n",
        "V400_x10 = V400_x10.reshape(npart*nsim,1)\n",
        "fig = plt.figure()\n",
        "ax1 = fig.add_subplot(1,1,1)\n",
        "ax1.hist(V400_x10, range = (0.0, 5.0), bins = 20, label= 'T = 400K', color = 'r', density = True)\n",
        "ax1.legend()\n",
        "plt.show()"
      ],
      "execution_count": null,
      "outputs": []
    },
    {
      "cell_type": "markdown",
      "metadata": {
        "id": "GV7qOFjmYoQf"
      },
      "source": [
        "Grafico todos los histogramas juntos... Boltzman!"
      ]
    },
    {
      "cell_type": "code",
      "metadata": {
        "id": "qWK59yYdYoQf"
      },
      "source": [
        "fig = plt.figure()\n",
        "ax1 = fig.add_subplot(1,1,1)\n",
        "ax1.hist(V400_x10, range = (0.0, 6.0), bins = 25, label= 'T = 400K', color = 'k', alpha = 0.85, density=True)\n",
        "ax1.hist(V200_x10, range = (0.0, 6.0), bins = 25, label= 'T = 200K', color = 'b', alpha = 0.85, density=True)\n",
        "ax1.hist(V100_x10, range = (0.0, 6.0), bins = 25, label= 'T = 100K', color = 'g', alpha = 0.85, density=True)\n",
        "ax1.hist(V50_x10, range = (0.0, 6.0), bins = 25, label= 'T = 50K', color = 'r', alpha = 0.85, density=True)\n",
        "ax1.legend()\n",
        "plt.show()"
      ],
      "execution_count": null,
      "outputs": []
    },
    {
      "cell_type": "markdown",
      "metadata": {
        "id": "AYM2giNvYDqb"
      },
      "source": [
        "## MD 3D"
      ]
    },
    {
      "cell_type": "code",
      "metadata": {
        "id": "dvYMWZVS1WM6"
      },
      "source": [
        "# Data Handling libraries\n",
        "import numpy as np\n",
        "import pandas as pd\n",
        "import scipy.spatial as sc_p\n",
        "\n",
        "# Plot libraries\n",
        "import seaborn as sns\n",
        "import matplotlib.pyplot as plt\n",
        "from mpl_toolkits.mplot3d import Axes3D\n",
        "import mpl_toolkits.mplot3d.axes3d as p3\n",
        "import matplotlib.animation as animation"
      ],
      "execution_count": null,
      "outputs": []
    },
    {
      "cell_type": "code",
      "metadata": {
        "id": "VGuqD_U11WM6"
      },
      "source": [
        "# Plotting format\n",
        "#plt.rcParams['font.serif'] = ['Times New Roman']\n",
        "plt.rcParams.update({'mathtext.default':  'regular' })\n",
        "sns.set(context='paper',style=\"whitegrid\",font='Times New Roman',font_scale=1.2)"
      ],
      "execution_count": null,
      "outputs": []
    },
    {
      "cell_type": "code",
      "metadata": {
        "id": "tT57GBOk1WM7"
      },
      "source": [
        "#Metaconstantes\n",
        "N = 64 #número de partículas\n",
        "NL = 4 #Número de partículas por lado\n",
        "#L = 10.0 #box longitude (angstroms)\n",
        "\n",
        "\n",
        "Nt = 6000 #Número de pasos de tiempo\n",
        "\n",
        "\n",
        "T_INF = 10000.0 #Temperatura deseada\n",
        "dt = 0.001 #tamaño de paso 10**(12) segundos\n",
        "m = 39.948 # Masa del Argón (umas)\n",
        "\n",
        "# $t_n=n*\\tau$\n",
        "tao = 10\n",
        "Tao = tao*dt\n",
        "\n",
        "\n",
        "# Constante de Boltzmann:\n",
        "KB = 1.3806E-23/1.66E-23\n",
        "sigma = 3.405 #A\n",
        "#$r_{min}=2^{1/6}\\sigma$\n",
        "#$(r_min^3 *N) ^(1/3)=(r_min *N^(1/3))$\n",
        "Lp = ((2**(1/6)*sigma)**3*N)**(1/3)\n",
        "L = Lp"
      ],
      "execution_count": null,
      "outputs": []
    },
    {
      "cell_type": "markdown",
      "metadata": {
        "id": "XZ3aeBm3XrgX"
      },
      "source": [
        "**meshgrid**"
      ]
    },
    {
      "cell_type": "code",
      "metadata": {
        "id": "YMA2kPuZhOMB"
      },
      "source": [
        "x = np.arange(-5, 5, 0.1)\n",
        "y = np.arange(-5, 5, 0.1)\n",
        "xx, yy = np.meshgrid(x, y, sparse=True)\n",
        "z = np.sin(xx**2 + yy**2) / (xx**2 + yy**2)\n",
        "plt.contourf(x,y,z)\n",
        "plt.show()"
      ],
      "execution_count": null,
      "outputs": []
    },
    {
      "cell_type": "code",
      "metadata": {
        "id": "Rb-v5_TSxDGa"
      },
      "source": [
        "x = np.zeros(5)\n",
        "y = np.zeros(10)\n",
        "z = np.zeros(15)\n",
        "arrays = np.meshgrid(x, y,z, sparse=True)"
      ],
      "execution_count": null,
      "outputs": []
    },
    {
      "cell_type": "markdown",
      "metadata": {
        "id": "PcsZYINfyKm7"
      },
      "source": [
        "\n",
        "<p align=\"center\">\n",
        "  <img src=\"https://i.stack.imgur.com/8Mbig.png\"  width=55% />\n",
        "</p>\n",
        "\n",
        "[StackOverflow](https://stackoverflow.com/questions/36013063/what-is-the-purpose-of-meshgrid-in-python-numpy)"
      ]
    },
    {
      "cell_type": "code",
      "metadata": {
        "id": "j2xPeQfGxBBs"
      },
      "source": [
        "xvalues = np.array([0, 1, 2, 3, 4])\n",
        "yvalues = np.array([0, 1, 2, 3, 4])\n",
        "\n",
        "xx, yy = np.meshgrid(xvalues, yvalues)\n",
        "\n",
        "plt.plot(xx, yy, marker='.', color='k', linestyle='none')"
      ],
      "execution_count": null,
      "outputs": []
    },
    {
      "cell_type": "code",
      "metadata": {
        "id": "bMDOqOAX1WM7"
      },
      "source": [
        "#Initial conditions\n",
        "def initial_conditions(N,L):\n",
        "    #Arreglo de velocidades de las partículas:\n",
        "    #número de partículas por lado como dimensión \n",
        "    v1 = np.zeros(NL)\n",
        "    v2 = np.zeros(NL)\n",
        "    v3 = np.zeros(NL)\n",
        "    #\n",
        "    vel = np.array(np.meshgrid(v1,v2,v3))\n",
        "                   \n",
        "    #Organization of particles:\n",
        "    c1 = np.arange(0+L/(NL+1), L, L/(NL+1))\n",
        "    c2 = np.arange(0+L/(NL+1), L, L/(NL+1))\n",
        "    c3 = np.arange(0+L/(NL+1), L, L/(NL+1))\n",
        "    pos = np.array(np.meshgrid(c1,c2,c3))\n",
        "\n",
        "    # Track conditions\n",
        "    r = {'x':pos[2].flatten().reshape((1,N)),'y':pos[0].flatten().reshape((1,N)),'z':pos[1].flatten().reshape((1,N))}\n",
        "    v = {'x':vel[2].flatten().reshape((1,N)),'y':vel[0].flatten().reshape((1,N)),'z':vel[1].flatten().reshape((1,N))}\n",
        "    return r, v\n",
        "\n",
        "# Energía Potencial de Lennard-Jones \n",
        "def U_pot(r):\n",
        "    sigma = 3.4 #es la distancia en la que el potencial entre partículas es cero\n",
        "    epsilon = 99.3975903614458 #Profundidad del potencial\n",
        "    return 4*epsilon*((sigma/r)**12-(sigma/r)**6)\n",
        "\n",
        "# Fuerza de L-J:\n",
        "def calc_force(r):\n",
        "    sigma = 3.4\n",
        "    epsilon = 99.3975903614458 #1.65E-21 / 1.66E-23\n",
        "    return -24.0*epsilon/(sigma**2)*(sigma/r)**8*(2*(sigma/r)**6-1.0)\n",
        "\n",
        "# Determine the minkowsky distance 1\n",
        "def minkowski_distance1(x,y):\n",
        "    x = np.asarray(x)\n",
        "    y = np.asarray(y)\n",
        "    return np.sum(y-x,axis=-1)\n",
        "\n",
        "# Obtain the relative position\n",
        "def relative_position(x,y):\n",
        "    m,k = x.shape\n",
        "    n,l = y.shape\n",
        "    result = np.empty((m,n),dtype=float)\n",
        "    for i in range(m):\n",
        "        result[i,:] = minkowski_distance1(x[i],y)\n",
        "    return result"
      ],
      "execution_count": null,
      "outputs": []
    },
    {
      "cell_type": "code",
      "metadata": {
        "id": "6NP1mNlP1WM7"
      },
      "source": [
        "%%time\n",
        "# Generate the initial conditions\n",
        "r, v = initial_conditions(N,L)\n",
        "\n",
        "# Declare empty arrays to have information\n",
        "K = []\n",
        "U = []\n",
        "TOT = []\n",
        "T = [0]\n",
        "V = [np.zeros(N)]\n",
        "\n",
        "# Obtain the particles positions:\n",
        "Rx=[r['x'].reshape(N,)]\n",
        "Ry=[r['y'].reshape(N,)]\n",
        "Rz=[r['z'].reshape(N,)]\n",
        "\n",
        "# Values for the boundaries conditions\n",
        "values = np.array([-L,0,L])\n",
        "\n",
        "# Useful variable names for positions\n",
        "letters = ['x','y','z']\n",
        "\n",
        "\n",
        "for t in range(1,Nt+1):\n",
        "    \n",
        "    # Append the time for each vector. \n",
        "    T.append(t)\n",
        "    \n",
        "    # Obtain the particles boundaries conditions (including centered ones):\n",
        "    boundaries = np.array([[r[elem]+i for  i in values]for elem in letters])\n",
        "    \n",
        "    # In x, y, and z\n",
        "    bx = boundaries[0]\n",
        "    by = boundaries[1]\n",
        "    bz = boundaries[2]\n",
        "    \n",
        "    # Obtain the x, y and z components for each particle\n",
        "    B = []\n",
        "    for i in range(3):\n",
        "        for j in range(3):\n",
        "            for k in range(3):\n",
        "                B.append([bx[k],by[j],bz[i]])\n",
        "    B=np.array(B)\n",
        "    \n",
        "    # Determine the positions of all the particles\n",
        "    all_particles = np.split(np.array([B[:,:,0,i] for i in range(N)]).flatten(),27*N)\n",
        "    \n",
        "    #Obtain a numpy array with the principal positions\n",
        "    rtot = np.array([r['x'],r['y'],r['z']])\n",
        "\n",
        "    # Search for the x,y, and z position for each particle\n",
        "    xyz_pos = np.array([rtot[:,:,i] for i in range(N)]).reshape((N,3))\n",
        "\n",
        "    # Obtain a single vector that has the x, y and z components individually\n",
        "    x_pos = r['x'].reshape((N,1))\n",
        "    y_pos = r['y'].reshape((N,1))\n",
        "    z_pos = r['z'].reshape((N,1))\n",
        "    \n",
        "    # Obtain the distances of all the particles with each other\n",
        "    distances = sc_p.distance_matrix(xyz_pos,all_particles, p=2)\n",
        "    \n",
        "    #Since it is a distance matrix, the value where the distance is 0 should be changed to NAN\n",
        "    distances = np.where(distances==0,np.nan,distances)\n",
        "    \n",
        "    # Determine the force of each interaction depending on the distance, if the distance is 0\n",
        "    # then, the value will be Nan, so it is not affected somehow.\n",
        "    forces = np.nan_to_num(calc_force(distances))\n",
        "    \n",
        "    # Obtain the components for all the particles\n",
        "    x_all = np.array(all_particles)[:,0].reshape(N*27,1)\n",
        "    y_all = np.array(all_particles)[:,1].reshape(N*27,1)\n",
        "    z_all = np.array(all_particles)[:,2].reshape(N*27,1)\n",
        "\n",
        "    # Generate distance matrices with relative position Rj-Ri\n",
        "    x_pos1 = relative_position(x_pos,x_all)\n",
        "    y_pos1 = relative_position(y_pos,y_all)\n",
        "    z_pos1 = relative_position(z_pos,z_all)\n",
        "\n",
        "    # Determine how much the force will affect each particle movement\n",
        "    f = {'x':np.sum(forces*x_pos1,axis=1),'y':np.sum(forces*y_pos1,axis=1),'z':np.sum(forces*z_pos1, axis=1)}\n",
        "    \n",
        "    #Kinetic energy\n",
        "    KE = .5*m*np.sum(v['x']**2+v['y']**2+v['z']**2)\n",
        "    K.append(KE)\n",
        "    \n",
        "    #Potential energy\n",
        "    PE = 0.5*np.sum(np.nan_to_num(U_pot(distances)))\n",
        "    U.append(PE)\n",
        "    \n",
        "    #Total Energy\n",
        "    TOT.append(KE + PE)\n",
        "    \n",
        "    # Change each velocity correspondingly\n",
        "    v['x'] = v['x'] + f['x']/m*dt\n",
        "    v['y'] = v['y'] + f['y']/m*dt\n",
        "    v['z'] = v['z'] + f['z']/m*dt\n",
        "    \n",
        "    # Apply the thermostat to modify the velocity\n",
        "    if t%tao==0:\n",
        "        T_t = 2.0*KE/(3.0*N*KB)\n",
        "        Lamb = np.sqrt(1.0 + dt/Tao*(T_INF/T_t-1))\n",
        "        v['x'] = Lamb*v['x']\n",
        "        v['y'] = Lamb*v['y']\n",
        "        v['z'] = Lamb*v['z']\n",
        "\n",
        "    #Change each position correspondingly\n",
        "    r['x'] = r['x'] + v['x']*dt + .5*f['x']/m*dt**2\n",
        "    r['y'] = r['y'] + v['y']*dt + .5*f['y']/m*dt**2\n",
        "    r['z'] = r['z'] + v['z']*dt + .5*f['z']/m*dt**2\n",
        "    \n",
        "    #Boundary conditions (most time consuming section)\n",
        "    r['x'] = np.where(r['x'] < 0, r['x'] + L, r['x'] )\n",
        "    r['x'] = np.where(r['x'] > L, r['x'] - L, r['x'] )\n",
        "    r['y'] = np.where(r['y'] < 0, r['y'] + L, r['y'] )\n",
        "    r['y'] = np.where(r['y'] > L, r['y'] - L, r['y'] )\n",
        "    r['z'] = np.where(r['z'] < 0, r['z'] + L, r['z'] )\n",
        "    r['z'] = np.where(r['z'] > L, r['z'] - L, r['z'] )\n",
        "\n",
        "    # Append the values for the velocity (as magnitude)\n",
        "    V.append(v['x']**2+v['y']**2+v['z']**2)\n",
        "    \n",
        "    # Append the values for the Positions for each particle\n",
        "    Rx.append(r['x'].reshape(N,))\n",
        "    Ry.append(r['y'].reshape(N,))\n",
        "    Rz.append(r['z'].reshape(N,))"
      ],
      "execution_count": null,
      "outputs": []
    },
    {
      "cell_type": "code",
      "metadata": {
        "id": "uV9Af-Bm1WM9"
      },
      "source": [
        "#Results (positions)\n",
        "x_df = pd.DataFrame(Rx,columns=[f\"p{i+1}\" for i in range(N)])\n",
        "y_df = pd.DataFrame(Ry,columns=[f\"p{i+1}\" for i in range(N)])\n",
        "z_df = pd.DataFrame(Rz,columns=[f\"p{i+1}\" for i in range(N)])\n",
        "\n",
        "# Results (step time, potential energy, kinetic energy, total energy)\n",
        "res = pd.DataFrame({'t':T[:Nt-1],'u':U[:Nt-1],'k':K[:Nt-1],'tot':TOT[:Nt-1]})\n",
        "\n",
        "# Reduce the datasets size each \"print_time\"\n",
        "print_time = 10\n",
        "x_df = x_df[x_df.index % print_time == 0]\n",
        "y_df = y_df[y_df.index % print_time == 0]\n",
        "z_df = z_df[z_df.index % print_time == 0]\n",
        "res = res[res.index % print_time == 0]\n"
      ],
      "execution_count": null,
      "outputs": []
    },
    {
      "cell_type": "code",
      "metadata": {
        "id": "oOjdfuWu1WM9"
      },
      "source": [
        "x_df.head()"
      ],
      "execution_count": null,
      "outputs": []
    },
    {
      "cell_type": "code",
      "metadata": {
        "id": "DER6w6G-1WM-"
      },
      "source": [
        "%matplotlib notebook\n",
        "%matplotlib notebook\n",
        "\n",
        "COLOR=V[0]\n",
        "\n",
        "# Plot 3d scatter graph:\n",
        "plt.close('all')\n",
        "fig = plt.figure(figsize=(10,6))\n",
        "ax1 = fig.add_subplot(121,projection='3d')\n",
        "plot1 = ax1.scatter(x_df.iloc[0],y_df.iloc[0],z_df.iloc[0], c=COLOR, s=10)\n",
        "ax1.set_title('Argon particle movement')\n",
        "ax1.set_xlim3d([0.0, L])\n",
        "ax1.set_xlabel('X')\n",
        "ax1.set_ylim3d([0.0, L])\n",
        "ax1.set_ylabel('Y')\n",
        "ax1.set_zlim3d([0.0, L])\n",
        "ax1.set_zlabel('Z')\n",
        "\n",
        "ax1.view_init(15)\n",
        "ax1.xaxis.pane.fill = False\n",
        "ax1.yaxis.pane.fill = False\n",
        "ax1.zaxis.pane.fill = False\n",
        "ax1.xaxis.pane.set_edgecolor('w')\n",
        "ax1.yaxis.pane.set_edgecolor('w')\n",
        "ax1.zaxis.pane.set_edgecolor('w')\n",
        "\n",
        "\n",
        "\n",
        "# Plot 2d graphs\n",
        "\n",
        "# Kinetic energy plot\n",
        "ax2 = fig.add_subplot(333)\n",
        "sc2, = ax2.plot([],[], label = 'Kinetic Energy', c = 'r', linewidth=0.4)\n",
        "ax2.grid()\n",
        "ax2.ticklabel_format(scilimits=(3,3),useMathText=True)\n",
        "ax2.set_title('Kinetic Energy')\n",
        "ax2.set_xlim([0.0, max(T)])\n",
        "ax2.set_ylim([min(U)-100000, max(K)+100000])\n",
        "ax2.set_ylabel('Energy')\n",
        "plt.xticks([])\n",
        "\n",
        "# Potential energy plot\n",
        "ax3 = fig.add_subplot(336)\n",
        "sc3, = ax3.plot([],[], label = 'Potential Energy', c = 'b', linewidth=0.4)\n",
        "ax3.ticklabel_format(scilimits=(3,3),useMathText=True)\n",
        "ax3.set_title('Potential Energy', c='b')\n",
        "ax3.set_xlim([0.0, max(T)])\n",
        "ax3.set_ylim([min(U)-100000, max(K)+100000])\n",
        "ax3.set_ylabel('Energy')\n",
        "ax3.grid()\n",
        "plt.xticks([])\n",
        "\n",
        "# Total energy plot \n",
        "ax4 = fig.add_subplot(339)\n",
        "sc4, = ax4.plot([],[], label = 'Total Energy', c = 'g',linewidth=0.4)\n",
        "ax4.grid()\n",
        "ax4.ticklabel_format(scilimits=(3,3),useMathText=True)\n",
        "ax4.set_title('Total Energy', c='g')\n",
        "ax4.set_xlim([0.0, max(T)])\n",
        "ax4.set_xlabel('Time Step')\n",
        "ax4.set_ylim([min(U)-100000, max(K)+100000])\n",
        "ax4.set_ylabel('Energy')\n",
        "\n",
        "\n",
        "\n",
        "# Animation function\n",
        "def animate(i):\n",
        "    #ax1.view_init(20,i)\n",
        "    sc2.set_data(res.t[0:i], res.k[0:i])\n",
        "    sc3.set_data(res.t[0:i], res.u[0:i])\n",
        "    sc4.set_data(res.t[0:i], res.tot[0:i])\n",
        "    plot1._offsets3d = (x_df.iloc[i],y_df.iloc[i],z_df.iloc[i])\n",
        "    plot1._facecolors = V[i]\n",
        "    \n",
        "ani = animation.FuncAnimation(fig, animate,interval =30 ,frames=len(x_df), repeat=False)\n",
        "plt.show()"
      ],
      "execution_count": null,
      "outputs": []
    },
    {
      "cell_type": "code",
      "metadata": {
        "id": "_n9K2UaOmOP4"
      },
      "source": [
        "ani"
      ],
      "execution_count": null,
      "outputs": []
    },
    {
      "cell_type": "code",
      "metadata": {
        "id": "cltgWQhCmNOJ"
      },
      "source": [
        "from matplotlib import rc\n",
        "\n",
        "rc('animation', html='jshtml')"
      ],
      "execution_count": null,
      "outputs": []
    },
    {
      "cell_type": "code",
      "metadata": {
        "id": "dZRqDc2q1WM-"
      },
      "source": [
        "Writer = animation.writers['ffmpeg']\n",
        "writer = Writer(fps=15, metadata=dict(artist='Me'), bitrate=1800)\n",
        "ani.save('im.mp4', writer=writer)"
      ],
      "execution_count": null,
      "outputs": []
    },
    {
      "cell_type": "markdown",
      "metadata": {
        "id": "_47UrPd3dX4_"
      },
      "source": [
        "## 5. Conclusiones\n",
        "\n",
        "*   La dinámica molecular (MD) es una poderosa técnica de simulación. Sin embargo, para aplicar MD a simulaciones prácticas (por ejemplo, de sistemas reales), hay que tener en cuenta otras consideraciones.\n",
        "*   No se puede subestimar la importancia de la estructura inicial. Por ejemplo, si la estructura inicial no es representativa de la estructura de equilibrio, puede pasar mucho tiempo antes de que se obtenga la estructura de equilibrio, posiblemente mucho más de lo que se puede simular razonablemente.\n",
        "Ventajas:\n",
        "*  Proporciona (en principio) un conocimiento completo del sistema; si todas las trayectorias son conocidas, todo se puede calcular.\n",
        "*  Acomoda fácilmente estados de no equilibrio y otros\n",
        "situaciones complejas más allá del equilibrio térmico (por\n",
        "preparar las condiciones iniciales adecuadas)\n",
        "* El conocimiento completo de todas las trayectorias es a menudo mucha más información de la necesaria (por ejemplo, estado de equilibrio de un fluido se caracteriza por solo dos variables, p y T)\n"
      ]
    },
    {
      "cell_type": "markdown",
      "metadata": {
        "id": "6ucKfX5Q-7Ga"
      },
      "source": [
        "## 6. Recursos útiles\n",
        "\n",
        "* Martínez, L.; Andrade, R.; Birgin, E. G.; Martínez, J. M. J., Packmol: A Package for Building Initial Configurations\n",
        "for Molecular Dynamics Simulations. Comput. Chem. 2009, 30 (13), 2157–2164. 10.1002/jcc.21224.\n",
        "* [\"Molecular Dynamics tutorial\"](https://pythoninchemistry.org/sim_and_scat/molecular_dynamics/intro#References) Python in Chemistry. (English version)\n",
        "* [\"Dinámica Molecular\"](https://es.wikipedia.org/wiki/Dinámica_molecular)\n",
        "* Eric Ayars , 'Computational Physics with Python\" (libro completo [aquí](https://belglas.files.wordpress.com/2018/03/cpwp.pdf))\n",
        "* [\"How to Think Like a Computer Scientist\"](https://nbviewer.jupyter.org/github/Yorko/mlcourse.ai/blob/master/jupyter_english/tutorials/merging_dataframes_tutorial_max_palko.ipynb) - Think Python Versión 2.0.17 by Allen Doney. (libro completo [aquí](https://www.greenteapress.com/thinkpython/thinkpython.pdf))\n"
      ]
    },
    {
      "cell_type": "markdown",
      "metadata": {
        "id": "DCJQmedunt6w"
      },
      "source": [
        "## 7. Donaciones\n",
        "<br>\n",
        "<center>\n",
        "Puedes donar una vez en el siguiente enlace (Ko-Fi):\n",
        "\n",
        "<br>\n",
        "    \n",
        "*Click en la imagen.*\n",
        "\n",
        "<a href=\"https://ko-fi.com/rcrdphysics\">\n",
        "<img src=\"https://habrastorage.org/webt/8r/ml/xf/8rmlxfpdzukegpxa62cxlfvgkqe.png\" width=20% />\n",
        "\n",
        "</center>"
      ]
    }
  ]
}