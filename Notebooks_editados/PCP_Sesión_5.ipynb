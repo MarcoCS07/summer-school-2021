{
  "nbformat": 4,
  "nbformat_minor": 0,
  "metadata": {
    "kernelspec": {
      "display_name": "Python 3",
      "language": "python",
      "name": "python3"
    },
    "language_info": {
      "codemirror_mode": {
        "name": "ipython",
        "version": 3
      },
      "file_extension": ".py",
      "mimetype": "text/x-python",
      "name": "python",
      "nbconvert_exporter": "python",
      "pygments_lexer": "ipython3",
      "version": "3.6.8"
    },
    "colab": {
      "name": "Sesion_5 WP",
      "provenance": [],
      "collapsed_sections": []
    }
  },
  "cells": [
    {
      "cell_type": "markdown",
      "metadata": {
        "_uuid": "1752ce061957fd1ce93d2e4db9494b7b29da7935",
        "id": "4skdndoa-7GI"
      },
      "source": [
        "<center>\n",
        "\n",
        "\n",
        "<img src=\"https://habrastorage.org/webt/jq/gc/r5/jqgcr5azmatev6zvgufn8xftehy.png\">\n",
        "    \n",
        "#  **II Escuela de Verano en Física Computacional**\n",
        "\n",
        "##Autores: [Neisser Pino R.](https://scholar.google.com.pe/citations?user=pAB28NEAAAAJ&hl=es), [Ricardo Quispe M.](https://github.com/RcrdPhysics)\n",
        "##Institución: Universidad Nacional Mayor de San Marcos\n",
        "##Correo: ricardo.quispe5@unmsm.edu.pe\n",
        "    \n",
        "Este material está sujeto a los términos y condiciones de la licencia [Creative Commons CC BY-NC-SA 4.0](https://creativecommons.org/licenses/by-nc-sa/4.0/). Se permite el uso gratuito para cualquier propósito no comercial.\n",
        "\n",
        "*También puede consultar la última versión de este notebook en nuestro [repositorio](https://github.com/PCPUNMSM) y los videos de clase [en nuestro canal de Youtube](https://www.youtube.com/channel/UCze8vzQLcplutz0nWDNjFCA).*\n",
        "    "
      ]
    },
    {
      "cell_type": "markdown",
      "metadata": {
        "_uuid": "9b690f2c8129ad9445c544337375b93246c26668",
        "id": "Vm9O4SUd-7GJ"
      },
      "source": [
        "# <center> Sesión 5. Ecuaciones Diferenciales I\n",
        "<p align=\"center\">\n",
        "  <img src=\"https://forum.openframeworks.cc/uploads/default/973/window_3150.jpg\"  width=45% />\n",
        "</p>\n",
        "\n",
        "## Outline\n",
        "\n",
        "1. Simbólico\n",
        "2. Euler (y ejemplo)\n",
        "3. Verlet\n",
        "4. Problema físico\n"
      ]
    },
    {
      "cell_type": "markdown",
      "metadata": {
        "id": "PXIkdbaohPh1"
      },
      "source": [
        "## 1. Cálculo Simbólico"
      ]
    },
    {
      "cell_type": "markdown",
      "metadata": {
        "id": "N7j1u17h3g3p"
      },
      "source": [
        "## Máquina de Atwood"
      ]
    },
    {
      "cell_type": "markdown",
      "metadata": {
        "id": "133544xdE0KV"
      },
      "source": [
        "La longitud de la cuerda en la polea de radio $R$ estará compuesta por:\n",
        "\n",
        "$$ x+y+\\pi R = l \\quad \\rightarrow \\quad y = -x + \\pi R-l$$\n",
        "Entonces obtenemos:\n",
        "$$ \\dot{y} = - \\dot{x} $$"
      ]
    },
    {
      "cell_type": "markdown",
      "metadata": {
        "id": "odj3YvAgB9mM"
      },
      "source": [
        "Siendo $x$ e $y$, longitudes de las cuerdas de $m_1$ y $m_2$."
      ]
    },
    {
      "cell_type": "markdown",
      "metadata": {
        "id": "aLaMMujYEm-r"
      },
      "source": [
        "<p align=\"center\">\r\n",
        "  <img src=\"data:image/png;base64,iVBORw0KGgoAAAANSUhEUgAAALMAAAF3CAYAAADuGnrlAAAKN2lDQ1BzUkdCIElFQzYxOTY2LTIuMQAAeJydlndUU9kWh8+9N71QkhCKlNBraFICSA29SJEuKjEJEErAkAAiNkRUcERRkaYIMijggKNDkbEiioUBUbHrBBlE1HFwFBuWSWStGd+8ee/Nm98f935rn73P3Wfvfda6AJD8gwXCTFgJgAyhWBTh58WIjYtnYAcBDPAAA2wA4HCzs0IW+EYCmQJ82IxsmRP4F726DiD5+yrTP4zBAP+flLlZIjEAUJiM5/L42VwZF8k4PVecJbdPyZi2NE3OMErOIlmCMlaTc/IsW3z2mWUPOfMyhDwZy3PO4mXw5Nwn4405Er6MkWAZF+cI+LkyviZjg3RJhkDGb+SxGXxONgAoktwu5nNTZGwtY5IoMoIt43kA4EjJX/DSL1jMzxPLD8XOzFouEiSniBkmXFOGjZMTi+HPz03ni8XMMA43jSPiMdiZGVkc4XIAZs/8WRR5bRmyIjvYODk4MG0tbb4o1H9d/JuS93aWXoR/7hlEH/jD9ld+mQ0AsKZltdn6h21pFQBd6wFQu/2HzWAvAIqyvnUOfXEeunxeUsTiLGcrq9zcXEsBn2spL+jv+p8Of0NffM9Svt3v5WF485M4knQxQ143bmZ6pkTEyM7icPkM5p+H+B8H/nUeFhH8JL6IL5RFRMumTCBMlrVbyBOIBZlChkD4n5r4D8P+pNm5lona+BHQllgCpSEaQH4eACgqESAJe2Qr0O99C8ZHA/nNi9GZmJ37z4L+fVe4TP7IFiR/jmNHRDK4ElHO7Jr8WgI0IABFQAPqQBvoAxPABLbAEbgAD+ADAkEoiARxYDHgghSQAUQgFxSAtaAYlIKtYCeoBnWgETSDNnAYdIFj4DQ4By6By2AE3AFSMA6egCnwCsxAEISFyBAVUod0IEPIHLKFWJAb5AMFQxFQHJQIJUNCSAIVQOugUqgcqobqoWboW+godBq6AA1Dt6BRaBL6FXoHIzAJpsFasBFsBbNgTzgIjoQXwcnwMjgfLoK3wJVwA3wQ7oRPw5fgEVgKP4GnEYAQETqiizARFsJGQpF4JAkRIauQEqQCaUDakB6kH7mKSJGnyFsUBkVFMVBMlAvKHxWF4qKWoVahNqOqUQdQnag+1FXUKGoK9RFNRmuizdHO6AB0LDoZnYsuRlegm9Ad6LPoEfQ4+hUGg6FjjDGOGH9MHCYVswKzGbMb0445hRnGjGGmsVisOtYc64oNxXKwYmwxtgp7EHsSewU7jn2DI+J0cLY4X1w8TogrxFXgWnAncFdwE7gZvBLeEO+MD8Xz8MvxZfhGfA9+CD+OnyEoE4wJroRIQiphLaGS0EY4S7hLeEEkEvWITsRwooC4hlhJPEQ8TxwlviVRSGYkNimBJCFtIe0nnSLdIr0gk8lGZA9yPFlM3kJuJp8h3ye/UaAqWCoEKPAUVivUKHQqXFF4pohXNFT0VFysmK9YoXhEcUjxqRJeyUiJrcRRWqVUo3RU6YbStDJV2UY5VDlDebNyi/IF5UcULMWI4kPhUYoo+yhnKGNUhKpPZVO51HXURupZ6jgNQzOmBdBSaaW0b2iDtCkVioqdSrRKnkqNynEVKR2hG9ED6On0Mvph+nX6O1UtVU9Vvuom1TbVK6qv1eaoeajx1UrU2tVG1N6pM9R91NPUt6l3qd/TQGmYaYRr5Grs0Tir8XQObY7LHO6ckjmH59zWhDXNNCM0V2ju0xzQnNbS1vLTytKq0jqj9VSbru2hnaq9Q/uE9qQOVcdNR6CzQ+ekzmOGCsOTkc6oZPQxpnQ1df11Jbr1uoO6M3rGelF6hXrtevf0Cfos/ST9Hfq9+lMGOgYhBgUGrQa3DfGGLMMUw12G/YavjYyNYow2GHUZPTJWMw4wzjduNb5rQjZxN1lm0mByzRRjyjJNM91tetkMNrM3SzGrMRsyh80dzAXmu82HLdAWThZCiwaLG0wS05OZw2xljlrSLYMtCy27LJ9ZGVjFW22z6rf6aG1vnW7daH3HhmITaFNo02Pzq62ZLde2xvbaXPJc37mr53bPfW5nbse322N3055qH2K/wb7X/oODo4PIoc1h0tHAMdGx1vEGi8YKY21mnXdCO3k5rXY65vTW2cFZ7HzY+RcXpkuaS4vLo3nG8/jzGueNueq5clzrXaVuDLdEt71uUnddd457g/sDD30PnkeTx4SnqWeq50HPZ17WXiKvDq/XbGf2SvYpb8Tbz7vEe9CH4hPlU+1z31fPN9m31XfKz95vhd8pf7R/kP82/xsBWgHcgOaAqUDHwJWBfUGkoAVB1UEPgs2CRcE9IXBIYMj2kLvzDecL53eFgtCA0O2h98KMw5aFfR+OCQ8Lrwl/GGETURDRv4C6YMmClgWvIr0iyyLvRJlESaJ6oxWjE6Kbo1/HeMeUx0hjrWJXxl6K04gTxHXHY+Oj45vipxf6LNy5cDzBPqE44foi40V5iy4s1licvvj4EsUlnCVHEtGJMYktie85oZwGzvTSgKW1S6e4bO4u7hOeB28Hb5Lvyi/nTyS5JpUnPUp2Td6ePJninlKR8lTAFlQLnqf6p9alvk4LTduf9ik9Jr09A5eRmHFUSBGmCfsytTPzMoezzLOKs6TLnJftXDYlChI1ZUPZi7K7xTTZz9SAxESyXjKa45ZTk/MmNzr3SJ5ynjBvYLnZ8k3LJ/J9879egVrBXdFboFuwtmB0pefK+lXQqqWrelfrry5aPb7Gb82BtYS1aWt/KLQuLC98uS5mXU+RVtGaorH1futbixWKRcU3NrhsqNuI2ijYOLhp7qaqTR9LeCUXS61LK0rfb+ZuvviVzVeVX33akrRlsMyhbM9WzFbh1uvb3LcdKFcuzy8f2x6yvXMHY0fJjpc7l+y8UGFXUbeLsEuyS1oZXNldZVC1tep9dUr1SI1XTXutZu2m2te7ebuv7PHY01anVVda926vYO/Ner/6zgajhop9mH05+x42Rjf2f836urlJo6m06cN+4X7pgYgDfc2Ozc0tmi1lrXCrpHXyYMLBy994f9Pdxmyrb6e3lx4ChySHHn+b+O31w0GHe4+wjrR9Z/hdbQe1o6QT6lzeOdWV0iXtjusePhp4tLfHpafje8vv9x/TPVZzXOV42QnCiaITn07mn5w+lXXq6enk02O9S3rvnIk9c60vvG/wbNDZ8+d8z53p9+w/ed71/LELzheOXmRd7LrkcKlzwH6g4wf7HzoGHQY7hxyHui87Xe4Znjd84or7ldNXva+euxZw7dLI/JHh61HXb95IuCG9ybv56Fb6ree3c27P3FlzF3235J7SvYr7mvcbfjT9sV3qID0+6j068GDBgztj3LEnP2X/9H686CH5YcWEzkTzI9tHxyZ9Jy8/Xvh4/EnWk5mnxT8r/1z7zOTZd794/DIwFTs1/lz0/NOvm1+ov9j/0u5l73TY9P1XGa9mXpe8UX9z4C3rbf+7mHcTM7nvse8rP5h+6PkY9PHup4xPn34D94Tz+49wZioAAAAJcEhZcwAAHsIAAB7CAW7QdT4AACAASURBVHic7Z0HfFR1tsfPTJJJIXTpvQsJSAcRBRZXQVTWAtif5flcV9furvp0Lc917YtdV1EXC0URVBYFpNdQDJCEJiX0QKjpySQz73fu3IGbYTIJyczcuf+c7+dz8r9tZs7c+8t/zr9Hu91uMoNN7//3F0huMeXDBStxc68/ffJ1VS6MDrUnghAuRMyCMoiYBWUQMQvKIGIWlEHELCiDiFlQBhGzoAwiZkEZRMyCMoiYBWUQMQvKIGIWlEHELCiDiFlQBhGzoAwiZkEZRMyCMoiYBWUQMQvKIGIWlEHELCiDiFlQBhGzoAwiZkEZRMyCMoiYBWUQMQvKIGIWlEHELCiDiFlQBhGzoAwiZkEZRMyCMoiYBWUQMQvKYJqYZ63b3+lkQYlZHy9YhJYN4zv2quK1pol584FTzdP3nzLr4wWLMKJHs+ZVvdY0MWedKtqBpINZny9Yg8zsvJ1VvdY0MR/NLT5s1mcL1mF3dn6VdWJmAfBD2FwTP7+m8M/fa8OGD6feffqY7ctZzJo5k/bu2ZPtdrsfMduXGrKyqheaJub0jM0rkKww6/NrSnJSjy5IXuvcuQsNGzbcbHfOYumSJbRv7968tPSML832JVxI1ZygDCJmQRlEzIIyiJgFZRAxC8ogYhaUQcQsKIOIWVAGEbOgDCJmQRlEzIIyiJgFZRAxC8ogYhaUQcQsKIOIWVAGEbOgDCJmQRlEzIIyiJgFZRAxC8ogYhaUQcQsKIOIWVAGEbOgDCJmQRlEzIIyiJgFZRAxC8ogYhaUQcQsKIOIWVAGEbOgDCJmQRlEzIIyiJgFZRAxC8ogYq4GU28f0+2281s8MnnrIbNdCUjdmKiW8PXP2Pzqhs//c9xsf0KNiLmKQBQxSMbD/gd2SWJMlMkeVU6UzRaL5G3Yq/D/O6TvQdRVXlfPaoiYKwEiqIfkjzDO4Vqb7E51iYPdxIbvk4L0DdgMCNtlrlvBRcRcAXjodZA8CHsU1shkd4LJINh0WDq+47NIZ0LUbpN9CgoiZh/wgDl+uAv2AqyZ34tsNipt3Aob+8Po2bnjcsRRWb3zKCrnqL/TybAZsLX4zg9D0JZdLdeLiNkAHurF5Ikxe/s774Y4itsmUXGbHlSQX0C0OCW8Dp4r0TGUM+Q6Tcxxe9LIcWgHFH5WZDEAthzffSrSxyHqyP4PDYCImTQRN0DyCnkKd2fhiqtDRR37UEmrbuSO0m8Zi9kicO6c33MEFXYZSHGZmyh2bwa+VJnvZTfArsC9eBLph1aMp2u9mPHwLkfyKayl7znOiVnEnBu77ZFfe1EZ/E9ZcP6FVNShF8Xt+JVi92/BlywXLnNh9z3Yjbgvt0LQmaY4Wk1qrZjxsLiEz7nxA2edtNmpuF0SFXbqR+6Y2LD7FmpcsRB10sX4jskUv3UlxRw9K7IYCtuIe3QfBP2lCS5Wi1opZjykduQp/PTzPVfaoCkVJA+jskSVKjD8U5bYkPL6jyFH1k5K2LKSbMXlQifOpb/AvRqO9H6IusgUJ8+BWidmPJzfI5kCa1zuBMKIwm6DqKgdF/JtZrhmGiXNO5GzcWtKQC7tOLDd9zTX7FyA+3YtBL3PBPeqTK0SMx7I3Ug+gJULgMvqNqb8C0ZqOVVthcMpLiQ6m7SlhIxlZHMWG0/3h63G/bsKgv7VJBcrpVaIGQ+Bs9qXYE/4nitpfT4V9BiqRAEvGHAuXVq/GSWmzvWtn+YC8hLcywkQ9ByT3AuI8mLGzbcjeR92T7kTdjsVdB9KxW26m+JXJOOKT6TcwX9ADr3UN+xIhH2Pe3ozBD3dJPcqRGkx6615/4bdbDzOP6l5fS6n0kYtzHHMAvAvFYcdZXUaUvz2co1DrJkp3NwPQX9mknt+UVbMemjxCfkImXMdLsGX1WlgjmMWo6hjb9yzulQnbaGx9ZB/7SbhHhdD0F+b6F45lBUzeAd2u/GAq059yh1wJbniEs3xyKKUtOhE7miHFkcbWg45s5gMQedD0N+b6N5plBSz3iR7n/GYVqfKQo5NMMkra+Ns0oZy+19Biet/IltZqfcwh3EccoyEoFeZ6J6GcmLGjeU+Bi8Zj7kS6omQg0Bpo5aU3+cySvy1XA4dT55C4YUQ9E4T3VNLzLihXB/6ufEYCzhXhBw0nOe10erk62yYb+zX0QT2A+7/YAg61yzflBEzbuR55GmiPt2Zwh0dg8LeFVoBRggeJc06kK37EErYXK4LdA/yFAonmNXZXwkx6zUXX8Hanj5osyEHuVRr3ROCT3HbZIrKz6HYPWnGw+NgHDv/0wyflBAzeAh2mfFAYZcBWtOsEDq4O2lU7jGKPn7QePhlZC4LkTtvDLc/lhczblwvJC8bjzmbttf6IQshhn/9el9KdVfOIHtRvveoA/YVl1/C3dPO0mLWW/gmkecGanAH9Pyew8xzqpbhcsRTQc8RlLj2P9g7HSonwf4GeyqcvlhazOBh8vTo0rFpN9YdE2eaQ7URZ+NWVNS+pzYky8DjyGymI3feEC4/LCtm3CgOiJ83Hitu2127sUL4Keo6kBzZe8mef9J7iLX1oV7/HJbaDcuKmTxx8unKYw4vCrsONtGd2o3WMSn5Eqqb8iMZwg2eo+MW2Bfh8MGSYsZ/+xAkNxqPFXa/SKtXFsyjtGELKm7djWL3bzUe/gdPDYbcOb+i1wULS4oZ/MO4wxOycEW+YD5auJG1i2ylJd5DHPfx1GYvV/yq4GA5Metj+C45cwSFvvOHmOaPUB6u3Sjq1Jfit602Hn4Mz+195M45ofxsy4kZPGfc4e6JZXXVH0ltJXgKg9jMTWQ/M9qbm2F5SocXQ/m5lhKzHiufyYZtNirq3L/iFwimwIXBok59fPtu3I/n93ooG1IsJWbyzMh5Gh58WVanvlm+CAEoad2d4nemGufi4EkouWbjk1B9pmXErNcrjzUeK+pwgUneCJWh5c5tkyj+t7XGw1wQFDGDO8kw3wV3FOcJAYXIhefoi9uVahyZ0guZ0iCEGiGZPtUSYtb7YNxpPMbTygqRDY+Cdzbv6DtdAU/EU3vFDLjnUBvvDs/O6WzW3jxvhCpTjNjZR8zXI3MKydx1VhHzeONOSYvOMgORRSht2FwbFW/PP+U9xCV2nkY46CO6I17MeohxrfEYi1mwDlzrFLez3BR1PCKl9okZcO+hJt4dnsSltIH/pUaEyIQbtnzEPJozKYQaZ03fXxOsIOZRxh1nk3Zm+SFUE57rmqd7sBecbs3mJlvuURfUNQktKOY2FV0nRDA8RYG2lsoZ+LnWHjHjp4jnCDgzmM9up9JG0vneivgR88XB/oyIFjN5forONJTUa3JmtSfBUnCthg8DeQlnxM3OYH1GpCujXN9OPzdEsAjcgMLz/UXlnfAe4lFCvN7i2opfdW5EupjLLS5ZJrUYloafn0HMDHeuqTVi7mncUa3fcn5+Pq1Zk0Lbt22jw1lZ5HSWUnxCPLVp05aSkpLogt69KSpKncah0rqNz8wJ4aFXMN8/YsWMeIp/hjp69zlWLkuoZ6JHwSMnJ4emTplCC36ZDwE7NcHWa9CAHA4HFR0opPXr1tHM72ZQw4YN6drrrqfRV1yBsq/dbLdrjJ/MKDmY7x+xYgY8qO/0E3RpM91bf0mzjRs30JtvvEG5EHSHbt2oV//+1KFrV0qIi6NYiJkFXVpcTNsyMmjx/Pk06ZOPaemSxfT4X5+g886zdi9B19mreXUK5vtHuphPo8JMnimrV9Prr71K8XXq0OUTJlCb9u3JERNDdpuN3Pr0sDZsJ9arRxcNG0bDR15KSxf8QlMmT6annvgrvfjSP6hp06Ymf4vqw+MD+RfW0CW0VTBrNCJZzOWa+sosLubMzEzkyK9Tnfr1afjYsVS3fj0qLSvTQoxSl4scBjFHI6SIskdRTHQUjb7yKmrfoSO9/MLz9NKL/0evvvY6OWKtuwQyZ0qGQiAXCLgVbFcw3juSxVwuC3LH1THLjxrjgljfeWui1ugzeNQoiktI0Ap7DMfC0RC0Sxcz59Is8JjoaFiMdr5X7wvo/ocfpjdfeYWmTZtGt952m5lfp0a4edL38jUa/JyVF3O5ANHlsO78catWraTdu3dTj0GDyBEfT8XOEnJAqCxoLSeGeMv0lZyiIF4WsRZ+RCGHhvG1Iy/9PS1bvJj+M/tHuho5e/361hz76Oc5Bm0C7UgWc7mir5UnQ/xl3nwtNGjWsSOVQMhRZciJXW5NsCUlTuTGdorTQwcWclysQxdxNK5xUDRSFjnnyGtTUlAgXEJXXX21yd+qevh5jrVCzOUWIXFHWXPqrZKSEkpPT6PGbdqQEwWfMrdLE2Y0byNmZuEWFRMVFRURsluKi4vV4uVYR6wmcA43OOfm1/Tr11+r0Uj9db11xXz2FGpBW2wmksVcvpRj0XrWAwcOaKKNb1AfubJTCyvYODa224upsDiG4iFgjo25C1W9OomwOjgWpwmZj9v117AlJSfTpo1hn5Q+eNjOeo5BK81GspgLi0pdeSUuV2JivfrktkeyqxWTk+MZLmTXYmSnNnGNVluup0U2CLqokEpLPQXCRsid6ycmaoVAFrH3OhYyw1Vz3OhiVXhxTGd0LBUW5FNCdNTRaHvw2g4iWSGN4qLtiXHcbsJLDERYe0mU/nPpdJYEvk4fqxiFhxaDGLl8zuwp7HHOzDkyc/zUKU3YFeXMXGisSmugE+FNVCTOioowK6a0mGIcmvS4kB+0wlAkizmiiXF4fh0LCgoCXteosad8w616Wg2FVofsqY7zFvaio6K10ILJyc/TCn9FEKNvzMyv3b9/HzVuXHmZqaCgED46Kr1OJUTM1SSWc06IJftIdsDrmjdvTgkJCZR39BjF9nRoouTcOlqrqYjR9lm0cXGeDKoIpcFCRxHF4Z+lELlYmaE2w4XYOyMjg/r27Vupf0eOHKFmbdoH46taBhFzDWjQqAlyyv0Br+HcdMDAgbRs2TJyI0RwaPGwp+6YwwaHI+Z0Dsw4S51UVFyiVdfFuKPJ5UaO7nJpMfSyJYsRaxbQwEGDAn4mx9R5ebl0/nlNAl6nGiLmGtC0VWvaumEdFRYWUnx8fIXXXTHmSlqyeDHtTk+n3kOHnhZuTIynHjlGz3kZbjxhQZc4ozSxc8RdQk4OgumryZOpUaNGdOGFFwb0a/Nmz/Ckpi1bB+eLWgQRcw1o3b4zZaxPobS0TTRwYMW5ZZcuXegiiHjlihXUpmNHat62rSZkjpk1IXtrLgA3a3NVnrOUC3q207UYX3w6ifbt3Ut/fvBBhB2BC3YbUlM9VX3tOga8TjVEzDWgXeeuFI24l1vkAomZueeP99L27dtp1dy5NOzqq6hlu3anC3bcscgrWu49xx2Pol1lVFrGIi+lH2d+R7O//56GXnwxjRjxu4CfU4pcfQX+aVq170SOWOu2mlYHEXMN4BqNjt2SaE1KCp04cULrTF8RiYiVn33ueXr2madpwXczqffgwdQXuTWL2eYjZjfEzOHG0ewjNBWhReq6ddQHhb4/P/BgpT6tXLGS8vPy6MJLKy8kqoaIuYb0HnwxbU/fQN/Pmkm333FnwGtbtmypdeF8662JlLpyJW3buJG69+5Nnbp1o6bNmlF8QgKVOZ2UnZVFWzZtog0QMfe4u+aaa+mmW26pdAgV/yPMmPEtcSNT5x49A16rIiLmGtKkRStq3+V8+mnOHLp81Ghq0aJFwOsbogD33PMvaB31Z+EfYD1CAjZfuDpuMAp6118/jtq2q9osTvPnz9Pi6ktGjYXwI/PROkuKqeKics2IzG/sB7feRTISGXrZlTTlw4n00Qfv07MQqjdkCMQghBlsx44d02Jpz4BWp1Yn3bpNa+ratVvAGhJfjh8/Tl8gJDmvWQtK6hc4fjeT/NxcCtVITsuIOffkCapTPzLrTes3Oo8GDBtJqxfOpW+/+YbGjR9f+Yt0uDWvsqq2yuBQ5I3XX6OiwkK6YsLtET34tSA/N2TvbRkxHz2SRXXadTXbjQrpO2Q4Hdyzm6ZO+VoLNbjmIVy89+67tGXzZroIvxCRXrecd+pUEPvJlcc6Ys46QJE8/yeHFpddexPNmvyRVsDj3HHIRReF9DO5wPfxv/5FixYuoOR+g6n3oKEh/bxgkHPyuJuaJYak25hlxJx96AAPkouwvnPl4f4aV910J/3w1STtZ//o0Wy6euwfQvJZ3Or4zltv0erVq+j8Xv3oktFjK3+RyZw8lk2lzpKQPUPLiDkvN8d26vhRLT6NZBIS69I1t91Dc6ZPps8/+4w2Z2yme+69N2Ad9Lmyffs2mvjPf1LWoUPUZ8gwGjJydNDeO5Ts3bm98otqgGXEzOzBzegV4WJmYuPjaeytd1PKorm0dtVSSktPo/HjJ9Co0aMptgbTBGRnZ9P0adNo4YJftNa90eNupY7nJwXR89CyZ8d2am+zFWIzJLVzlhGz3WbLydy2uV6vAdZY9J1j5guRY3bq3pOW/DSL/v35Z/TddzNo5MiRNHz4iCrXHXNNxaZNm7S4mPt2cL+Nbj370JDfj6EEvUO/FeD65QOZO91JretvJeOc20HEMmJOiLbP35W58zoebhOfYJ05NLh2Ydxd99Pu7ZspdeVSmjVzpmY8MJXH8/EkidznmZu7eWoujoW5C+ehQwdp165dWv9l7vYZFR1NnXr0on4XDadGTaw3G+ru7Vvwj1hqaxwXw136areYmyU45u48VXjdzi3pKLlHbqNARXTo2kMzjvt3bE6jfbt30IrlK6i0dHGFr+F/2lbtO1Objl2QwyejgBmqtrPQsyNjI9f45LVOjAtZ4GwZMQ9t0WD9qqycw1s3rm8KMUd0rUYguADbb+gIzbhqjRuDck+doBL8DPNIkugYhxYP12/YSCtMqkBhfh5l7tiGr+v+Npq7AYYIy4jZEWV34WZMOnxg71PHsw9b8qfWF66brgfRsqnM1k2/cncEzoAmUQjWMvFiGTHr8M14MmN9iu3iUdacBKW2wb8+eF4u/OP+lpaesXzq7WNEzEx6xuZdyUk95m7esO6ygcMvs8fG1a7O51Zkz29b6dSJY9xZ5L1Qf5alxKzzeqmzZFTGr6u1/hBCZPPrqiUcTuUgh/4s1J9lOTEjd16QnJy0ccOqZT17DbjIzsOWhMjk0L49dGhvJm++i+eWF+rPs5yYNdzu5wsL8r9LW7eK+lx4idneCBWQsnge58r5yJUnhuPzrClmolm4Sxt+XbG4V3K/QXbv7EJC5LA/cye3+PHmROTKgWfKCRKWFDNujhsFwSeLCgt+WrdsodZsLEQOXIOxfN5stx4rvxGuz7WkmBkI+mcI+ucNq5df3qPvQFv9hkGbs1qoIVtS19Kxw4e4XvlpPKcTlb4gSFhWzDoPu1xl6ct+/iHqyhvvMNsXARQV5NPKBT9xvTI3+X0Yzs+2tJjxX78VufOre3Zse/K39I3UJfkCs12q9SybN5uKiwq5XvmPeD4ha7r2h6XFrPMCcoHrl/78fafWHTrZ4y3ULVI1kKnQ9rRU3vwQQl4a7s+3vJhx04qQO9+BwuDSBT98S1feeLvZLtVKuDPRgu+nc3hxEOHFE2b4YHkxMxD0Cgj6pT07tj6dtnYV9RxQs6H7wrnDGQn3NQc34nmcMsMHJcSs8zzZbJctnzd7QNNWrW3NWrYx259aw/oVixBi8AAS+juEvNwsP5QRMxc2kDtf7yZX6k/Tv2g44e4HJH4OA/t2/UYpi+bx5i/EGYqJKCNmBoLeB0GPz8/NmT9n+mT32FvvtlU2l7FQfU4cPUI/f/sVz5t2EHYD7n+Zmf4oJWYGN3QhBH1/1v697/8yazpdft1NVZr7TTg3ClDg+/HrT13OkuJCFPjG4L4fM9sn5cTM4MZ+AEF33Lkl7bFlP/9giQlSrERxUREL2Z176iRPzHMt7vcms31ilBSzzl9hzdLWrbqV160e/LtRZvujBLy+4Owpn7qPZnFkQXdAyPPM9smLsmLGTXYhd+bZv+usX7H4Wl7pdPCIy812y9KUFBdDyJ+5EcJx3HYv7vEXZvtkRFkxM3oNx43YnLZ++aI/cK5y8eVXme2WJSkqLKAfv5rkPnLoAAv5AdzbsPa7qApKi5nBTS+BoMdh8/NNa1bczC1VI8eOi9iZ5SMRng7hB8TIJ49lc4z837inn5rtkz9qxRPVc+jbsHnst4yND+Tn5tAV42/T5oQTAnPk4H4OLVyFhQVO7N6MeznDbJ8qolaImeEYGsmDEPWOg3t3T5z28ds0evyt9ibNW5rtWsSyZcM6WjJnltvlKjtBnuq3FLN9CkStEbMXPJB3IOjf8nJOTp3x6fv1Lhk91tajzwCz3YooSp1OWjb3R9qcuobr6De43e5rcN/2mO1XZdQ6MTP6KJU+yHFmLpo94wKeN3jEmGsl7ABHDx+ked9NcZ84ms0FvU8h5Pu4Z6LZflWFWilmBg9oNwTNMzC+tHNL2iOH9mW6ho+5xs6TG9ZGeJ679SsX07qlC3hOOJ4W4B7coylm+3Uu1FoxM3hYxUge5bGEhfl5n82ZNrlV5x69tOo7VSYtrApZ+/cQfqHcx7OPcG68hDyNIZkmu3XO1Goxe8GDmw9Bd8fmizs2b/pz5m9bqP/Q39l49VWeF1lV8nJO0aqFP2ujQ3i6WRx6DPYxj34327fqoO6TOkfwAHmBOq7t+BIFoImrF80dkr4+xTVw2KX2br36RvTaeudKcWEhpa5eShtXL3fzwvFgEkKLZ3APssz2rSaImH3AA10LQfMaZDfk5556aeGP37Zfv3yRq9/QEfauPXtburGFe7rxSJyNKcu5txv/dy6A/QXfOdVs34KBdZ9MCNF/ZqdA1N8ivSPn5PGnIeo2+El29RowxN69d3+qUzdUi+YGn+ysA5qIt21K5Tpjjot5se6nzRh0GkpEzAHAw+bf4H9B1Nx8O76wIP/RlMXz+q5ZMp/ad+1O3S/oT207d43I3Jrnr+DlJjJS13APNxYwNxrxP+ebkd74UV0i7ylEIPr8D1+zQdiDEV/evXv7lht3b9sc74iNdXU8P9neoVsPatOhM5k57x0X6Pbu2EY7t6Zrw5l4miwU7A7h1MewSTwSxzTnwoCI+RyBIFYjWQ1RP4R0bElx8bitG9ePhsXY7HZ3i9btbK3ad6QWbdpT89ZtQypu7mNyaF+mNnXs/t2/eavWWMAnIORvsPkN0kVmD2cKFyLmaqLXfnzJBmFzAH0pAtLRENfog3t3t+JrtDVLGjRynde8pZ3XYKnXoCHVhSXWq0/xCYnkqGSBS85ZS4qKUHDLpdxTJynn5AlttapjR7IIoYMLYY+3ioWz4DSkc2A/4XUrwz2bUCQgYg4CEE4Oku90I4i7LZKhENWgUyeO9UQB8oKdW9LOWoXHHhXljo2Nc0dFR7sRd9u4+o8XrSwrK+UqMxuEbGdB+4J/kj04vhGbPFxpFWxlenrGyZB+SQsgYg4BEPde0mNs7zEInNdJ7qgbT+rRyFVW1gi5a31scxbtIM/zKNGN+0Mc1+0ojDv67ILtTkvPyA/ft7EOIuYwAYGzINnWmO2LqoiYBWUQMQvKIGIWlEHELCiDiFlQBhGzoAwiZkEZRMyCMoiYBWUQMQvKIGIWlEHELCiDiFlQBhGzoAwiZkEZRMyCMoiYBWUQMQvKIGIWlEHELCiDiFlQBhGzoAwiZkEZRMyCMoiYBWUQMQvKIGIWlEHELCiDiFlQBhGzoAwiZkEZRMyCMoiYBWUQMQvKIGIWlEHELCiDiDmCSU7q8SGSyekZm1ea7YsVEDFXA4hsEJKHDIcWQ3AfheCjxsHuweetRfo2bDo+pyQEn6MEIubq0Rp2g2G/ABYKMXsZAPsC9qqeW38EUR8O4edZEhGzCUCQzyD5WxUu9X0+LWDPw57Ce0zhFKI+FGz/rIqI2RxSYZ9U4bo7yLN6qxEnbCZ5cmcRsgERswlAhLORzK7sOuS+4+mMmI/BPoa9h9fvD6F7lkXEHPmkw96BfQkRF5jtTCQjYo5sroathIjdZjtiBUTMEQxEvMJsH6yEiDmCQIzcBEl9WBHsIMTsMtklSyFiNhkIeCCSB2G/g22BZcO4UaYezv0b6buwYsNLiiDyo2F31AKImE0CQrUheQ32CGw37DKINE0/F4Pkc/K0Mj7k89KJsIfD56l1EDGbx5vkEWoh7EoIeYv3BLadEPSj2LwRxqLnGo11+umvw+2oVRAxmwCEOpLO5LhvGYXsBceycF0eNuvCMrF/Rzh9tCIiZnMwhg5++3RAyA3JI2SmYcg9UgARszn009P9yHEzK7jmYsP2jtC6owYiZnNw6umxANdMMGxPDqEvyiBiNoe5sLth7RBOxCJ3Nla9cYjRm86I+ROcXxhuB62IiNkcuPvnaPL0i/47xPu4t8ka232QzIJFkadn3b2meWkxRMwmoNdUXESeDkRczzwc+1z11hHGYuac+FZct9RENy2HiNkkINS9EDALmZusua55BowbTQ5Lx6LqIWI2CQiZW/H+FzYG4k0x2x8VEDGbAIR8KXlaAI+TJ1cWgoCI2RyS9LQRbCPEvQ3pEtgq2Ark1L+Z5pmFETGbA8fHL8Dq6fvddPsf3oG49yH5EfYBhJ1uiocWRMQcRvSecnfC7iNPPTK37A2DDYddAmurX9oG9ifyzJnxAAT9fvi9tR4i5jChd+ucTh7h9oNAd+mnWNCT9GvaIbkQNoo883LwYNY3cHwqrj8edqcthog5fDwJ+wPsOYOQy4Hje5CwTYWA30LK03LFwTrD1oTLUasiYg4ft+hpalUuhrBTIegN2OwP2xkyrxRCxBw+TuopD4/6obKLIeTuSLiPBhcCA3VIEnREzOHjcdhPsAcgVG7he4WbtX0v0vsx/xeMp/CaBnssrF5aGBFzmIBwl0Co3I+ZW/3uIo+oM8gTQvDkLgmwDjAuBM6HXcuvMctfKyJiDiP68Khb9JqNZPJ0pcxYhAAACYFJREFULOKcmPtnnIBxwXAzjwE0z0vrImI2AV2sqVTFwqBQNUTMgjKImAVlEDELyiBiFpRBxCwog4hZqBLJST0Sg/E+D/Vu63DYbaf3S1xuR7DeW8QsVIredTU3GO81ccNe30Mv6FZjRMxClWnaohG169DcbDfOYs+uQ3Qk64SIWag6zVs2psGXJJvtxlkUF5eImAW1EDELyiBiFpRBxCwog4hZUAYRs6AMImZBGUTMgjKImAVlEDELyiBiFpRBxCwog4hZUAYRs6AMImZBGUTMgjKImAVlEDELyiBi9kNyUo8xSK4McElHn/0heM0HAa7PTM/Y/ErNPRMCIWL2D09oyHMj16ni9efrVhE31dgjoVJEzH5ALnoQOS0vOvlMEN6O18SeGoT3ESpBxFwxr5FnXb5mNXyfx2Ut7PAgYq4ACDAXufNz2AwUC1fGj3ifxcHxSKgMEXNgPoE9AOtejdeWwv4aXHeEQIiYA4BctRS58xPY/L4aL5+kL/sghAkRcyVAkD9A0EvJsxxwVcmDPRcaj4SKCChmPMTWSHqRZzGZnrBSPNw79HM8md5tsHvIU0j6Guee8fN6ztkuhfFyuXfgmm3B/hJhgJc9Ww2zVXahzmv+lkUTQkuFYtZ/XlmkvERue/3wC/q5eCRfwq41vORpHJ+Dh7hKv4YXb5wBa2C45jnYjUHyPWzgO63B9+F65xuqcPlB2BshdknwQ4VixgN8mVM8xLVIvtIPz8G+gzwxZCZ51qx7BPagfj5efw0vZP457GHYYhi/x3mwlkH2P5w8BbuGPIuzB+JZ3Lv8MPgj+FCVmHmwnh4hjyi5hL8KD+xZPgjhFujneS27DdjnsORd2Chcs0G/pkS/5kCwHA83+C678T3eI88/b0XwIpWfhcklwYeqiPkKPZ0Lu5k3vELWGaanLHRe324ybIJByBxre3PkRTV12GT+DuMyQ8MKzv8F37ssjP4IBiorAHZD0knfXU+eBznacL4xkkH67o+wt2H/hwe63vA21+kpP+TqVHFFDPhex/GdWdCv+zm9EOfnhNsn4QyV5cxj9JQbALhq6j48sGKf81H6NocShTg/w+c9rtfTZTh3pCbORggcQt1PZwrFDIdYj5vijXCaysTsDTFYqKl+GgGu1lOuhuJC31jjSeRiPZAk6bvf1sDPiIH/mfG9eDH3rwyHuVryV7N8EjwEqpqri+RifZcXKX/D5zyX6i/Xd5vA3sUDzfN5G2+uzDnXdzX2NnKYQp6amv6wItjT5rojMIFyZm7ocOjb/4RQC33Oj4B5l7xajfMz/bzHOD1difOHqu9mZMG94PDPzGEFF2jfxv4es30SAovZG2J4ayh8udqw/Xffk3jY3DnHu5pLhSEGruOYewKsIUTxXkBvIwjuDQff/43Nf5jtS7jYuzuLfv5+ldlunEV21gkt9StmvanaK+Z5eHDZfs5fpe9uhf3s5228Yue+vDP1sGU03mu64X14dMZdsMeoZl0tzeJOfB+X2U6EicOnTuTZYTV6EwjHjj9nugW4ye32hKE1xVVRztybztQNT/Nzvi+stb79cQWdz701IZvI08TLjQnl4m68jv8RHoeox5EFqS1C1p9v5C0A6ENFYvbmylwN94Of895cl+uOv/I9CXHayVM4YjiungX7yNuQ4oea/bsLAlUuZg4xTvk57xXzIpw/7Oe8d3la7qvRCPYBrvtPAD9qRQ4nhBa/YobwLgr0IpzvU8n5MuTOQ8gTrizA/snquygIVSNknfMh4J1Idobq/QXBFxlpIiiDiFlQBhGzoAyRIuYY3QSLgYI+t0ck68adynj/Cm/bA84PJ8+UC9xAxl2D7zLWkOE8P3ceR8pTmPFoJO7j83Z1fDFVzPgircgzxpAnInRg/1akU3iIv5l+CVUDz+sh8gyd4w5n3rlFpuh9V7h69kXYk3RmIHB7WBrsef31LF5ux7jQ8LZv4vjU6nQXNlXMcJiHUb2nm2Ax8PwmcqoPXl6gH56tp+/AeHAHV89yV+Ap+vEE/TU8WHoJbCHsFhh3q72TPP3j+Zy1xCwog3ecKLcIz9V7FDYlT7jhxH5bw7Xrsc+C5lbhDw3/EN6pGTg8OVgdJ0TMQjDwzmXNXeo4NuahdTyg2akf944T5fDxF/KM1pnlFbLOKD3diOPHquOEiFmoEchReWCGdxwohxovwcZBkCWGy7xiX0ae+NptnHwd78HjTPvqu77D7qqMiFmoKZwL2/VtnmbiRWPhTR8U7Z2InXPue+lMLuxlvGH7m+o6ImIWaopx0HMWhDzf57xxXCj3+XkU1xT4XOPtArypJtO3iZiFaqPXEXvHgXJ34ef9XOYVM/eMTINY1/q8R1ck3o5r06kGiJiFmjAUVl/f/ti3O7Be/eat6eA+6/7EbhyYUaMR/NH4QB5dXNXZLcNGlM1WrkXQ5aY1Lyb1iLTlFNifR600djHIGFfk+sTPee737o2n38d9OurnGm+8vNFfiKGPEb2bPH3s+X7zRDuf+Js5inPm2Lp1mlLjhu2q/hXMIaKau53OIjpwmBuzTk+CUxvxxsu/QlwZfs57QwyuonvH9ySEyi2/vfTdGfoxbgX+Bu9XpB//F4xDkY3kaSn8EMaNNBN8308LM5o27kS9u4/1PScEIK/gqFfMtRKIrgt5WviYKX7O83C5kfour+3iryHEmLPzpO7ctaEXrv1Cfw9uIt+L/bv0fc7leeWu8bwaGI6nGN9MYmahunhzZf7p91edxtVvcfp2RTOjDjZs30eedRdvMxzjX73T01jwAGKImAdFc5zdwvfNRMxCdfHmqikVTILj/annFRPmVfAexoHMXLX3X8ZYGNvpfl7DIQvXjJw1HZqIWagWENqllZzn2PfWSt6Ge92x0LdUEHP7Q1uRAdfv9T0hYhZMQ288qXJ1nD6REM8RPsbfeRGzYCU4Xn6wgsKkiFmwBnq30tkQ8tKKrhExCxEPhPwn8lTR/WA4xv2ls41Tw4mYhYgGov0LedagnIZtrkHh1mpuJr8EQjZW44mYhcgF4v0bnenPcYvP6ft8rxcxCxELcl5eRPWFql4vYhaUQcQsKIOIWVAGEbOgDCJmQRlEzIIyiJgFZRAxC8ogYhaUQcQsKIOIWVAGEbOgDCJmQRlEzIIyiJgFZRAxC8ogYhaUQcQsKIOIWVAGEbOgDCJmQRlEzIIyiJgFZRAxC8ogYhaUQcQsKIMm5uzju2nDlu/N9sVS8GpTQmShiTknL0szQbAy/w9pVlrPnT1S1AAAAABJRU5ErkJggg==\"  width=15% />\r\n",
        "</p>\r\n"
      ]
    },
    {
      "cell_type": "markdown",
      "metadata": {
        "id": "HCktktWj4GNp"
      },
      "source": [
        "### Solución simbólica "
      ]
    },
    {
      "cell_type": "markdown",
      "metadata": {
        "id": "NL7-FpHs4zh6"
      },
      "source": [
        "Importando librerías:"
      ]
    },
    {
      "cell_type": "code",
      "metadata": {
        "id": "qRLQeOInnWP1"
      },
      "source": [
        "%matplotlib inline\n",
        "import matplotlib.pyplot as plt\n",
        "\n",
        "import numpy as np  \n",
        "import sympy as sym   # analisis simbolico  dx/dt\n",
        "\n",
        "# consideracion simbolica : IMPRESION  x* = dx/dt  (Visualizacion)\n",
        "import sympy.physics.mechanics as mech \n",
        "\n",
        "mech.init_vprinting()\n"
      ],
      "execution_count": null,
      "outputs": []
    },
    {
      "cell_type": "markdown",
      "metadata": {
        "id": "3VTCPPSJ418I"
      },
      "source": [
        "Estableciendo constantes:"
      ]
    },
    {
      "cell_type": "code",
      "metadata": {
        "id": "iHnf0Qe3nWP8"
      },
      "source": [
        "# positive : TRUE  (constantes positivas)\n",
        "R,m1,m2,g,L=sym.symbols('R,m_1,m_2,g,L', positive=True)\n",
        "\n",
        "# variable temporal (independiente)\n",
        "t=sym.symbols('t')\n",
        "\n",
        "# definir la variable X (Simbolica)\n",
        "x=sym.Function('x')\n",
        "\n",
        "# ecuacion polea\n",
        "# sym.pi = 3.14159  (utilizando sympy)  [CORRECTO]\n",
        "#  np.pi = 3.14159  (utilizando numpy)\n",
        "\n",
        "y=-x(t)+ (L-sym.pi*R)"
      ],
      "execution_count": null,
      "outputs": []
    },
    {
      "cell_type": "markdown",
      "metadata": {
        "id": "iWQcPvCw48rG"
      },
      "source": [
        "Definiendo energías:"
      ]
    },
    {
      "cell_type": "code",
      "metadata": {
        "id": "bs2Nf3MPnWQH",
        "colab": {
          "base_uri": "https://localhost:8080/",
          "height": 55
        },
        "outputId": "798186ae-76a3-41f5-b033-5e2296a7886b"
      },
      "source": [
        "# Energía cinética (T)\n",
        "# x.diff(t), y.diff(t) : velocidades\n",
        "# .diff(Variable independiente) : DERIVADA\n",
        "\n",
        "# sym.Rational : FRACCION 1/2 \n",
        "# x(t).diff(t) :  dx/dt \n",
        "# y(t).diff(t) :  dy/dt \n",
        "\n",
        "# OBS. y' = -x'  >>  (y')^2 = (-x^2) = x^2\n",
        "\n",
        "# PRIMERA DERIVADA :  x(t).diff(t)\n",
        "# SEGUNDA DERIVADA :  x(t).diff(t,2)\n",
        "\n",
        "#Expresion simbolica\n",
        "T=sym.Rational(1,2)*m1*(x(t).diff(t)**2) + sym.Rational(1,2)*m2*(y.diff(t)**2)\n",
        "\n",
        "T#.simplify()"
      ],
      "execution_count": null,
      "outputs": [
        {
          "output_type": "execute_result",
          "data": {
            "image/png": "[encoded data removed]",
            "text/latex": "$\\displaystyle \\frac{m_{1} \\dot{x}^{2}}{2} + \\frac{m_{2} \\dot{x}^{2}}{2}$",
            "text/plain": [
              "    2       2\n",
              "m₁⋅ẋ    m₂⋅ẋ \n",
              "───── + ─────\n",
              "  2       2  "
            ]
          },
          "metadata": {
            "tags": []
          },
          "execution_count": 5
        }
      ]
    },
    {
      "cell_type": "code",
      "metadata": {
        "id": "OYVQpg4XnWQK",
        "colab": {
          "base_uri": "https://localhost:8080/",
          "height": 39
        },
        "outputId": "e13839df-c440-4b11-a19d-f89b4114eebe"
      },
      "source": [
        "# Energía potencial (U)\n",
        "\n",
        "# y=-x(t)+ (L-sym.pi*R) [ya estaba definido]\n",
        "\n",
        "U= -m1*g*x(t) - m2*g*y  \n",
        "U#.simplify()"
      ],
      "execution_count": null,
      "outputs": [
        {
          "output_type": "execute_result",
          "data": {
            "image/png": "[encoded data removed]",
            "text/latex": "$\\displaystyle - g m_{1} x - g m_{2} \\left(L - \\pi R - x\\right)$",
            "text/plain": [
              "-g⋅m₁⋅x - g⋅m₂⋅(L - π⋅R - x)"
            ]
          },
          "metadata": {
            "tags": []
          },
          "execution_count": 6
        }
      ]
    },
    {
      "cell_type": "code",
      "metadata": {
        "id": "UpYxYvFcnWQN",
        "colab": {
          "base_uri": "https://localhost:8080/",
          "height": 55
        },
        "outputId": "e281b914-3123-4c21-fe5f-4261e0d78ecb"
      },
      "source": [
        "# Lagrangiano (variable simbolica)\n",
        "Lagr= T-U\n",
        "\n",
        "Lagr#.simplify()"
      ],
      "execution_count": null,
      "outputs": [
        {
          "output_type": "execute_result",
          "data": {
            "image/png": "[encoded data removed]",
            "text/latex": "$\\displaystyle g m_{1} x + g m_{2} \\left(L - \\pi R - x\\right) + \\frac{m_{1} \\dot{x}^{2}}{2} + \\frac{m_{2} \\dot{x}^{2}}{2}$",
            "text/plain": [
              "                                  2       2\n",
              "                              m₁⋅ẋ    m₂⋅ẋ \n",
              "g⋅m₁⋅x + g⋅m₂⋅(L - π⋅R - x) + ───── + ─────\n",
              "                                2       2  "
            ]
          },
          "metadata": {
            "tags": []
          },
          "execution_count": 8
        }
      ]
    },
    {
      "cell_type": "markdown",
      "metadata": {
        "id": "p4PWa8JmHRA7"
      },
      "source": [
        "Obteniendo así el Lagrangiano de la forma: $L(t,x,\\dot x) $"
      ]
    },
    {
      "cell_type": "markdown",
      "metadata": {
        "id": "3HlPel4S5X47"
      },
      "source": [
        "**Construimos nuestra ecuación de Euler Lagrange:**"
      ]
    },
    {
      "cell_type": "markdown",
      "metadata": {
        "id": "X1s9DqPy6C8J"
      },
      "source": [
        "$$ \\frac{\\partial L}{\\partial x} $$"
      ]
    },
    {
      "cell_type": "code",
      "metadata": {
        "id": "GRgHTb0XnWQR",
        "colab": {
          "base_uri": "https://localhost:8080/",
          "height": 39
        },
        "outputId": "a4dbaa8f-5f48-4c06-ab36-83c4b63bbf3c"
      },
      "source": [
        "# Derivada del Lagrangiano con respecto a X\n",
        "# Variable.diff(variable a derivar)\n",
        "rhs=Lagr.diff(x(t))\n",
        "\n",
        "rhs   # variable simbolica "
      ],
      "execution_count": null,
      "outputs": [
        {
          "output_type": "execute_result",
          "data": {
            "image/png": "[encoded data removed]",
            "text/latex": "$\\displaystyle g m_{1} - g m_{2}$",
            "text/plain": [
              "g⋅m₁ - g⋅m₂"
            ]
          },
          "metadata": {
            "tags": []
          },
          "execution_count": 9
        }
      ]
    },
    {
      "cell_type": "markdown",
      "metadata": {
        "id": "5kJ1yLqI6P5n"
      },
      "source": [
        "$$\\frac{d}{dt} \\left( \\frac{\\partial L}{\\partial \\dot x} \\right) $$"
      ]
    },
    {
      "cell_type": "code",
      "metadata": {
        "id": "MfRdpYH7nWQV",
        "colab": {
          "base_uri": "https://localhost:8080/",
          "height": 39
        },
        "outputId": "89ecf09e-c23b-42ac-c14f-59b72ed84e24"
      },
      "source": [
        "# LAGR . diff( x(t).diff(t) ) . diff(t)\n",
        "# diff.(x(t).diff(t)) : dx/dt = x*\n",
        "\n",
        "# LHS = m1 * (dx/dt)^2 + m2 * (dx/dt)^2\n",
        "\n",
        "lhs= Lagr.diff(x(t).diff(t)).diff(t)\n",
        "lhs"
      ],
      "execution_count": null,
      "outputs": [
        {
          "output_type": "execute_result",
          "data": {
            "image/png": "[encoded data removed]",
            "text/latex": "$\\displaystyle m_{1} \\ddot{x} + m_{2} \\ddot{x}$",
            "text/plain": [
              "m₁⋅ẍ + m₂⋅ẍ"
            ]
          },
          "metadata": {
            "tags": []
          },
          "execution_count": 10
        }
      ]
    },
    {
      "cell_type": "markdown",
      "metadata": {
        "id": "l-8bTlJanWQQ"
      },
      "source": [
        "**Euler-Lagrange equation**:\n",
        "\n",
        "$$ \\frac{d}{dt} \\left( \\frac{\\partial L}{\\partial \\dot x} \\right) - \\frac{\\partial L}{\\partial x} = 0$$"
      ]
    },
    {
      "cell_type": "code",
      "metadata": {
        "id": "J9pW4ctp61Dk",
        "colab": {
          "base_uri": "https://localhost:8080/",
          "height": 39
        },
        "outputId": "380adb43-5b29-4593-ff6a-4717d7858a7e"
      },
      "source": [
        "# sym.Eq(A,B) : A = B  (Simbolico)\r\n",
        "\r\n",
        "E_L=sym.Eq(lhs,rhs)   # lhs = rhs\r\n",
        "#E_L=sym.Eq(lhs-rhs,0)  # lhs - rhs = 0\r\n",
        "\r\n",
        "E_L"
      ],
      "execution_count": null,
      "outputs": [
        {
          "output_type": "execute_result",
          "data": {
            "image/png": "[encoded data removed]",
            "text/latex": "$\\displaystyle m_{1} \\ddot{x} + m_{2} \\ddot{x} = g m_{1} - g m_{2}$",
            "text/plain": [
              "m₁⋅ẍ + m₂⋅ẍ = g⋅m₁ - g⋅m₂"
            ]
          },
          "metadata": {
            "tags": []
          },
          "execution_count": 14
        }
      ]
    },
    {
      "cell_type": "markdown",
      "metadata": {
        "id": "-YipaCRv8SF8"
      },
      "source": [
        "**Finalmente resolvemos la ecuación diferencial:**"
      ]
    },
    {
      "cell_type": "markdown",
      "metadata": {
        "id": "JVBV83bv_Lw2"
      },
      "source": [
        ""
      ]
    },
    {
      "cell_type": "markdown",
      "metadata": {
        "id": "ftK3VU_GL7je"
      },
      "source": [
        "$$\\ddot{x}=\\frac{g(m_1-m_2)}{(m_1+m_2)}$$\r\n",
        "\r\n",
        "Sea $$W = \\frac{g(m_1-m_2)}{(m_1+m_2)}$$\r\n",
        "\r\n",
        "Luego, $$\\ddot{x}=W$$\r\n",
        "\r\n",
        "Integrando \r\n",
        "$$\\frac{dx}{dt}=Wt+C_2$$\r\n",
        "\r\n",
        "Integrando \r\n",
        "$$x(t)=0.5Wt^2+C_2 t + C_1$$"
      ]
    },
    {
      "cell_type": "code",
      "metadata": {
        "colab": {
          "base_uri": "https://localhost:8080/",
          "height": 69
        },
        "id": "o1UfzhriaY7P",
        "outputId": "d591d101-0b42-4caa-b42d-269acf87eb93"
      },
      "source": [
        "# sym.dsolve(Ecuacion) : resolver la ecuacion diferencial \r\n",
        "g_pos = sym.dsolve(E_L)  # posición general (constantes de integracion)\r\n",
        "g_pos"
      ],
      "execution_count": null,
      "outputs": [
        {
          "output_type": "execute_result",
          "data": {
            "image/png": "[encoded data removed]",
            "text/latex": "$\\displaystyle x = C_{1} + \\frac{t \\left(C_{2} \\left(m_{1} + m_{2}\\right) + \\frac{g t \\left(m_{1} - m_{2}\\right)}{2}\\right)}{m_{1} + m_{2}}$",
            "text/plain": [
              "           ⎛               g⋅t⋅(m₁ - m₂)⎞\n",
              "         t⋅⎜C₂⋅(m₁ + m₂) + ─────────────⎟\n",
              "           ⎝                     2      ⎠\n",
              "x = C₁ + ────────────────────────────────\n",
              "                     m₁ + m₂             "
            ]
          },
          "metadata": {
            "tags": []
          },
          "execution_count": 15
        }
      ]
    },
    {
      "cell_type": "markdown",
      "metadata": {
        "id": "ypGokrZzh6pE"
      },
      "source": [
        "**Reemplazando valores iniciales**\r\n",
        "\r\n",
        "$$x(0)=0, \\qquad \\left.\\frac{dx}{dt}\\right|_0=0$$"
      ]
    },
    {
      "cell_type": "code",
      "metadata": {
        "id": "aPHqRyYdZr4_"
      },
      "source": [
        "# Sintaxis para las condiciones iniciales : Simitud MATLAB, MATHEMATICA\r\n",
        "\r\n",
        "# PRIMERA CONDICION INICIAL\r\n",
        "#  x(0) = 0  equivale  x(0):0\r\n",
        "\r\n",
        "# SEGUNDA CONDICION INICIAL\r\n",
        "# x'(t)  :  sym.diff(x(t),t)\r\n",
        "# x'(0)  :  sym.diff(x(t),t).subs(t,0)\r\n",
        "\r\n",
        "# x'(0) = 0  :  sym.diff(x(t),t).subs(t,0):0\r\n",
        "\r\n",
        "ics={x(0): 0, sym.diff(x(t), t).subs(t,0): 0}"
      ],
      "execution_count": null,
      "outputs": []
    },
    {
      "cell_type": "code",
      "metadata": {
        "colab": {
          "base_uri": "https://localhost:8080/",
          "height": 58
        },
        "id": "I_rW3aG2_VxK",
        "outputId": "56fe89e0-8f8c-4d3e-8246-5a513cd743bd"
      },
      "source": [
        "# sym.dsolve(Ecuacion, condicion_inicial = condicion_inicial)\r\n",
        "\r\n",
        "pos_eq = sym.dsolve(E_L,ics=ics) # reemplazando condiciones iniciales\r\n",
        "pos_eq #ecuación de posición"
      ],
      "execution_count": null,
      "outputs": [
        {
          "output_type": "execute_result",
          "data": {
            "image/png": "[encoded data removed]",
            "text/latex": "$\\displaystyle x = \\frac{g t^{2} \\left(m_{1} - m_{2}\\right)}{2 \\left(m_{1} + m_{2}\\right)}$",
            "text/plain": [
              "       2          \n",
              "    g⋅t ⋅(m₁ - m₂)\n",
              "x = ──────────────\n",
              "     2⋅(m₁ + m₂)  "
            ]
          },
          "metadata": {
            "tags": []
          },
          "execution_count": 18
        }
      ]
    },
    {
      "cell_type": "code",
      "metadata": {
        "colab": {
          "base_uri": "https://localhost:8080/",
          "height": 58
        },
        "id": "hEj5_Ki7bBoM",
        "outputId": "efbe05d7-5eb1-4090-8e71-841c9eaf6645"
      },
      "source": [
        "# VISUALIZACION DEL LADO DERECHO (SOLUCION)\r\n",
        "pos= pos_eq.rhs   #solo la parte derecha\r\n",
        "\r\n",
        "pos"
      ],
      "execution_count": null,
      "outputs": [
        {
          "output_type": "execute_result",
          "data": {
            "image/png": "[encoded data removed]",
            "text/latex": "$\\displaystyle \\frac{g t^{2} \\left(m_{1} - m_{2}\\right)}{2 \\left(m_{1} + m_{2}\\right)}$",
            "text/plain": [
              "   2          \n",
              "g⋅t ⋅(m₁ - m₂)\n",
              "──────────────\n",
              " 2⋅(m₁ + m₂)  "
            ]
          },
          "metadata": {
            "tags": []
          },
          "execution_count": 19
        }
      ]
    },
    {
      "cell_type": "markdown",
      "metadata": {
        "id": "Dy12hcOtibUy"
      },
      "source": [
        "**Reemplazando valores numéricos**\r\n",
        "\r\n",
        "$$m_1=10, \\quad m_2=5, \\quad g=9.8$$"
      ]
    },
    {
      "cell_type": "code",
      "metadata": {
        "colab": {
          "base_uri": "https://localhost:8080/",
          "height": 39
        },
        "id": "wps-lAWLdw_t",
        "outputId": "66852069-7cf5-46ca-ef21-0ed2bf3ab10f"
      },
      "source": [
        "# REEMPLZADO DE VARIABLE SIMBOLICA a VALOR NUMERICO \r\n",
        "# (variable,valor)  : consideracion independiente\r\n",
        "# Reemplazo :  funcion.subs([ (variable,valor) ])\r\n",
        "\r\n",
        "# variable independiente : SIMBOLICO\r\n",
        "\r\n",
        "pos= pos.subs([(g,9.8),(m1,10),(m2,5)])  # expresion SIMBOLICA\r\n",
        "pos"
      ],
      "execution_count": null,
      "outputs": [
        {
          "output_type": "execute_result",
          "data": {
            "image/png": "[encoded data removed]",
            "text/latex": "$\\displaystyle 1.63333333333333 t^{2}$",
            "text/plain": [
              "                  2\n",
              "1.63333333333333⋅t "
            ]
          },
          "metadata": {
            "tags": []
          },
          "execution_count": 20
        }
      ]
    },
    {
      "cell_type": "code",
      "metadata": {
        "colab": {
          "base_uri": "https://localhost:8080/",
          "height": 39
        },
        "id": "yF-vizwc_D_V",
        "outputId": "d8a3d78a-6af4-4274-a9e4-d3d134fd820a"
      },
      "source": [
        "# X(t) : LONGITUD (Posicion)\r\n",
        "# VELOCIDAD =  dx/dt \r\n",
        "\r\n",
        "vel=pos.diff(t)  # EXPRESION SIMBOLICA\r\n",
        "vel"
      ],
      "execution_count": null,
      "outputs": [
        {
          "output_type": "execute_result",
          "data": {
            "image/png": "[encoded data removed]",
            "text/latex": "$\\displaystyle 3.26666666666667 t$",
            "text/plain": [
              "3.26666666666667⋅t"
            ]
          },
          "metadata": {
            "tags": []
          },
          "execution_count": 28
        }
      ]
    },
    {
      "cell_type": "code",
      "metadata": {
        "colab": {
          "base_uri": "https://localhost:8080/",
          "height": 37
        },
        "id": "dZgYwEI_ayY-",
        "outputId": "85abbc8a-c150-4e48-e88e-136676494c0a"
      },
      "source": [
        "#   X(t) : LONGITUD (Posicion)\r\n",
        "#  X'(t) : VELOCIDAD \r\n",
        "# X''(t) : ACELERACION \r\n",
        "\r\n",
        "accel= vel.diff(t)  # EXPRESION SIMBOLICA (Derivada : primera derivada)\r\n",
        "accel\r\n",
        "\r\n",
        "# OBSERVACION : FUNCIONA PORQUE CONSIDERA QUE ES UN NUMERO round(varible,n)  n:cifras significativas\r\n",
        "#accel_rd = round(accel,2)  # redondeo a 2 cifras \r\n",
        "#accel_rd"
      ],
      "execution_count": null,
      "outputs": [
        {
          "output_type": "execute_result",
          "data": {
            "image/png": "[encoded data removed]",
            "text/latex": "$\\displaystyle 3.26666666666667$",
            "text/plain": [
              "3.26666666666667"
            ]
          },
          "metadata": {
            "tags": []
          },
          "execution_count": 29
        }
      ]
    },
    {
      "cell_type": "code",
      "metadata": {
        "colab": {
          "base_uri": "https://localhost:8080/",
          "height": 37
        },
        "id": "vO2FVAX8CZSJ",
        "outputId": "d1282875-4130-41ed-f59a-39cb5f4ffe82"
      },
      "source": [
        "#   X(t) : LONGITUD (Posicion)\r\n",
        "#  X'(t) : VELOCIDAD \r\n",
        "# X''(t) : ACELERACION \r\n",
        "\r\n",
        "accel= pos.diff(t,2)  # EXPRESION SIMBOLICA (Segunda derivada)\r\n",
        "accel"
      ],
      "execution_count": null,
      "outputs": [
        {
          "output_type": "execute_result",
          "data": {
            "image/png": "[encoded data removed]",
            "text/latex": "$\\displaystyle 3.26666666666667$",
            "text/plain": [
              "3.26666666666667"
            ]
          },
          "metadata": {
            "tags": []
          },
          "execution_count": 21
        }
      ]
    },
    {
      "cell_type": "markdown",
      "metadata": {
        "id": "k37YJyaninfW"
      },
      "source": [
        "**Simbólico a numérico**"
      ]
    },
    {
      "cell_type": "code",
      "metadata": {
        "id": "dkq8-VaabfOU"
      },
      "source": [
        "# SYMPY(Simbolico)  >>  NUMPY (Numerico)\r\n",
        "\r\n",
        "# variable_SALIDA = sym.lambdify(v_indpendiente, funcion, 'numpy')\r\n",
        "\r\n",
        "# expresion simbolica a expresion numerica \r\n",
        "\r\n",
        "np_accel=sym.lambdify(t,accel,'numpy')   # ACELERACION\r\n",
        "np_vel=sym.lambdify(t,vel,'numpy')       # VELOCIDAD\r\n",
        "np_pos=sym.lambdify(t,pos,'numpy')       # POSICION "
      ],
      "execution_count": null,
      "outputs": []
    },
    {
      "cell_type": "markdown",
      "metadata": {
        "id": "Gw669MFKjMGf"
      },
      "source": [
        "**Solución analítica de posición y velocidad**"
      ]
    },
    {
      "cell_type": "code",
      "metadata": {
        "colab": {
          "base_uri": "https://localhost:8080/",
          "height": 297
        },
        "id": "n8HWOF8ObzR1",
        "outputId": "95c48459-8a19-4792-829d-a06efcd9346e"
      },
      "source": [
        "# VECTOR para la variable TEMPORAL (tiempo)\r\n",
        "tt=np.linspace(0,50)\r\n",
        "\r\n",
        "# Evaluacion de la funcion (NUMPY) con el Vector(tt)\r\n",
        "pos_numpy=np_pos(tt)\r\n",
        "\r\n",
        "# PLOTEO DE LA FUNCION (NUMPY)\r\n",
        "plt.plot(tt,pos_numpy,color='r')\r\n",
        "\r\n",
        "plt.xlabel('Tiempo (s)')       # EJE X\r\n",
        "plt.ylabel('Posición (m)')   # EJE Y\r\n",
        "plt.title('Máquina de Atwood - $m_1$= 10Kg , $m_2$=5kg, g=9.8')   # TITULO DE LA GRAFICA\r\n",
        "plt.grid()\r\n"
      ],
      "execution_count": null,
      "outputs": [
        {
          "output_type": "display_data",
          "data": {
            "image/png": "[encoded data removed]",
            "text/plain": [
              "<Figure size 432x288 with 1 Axes>"
            ]
          },
          "metadata": {
            "tags": [],
            "needs_background": "light"
          }
        }
      ]
    },
    {
      "cell_type": "code",
      "metadata": {
        "colab": {
          "base_uri": "https://localhost:8080/",
          "height": 297
        },
        "id": "xlKjMJUqbobc",
        "outputId": "bd4810e3-5c23-4117-9d50-c57966fa2855"
      },
      "source": [
        "# Evaluacion de la velocidad en el tiempo considerado (vector)\r\n",
        "vel_numpy=np_vel(tt)\r\n",
        "\r\n",
        "# PLOTEO DE LA VELOCIDAD\r\n",
        "plt.plot(tt,vel_numpy)\r\n",
        "\r\n",
        "plt.xlabel('Tiempo (s)')        # EJE X\r\n",
        "plt.ylabel('Velocidad (m/s)')   # EJE Y\r\n",
        "plt.title('Máquina de Atwood - $m_1$= 10Kg , $m_2$=5kg, g=9.8')   # TITULO DE LA GRAFICA\r\n",
        "plt.grid()"
      ],
      "execution_count": null,
      "outputs": [
        {
          "output_type": "display_data",
          "data": {
            "image/png": "[encoded data removed]",
            "text/plain": [
              "<Figure size 432x288 with 1 Axes>"
            ]
          },
          "metadata": {
            "tags": [],
            "needs_background": "light"
          }
        }
      ]
    },
    {
      "cell_type": "code",
      "metadata": {
        "colab": {
          "base_uri": "https://localhost:8080/",
          "height": 297
        },
        "id": "ZsV2FJKmFe1l",
        "outputId": "f8913f8a-c4e3-4a13-b089-7f5a25bd232c"
      },
      "source": [
        "# Evaluacion delas funciones en el tiempo (vector)\r\n",
        "vel_numpy=np_vel(tt)      # VELOCIDAD    (depende del tiempo)\r\n",
        "pos_numpy=np_pos(tt)      # POSICION     (depende del tiempo)\r\n",
        "\r\n",
        "# ERROR AL EVALUAR\r\n",
        "#accel_numpy=np_accel(tt)  # ACELERACION  (valor constante)\r\n",
        "\r\n",
        "# REDEFINICION de la ACELERACION (Graficar)\r\n",
        "acela = np.ones(50)  # vector de valores UNO (tamaño final) \r\n",
        "acel = accel_numpy*acela  # vector aceleracion (vector UNOS)\r\n",
        "\r\n",
        "# PLOTEO \r\n",
        "plt.plot(tt,pos_numpy,color='b')  # POSICION\r\n",
        "plt.plot(tt,vel_numpy,color='r')  # VELOCIDAD\r\n",
        "plt.plot(tt,acel,color='m')       # ACELERACION\r\n",
        "\r\n",
        "plt.xlabel('Tiempo (s)')        # EJE X\r\n",
        "plt.legend(['Posicion','Velocidad','Aceleracion'])\r\n",
        "plt.title('Máquina de Atwood - $m_1$= 10Kg , $m_2$=5kg, g=9.8')   # TITULO DE LA GRAFICA\r\n",
        "plt.grid()"
      ],
      "execution_count": null,
      "outputs": [
        {
          "output_type": "display_data",
          "data": {
            "image/png": "[encoded data removed]",
            "text/plain": [
              "<Figure size 432x288 with 1 Axes>"
            ]
          },
          "metadata": {
            "tags": [],
            "needs_background": "light"
          }
        }
      ]
    },
    {
      "cell_type": "markdown",
      "metadata": {
        "id": "m4e-sOgij_49"
      },
      "source": [
        "## 2. Método de Euler"
      ]
    },
    {
      "cell_type": "markdown",
      "metadata": {
        "id": "2VnmkrxrpuAG"
      },
      "source": [
        "### Problema bien planteado"
      ]
    },
    {
      "cell_type": "markdown",
      "metadata": {
        "id": "0LG7OO0HkvVE"
      },
      "source": [
        "El problema de valor inicial:\r\n",
        "\r\n",
        "$$\\frac{dy}{dt}=f(t,y), \\qquad a\\leq t\\leq b, \\qquad y(a)=\\alpha,$$\r\n",
        "\r\n",
        "Se dice que es un **problema bien planteado** si:\r\n",
        "\r\n",
        "\r\n",
        "\r\n",
        "1.   Existe una única, y(t), y\r\n",
        "2.   Existen constante $\\epsilon \\gt 0$ y $k \\gt 0$, tales que para cualquier $\\epsilon$ en $(0,\\epsilon_0)$, siempre que $\\delta(t)$ es continua con $|\\delta(t)|\\lt \\epsilon$ para todo t en $[a,b]$ y cuando $|\\delta_0|\\lt \\epsilon$, el problema de valor inicial\r\n",
        "\r\n",
        "$$\\frac{dz}{dt}=f(t,z)+\\delta(t), \\qquad a \\leq t \\leq b, \\qquad z(a)  =\\alpha + \\delta_0 $$\r\n",
        "\r\n",
        "tiene una única solución $z(t)$ que satisfac e\r\n",
        "\r\n",
        "$$|z(t)-y(t)|\\lt k\\epsilon$$\r\n",
        "\r\n",
        "para todo $t$ en $[a,b]$.\r\n"
      ]
    },
    {
      "cell_type": "markdown",
      "metadata": {
        "id": "vnPerDoUpwZ9"
      },
      "source": [
        "### Método"
      ]
    },
    {
      "cell_type": "markdown",
      "metadata": {
        "id": "P9ze0jBqmM0n"
      },
      "source": [
        "El objetivo del método de Euler es obtener aproximaciones para el problema de valor inicial bien planteado:\r\n",
        "\r\n",
        "$$\\frac{dy}{dt}=f(t,y), \\qquad a\\leq t\\leq b, \\qquad y(a)=\\alpha \\qquad \\qquad (1)$$\r\n"
      ]
    },
    {
      "cell_type": "markdown",
      "metadata": {
        "id": "ZH_WQqSXnhQG"
      },
      "source": [
        "No se obtendrá una aproximación continua a la solución $y(t)$; en su lugar, las aproximaciones se generarán para varios valores llamados **puntos de malla** en el intervalo $[a,b]$.\r\n",
        "\r\n",
        "Una vez que se obtiene la solución aproximada en los puntos, la solución aproximada en otros puntos en el intervalo se puede encontrar a través de interpolación.\r\n",
        "\r\n",
        "primero estipulamos que los puntos de ma ya están Igualmente espaciados a lo largo del intervalo $[a,b]$. Esta copndición se garantiza al seleccionar un entero positivo $N$, al establecer $h=(b-a)/N$, y seleccionar los puntos de malla\r\n",
        "\r\n",
        "$$t_i=a+ih, \\qquad i=0,1,2,..,N.$$"
      ]
    },
    {
      "cell_type": "markdown",
      "metadata": {
        "id": "Y--ShnJZofi2"
      },
      "source": [
        "Usaremos el teorema de Taylor para deducir el método de Euler para deducir el método de Euler. Suponga que $y(t)$, la única solución, tiene dos derivada continuas en $[a,b]$, de tal forma que cada $i=0,1,2,...,N-1$.\r\n",
        "\r\n",
        "$$y(t_ {i+1})=y(t_i)+(t_{i+1}-t_i)y'(t_i)+\\frac{(t_{i+1}-t_i)^2}{2}y''(\\xi_i),$$\r\n",
        "\r\n",
        "y ya que $y(t)$ satisface la ecuación (1).\r\n",
        "\r\n",
        "$$y(t_{i+1})=y(t_i)+hf(t_i,y(t_i))+\\frac{h^2}{2}y''(\\xi_i)$$\r\n",
        "\r\n",
        "El método de Euler es \r\n",
        "\r\n",
        "$$w_0=\\alpha$$\r\n",
        "\r\n",
        "$$w_{i+1}=w_i +hf(t_i,w_i), \\qquad i =0,1,...,N-1$$"
      ]
    },
    {
      "cell_type": "code",
      "metadata": {
        "id": "POs19gJerlc2"
      },
      "source": [
        "# Algoritmo EULER : EDO \r\n",
        "# f : funcion de la EDO : y' = f(x,y)\r\n",
        "# x0 : punto inicial del dominio\r\n",
        "# xn : punto final del dominio\r\n",
        "# y0 : condicion inicial en x0 \r\n",
        "# n : numero de pasos \r\n",
        "\r\n",
        "def euler(f,x0,xn,y0,n):\r\n",
        "    \r\n",
        "    h = (xn-x0)/n  # tamaño de paso (Dominio)\r\n",
        "\r\n",
        "    x0_l=[] # lista de pasos (dominio)\r\n",
        "    yn_l=[] # lista de soluciones (funcion)\r\n",
        "\r\n",
        "    for i in range(n):  # bucle de iteraciones\r\n",
        "\r\n",
        "        slope = f(x0, y0)    # f(x,y) en datos iniciales (tamaño de paso)\r\n",
        "        yn = y0 + h * slope  # Algoritmo EULER \r\n",
        "\r\n",
        "        y0 = yn   # actualiza el yn (la solución) [RECURSIVA]\r\n",
        "        x0 = x0+h #actualiza el paso [Iterativa]\r\n",
        "\r\n",
        "        x0_l.append(x0)  # almacenando el valor en la LISTA (Dominio)\r\n",
        "        yn_l.append(y0)  # almacenando el valor en la LISTA (Solucion)\r\n",
        "    \r\n",
        "    return(yn_l) # devuelve la solución numérica para cada n-ésimo paso"
      ],
      "execution_count": null,
      "outputs": []
    },
    {
      "cell_type": "markdown",
      "metadata": {
        "id": "x4Qu1filvVtW"
      },
      "source": [
        "### Ley de enfriamiento de Newton\r\n",
        "\r\n",
        "Ley que describe como un objeto con una temperatura inicial  $T(t_0)=T_0$ es enfriado en una temperatura ambiente $T_R$\r\n",
        "\r\n",
        "$$\\frac{dT(t)}{dt}=-k\\Delta T =-k(T(t)-T_R)$$\r\n",
        "\r\n",
        "$\\frac{dT(t)}{dt}$ nos dice la taza de enfriamiento de un objeto es proporcional a la diferencia de temperaturas."
      ]
    },
    {
      "cell_type": "markdown",
      "metadata": {
        "id": "omxgi1OfzcuX"
      },
      "source": [
        "\r\n",
        "Cuya solución analítica es: \r\n",
        "\r\n",
        "$$T(t)=T_R+(T(0)-T_R)e^{-kt}$$"
      ]
    },
    {
      "cell_type": "code",
      "metadata": {
        "id": "18iDLQtZrkh_"
      },
      "source": [
        "# VALORES DE LAS CONSTANTES\r\n",
        "# k=0.07    TASA DE ENFRIAMIENTO\r\n",
        "# T_R=20°C  TEMPERATURA DEL MEDIO\r\n",
        "\r\n",
        "# Ec. Diferencial (NEWTON)\r\n",
        "def newtoncooling(time, temp):\r\n",
        "\treturn -0.07 * (temp - 20)\r\n",
        " \r\n",
        "#Solucion ANALITICA (NEWTON)\r\n",
        "def newtoncooling_ana(t,TR=20,T0=100,k=0.07):\r\n",
        "  return TR+(T0-TR)*np.exp(-k*t)   #TR Temperatura de entorno"
      ],
      "execution_count": null,
      "outputs": []
    },
    {
      "cell_type": "code",
      "metadata": {
        "id": "6hZyUeExwQMx"
      },
      "source": [
        "# VALOR DEL TIEMPO (Dominio)\r\n",
        "a=0\r\n",
        "b=100 \r\n",
        "\r\n",
        "# NUMERO DE DATOS \r\n",
        "N1=10 \r\n",
        "N2=100\r\n",
        "N3=1000\r\n",
        "\r\n",
        "# TAMAÑO DE PASO \r\n",
        "h1=(a-b)/N1\r\n",
        "h2=(a-b)/(N2) \r\n",
        "h3=(a-b)/(N3)\r\n",
        "\r\n",
        "# VECTOR DOMINIO (tiempo)\r\n",
        "#t_T=np.linspace(a,b,N2)\r\n",
        "#t_T=np.linspace(a,b,N1)\r\n",
        "t_T=np.linspace(a,b,N3)\r\n",
        "\r\n",
        "#Temp_1= euler(newtoncooling,a,b,100,N1)\r\n",
        "#Temp_2= euler(newtoncooling,a,b,100,N2)\r\n",
        "Temp_3= euler(newtoncooling,a,b,100,N3)\r\n",
        "\r\n",
        "# Solucion analitica NEWTON\r\n",
        "Temp_ana=newtoncooling_ana(t_T)  # Evaluacion en el vector TIEMPO"
      ],
      "execution_count": null,
      "outputs": []
    },
    {
      "cell_type": "code",
      "metadata": {
        "colab": {
          "base_uri": "https://localhost:8080/",
          "height": 295
        },
        "id": "qAFdyxeeyMCQ",
        "outputId": "773a73c0-26f5-4228-baf9-ece7452cc17a"
      },
      "source": [
        "fig = plt.figure()\r\n",
        "# PLOTEO DE LAS APROXIMACIONES (EULER)\r\n",
        "#plt.plot(t_T,Temp_1)\r\n",
        "#plt.plot(t_T,Temp_2, '--')\r\n",
        "plt.plot(t_T,Temp_3)\r\n",
        "\r\n",
        "# PLOTEO DE LA SOLUCION ANALITICA \r\n",
        "plt.plot(t_T,Temp_ana)\r\n",
        "\r\n",
        "plt.legend([\"Numérico\", \"Analítico\"])\r\n",
        "plt.xlabel('Tiempo')\r\n",
        "plt.ylabel('Temperatura')\r\n",
        "plt.title('Ley de Enfriamiento de Newton')\r\n",
        "plt.grid()\r\n",
        "plt.show() "
      ],
      "execution_count": null,
      "outputs": [
        {
          "output_type": "display_data",
          "data": {
            "image/png": "[encoded data removed]",
            "text/plain": [
              "<Figure size 432x288 with 1 Axes>"
            ]
          },
          "metadata": {
            "tags": [],
            "needs_background": "light"
          }
        }
      ]
    },
    {
      "cell_type": "markdown",
      "metadata": {
        "id": "vsZDa5mIaQ0c"
      },
      "source": [
        "**MODELAMIENTO MATEMATICO**\r\n",
        "\r\n",
        "Modelos (Ecuaciones Diferencial) \r\n",
        "\r\n",
        "**Ordinaria**, Parcial, Retardo, Estocastica, Impulsiva \r\n",
        "\r\n",
        "\r\n",
        "1.   Tipo Lineal    : Solucion ANALITICA\r\n",
        "2.   Tipo NO Lineal : Dificilmente (casi nunca) se encuentra su Solucion Analitica.\r\n",
        "\r\n",
        "**METODO NUMERICO (Soluciones Aproximadas)** \r\n",
        "\r\n",
        "Realizar operaciones (algoritmo) : converja a un punto. No tiene una nocion hacia esta convergiendo. \r\n",
        "\r\n",
        "\r\n",
        "**ANALISIS CUALITATIVO (Comportamiento de las soluciones)**\r\n",
        "\r\n",
        "Buscar cuando los parametros utilizados logran estabilizar el modelo (estado estacionario). Tiene un enfoque en el truncamiento del Polinomio de Taylor (Equivalencia topologica entre una Ecuacion No Lineal y una \"ecuacion lineal\").\r\n",
        "\r\n"
      ]
    },
    {
      "cell_type": "markdown",
      "metadata": {
        "id": "xfV44df58O-7"
      },
      "source": [
        "## 3. Método de Verlet"
      ]
    },
    {
      "cell_type": "markdown",
      "metadata": {
        "id": "aQVZY7QW9Oyb"
      },
      "source": [
        "##### El problema de valor inicial (de segundo orden):\n",
        "\n",
        "\\begin{equation}\n",
        "\\left\\{\n",
        "\t       \\begin{array}{ll}\n",
        "\t\t y'' = F(y) \\\\\n",
        "\t\t y(0) = \\alpha \\\\\n",
        "         y'(0) = \\beta\n",
        "\t       \\end{array}\n",
        "\t     \\right.\n",
        "\\end{equation}\n",
        "\n",
        "##### se discretiza de manera similar al método de Euler y luego se aplica el siguiente algoritmo (*la deducción de este algoritmo se realiza truncando series de Taylor hacia adelante y hacia atras de $F(y)$*):\n",
        "\n",
        "\\begin{equation}\n",
        "\\left\\{\n",
        "\t       \\begin{array}{ll}\n",
        "\t\t y_0 = \\alpha \\\\\n",
        "\t\t y_{-1} = y_0 - \\beta \\Delta x + \\frac{1}{2}F(y_0)\\Delta x^2 \\\\\n",
        "         y_{i+1} = 2 y_i -y_{i-1} + F(y_i)\\Delta x^2\n",
        "\t       \\end{array}\n",
        "\t     \\right.\n",
        "\\end{equation}"
      ]
    },
    {
      "cell_type": "markdown",
      "metadata": {
        "id": "ZLFzksExcOSb"
      },
      "source": [
        "**OBS.** Ecuaciones de segundo orden (no interviene la variable independiente). \r\n",
        ">> Ecuacion de orden **n** se puede expresar como un sistema de ecuaciones de primer orden. "
      ]
    },
    {
      "cell_type": "code",
      "metadata": {
        "id": "CVhkp6ie9Oyb"
      },
      "source": [
        "import numpy as np\n",
        "import matplotlib.pyplot as plt\n",
        "\n",
        "# f : funcion de la EDO\n",
        "# a : condicion inicial EDO\n",
        "# xf : Punto final del dominio\n",
        "# niter : numero de iteraciones\n",
        "\n",
        "# pow(r,q) :  'r' elevado a la 'q'\n",
        "\n",
        "def verlet(f,a,b,xf,niter):\n",
        "    dx = xf/(niter-1)  # variacion de X (discretizacion)\n",
        "\n",
        "    xs = np.arange(0,xf+dx,dx)  # vector 0 hasta xf\n",
        "    ys = np.zeros(np.size(xs))  # vector de ceros (tamaño xs)\n",
        "\n",
        "    yinit = a - dx*b + 0.5*dx*dx*f(a)   # paso de arranque algoritmo\n",
        "\n",
        "    ys[0] = yinit  # primer elemento del vector SOLUCION\n",
        "    ys[1] = a      # segundo elemento del vector SOLUCION (Condicion del problema)\n",
        "\n",
        "    for i in range(1,niter-1):   # bucle de las iteraciones\n",
        "\n",
        "        ys[i+1] = 2*ys[i] - ys[i-1] + f(ys[i])*pow(dx,2)  # vector de la SOLUCION \n",
        "\n",
        "    return xs, ys"
      ],
      "execution_count": null,
      "outputs": []
    },
    {
      "cell_type": "markdown",
      "metadata": {
        "id": "L2PU9-XL9Oyc"
      },
      "source": [
        "\n",
        "#### Solución a un problema de caida libre:\n",
        "##### Se suelta un objeto (inicialmente en reposo) desde una altura de $100$ m.\n",
        "\n",
        "\\begin{equation}\n",
        "\\left\\{\n",
        "\t       \\begin{array}{ll}\n",
        "\t\t y'' = -g \\\\\n",
        "\t\t y(0) = 100 \\\\\n",
        "         y'(0) = 0\n",
        "\t       \\end{array}\n",
        "\t     \\right.\n",
        "\\end{equation}"
      ]
    },
    {
      "cell_type": "code",
      "metadata": {
        "colab": {
          "base_uri": "https://localhost:8080/",
          "height": 297
        },
        "id": "iOI3R6U99Oyc",
        "outputId": "cf955a38-f703-4d56-a125-c1ef6962ceb1"
      },
      "source": [
        "# Solucion de un problema de caida libre\n",
        "\n",
        "# Funcion de la EDO\n",
        "def f(y):\n",
        "    return -9.8\n",
        "\n",
        "################################\n",
        "# Punto referencial (Verlet)\n",
        "pos0 = 4.5\n",
        "\n",
        "# Algoritmo de Verlet\n",
        "# a = 100    : condicion inicial \n",
        "# b = 0      : tiempo inicial (dominio)\n",
        "# pos0 = 4.5 : valor referencial Verlet (Retardo)\n",
        "# n = 10     : numero de iteraciones\n",
        "\n",
        "t, y = verlet(f,100.0,0.0,pos0,100)\n",
        "###################################\n",
        "# Algoritmo de EULER\n",
        "\n",
        "# OBSERVACION\n",
        "#ws = euler(f,0,pos0,100,100)  # ECUACION DIFERENCIAL (1er Orden)\n",
        "\n",
        "\n",
        "# SOLUCION EXACTA \n",
        "def sol_ex(t):\n",
        "    return 100 - 9.8/2.0*pow(t,2)\n",
        "\n",
        "# CONSIDERACIONES : Dominio y Solucion\n",
        "t_ex = np.arange(0.0,pos0+0.1,0.1)  # vector temporal \n",
        "y_ex = np.zeros(np.size(t_ex))      # solucion (tiempo)\n",
        "\n",
        "# evaluar la solucion(tiempo) en el dominio\n",
        "for i in range(np.size(t_ex)):  \n",
        "    y_ex[i] = sol_ex(t_ex[i])   # solucion exacta (tiempo)\n",
        "\n",
        "#  GRAFICA DE LAS SOLUCIONES\n",
        "plt.plot(t,y,'k--',label = 'Solucion Numerica')\n",
        "plt.plot(t_ex,y_ex,'b',label = 'Solucion Exacta')\n",
        "plt.legend()\n",
        "plt.grid()\n",
        "plt.xlabel('Tiempo')"
      ],
      "execution_count": null,
      "outputs": [
        {
          "output_type": "execute_result",
          "data": {
            "text/plain": [
              "Text(0.5, 0, 'Tiempo')"
            ]
          },
          "metadata": {
            "tags": []
          },
          "execution_count": 66
        },
        {
          "output_type": "display_data",
          "data": {
            "image/png": "[encoded data removed]",
            "text/plain": [
              "<Figure size 432x288 with 1 Axes>"
            ]
          },
          "metadata": {
            "tags": [],
            "needs_background": "light"
          }
        }
      ]
    },
    {
      "cell_type": "markdown",
      "metadata": {
        "id": "dG9vs4Ve9Oyc"
      },
      "source": [
        "Solución a un problema oscilador lineal vs no-lineal:\n",
        "\n",
        "\\begin{equation}\n",
        "\\left\\{\n",
        "\t       \\begin{array}{ll}\n",
        "\t\t y'' = -\\sin(y) \\sim -y \\\\\n",
        "\t\t y(0) = \\theta_0 \\\\\n",
        "         y'(0) = 0\n",
        "\t       \\end{array}\n",
        "\t     \\right.\n",
        "\\end{equation}"
      ]
    },
    {
      "cell_type": "code",
      "metadata": {
        "colab": {
          "base_uri": "https://localhost:8080/",
          "height": 265
        },
        "id": "8uqt4qU_9Oyc",
        "outputId": "aa06c89b-c9d1-47e5-aa52-c99e1b37c133"
      },
      "source": [
        "# solucion de un problema de oscilador lineal vs oscilador no-lineal\n",
        "# algoritmo de VERLET\n",
        "\n",
        "def f2(y):\n",
        "    return -y\n",
        "\n",
        "def f3(y):\n",
        "    return -np.sin(y)\n",
        "\n",
        "###########################\n",
        "\n",
        "tfinal = 20.0\n",
        "npuntos = 50\n",
        "ang_init = 0.5  # angulo pequeño\n",
        "#ang_init = 2.5\n",
        "\n",
        "t2, y2 = verlet(f2,ang_init,0.0,tfinal,npuntos)  # ALGORITMO VERLET : y' = -y\n",
        "t3, y3 = verlet(f3,ang_init,0.0,tfinal,npuntos)  # ALGORITMO VERLET : y' = -sin(y)\n",
        "\n",
        "# Condiciones del vector dominio y solucion\n",
        "t_ex2 = np.arange(0.0,tfinal+0.1,0.1)\n",
        "y_ex2 = np.zeros(np.size(t_ex2))\n",
        "\n",
        "for i in range(np.size(t_ex2)):\n",
        "    y_ex2[i] = ang_init*np.cos(t_ex2[i])\n",
        "\n",
        "# PLOTEO DE LAS SOLUCIONES\n",
        "plt.plot(t2,y2,'k--',label='Sol numerica (-y)')\n",
        "plt.plot(t3,y3,'g--',label='Sol numerica (-sen(y))')\n",
        "plt.plot(t_ex2,y_ex2,'r--',label = 'Sol exacta (ángulo pequeño)') \n",
        "\n",
        "plt.grid()\n",
        "plt.legend()\n",
        "plt.show()\n"
      ],
      "execution_count": null,
      "outputs": [
        {
          "output_type": "display_data",
          "data": {
            "image/png": "[encoded data removed]",
            "text/plain": [
              "<Figure size 432x288 with 1 Axes>"
            ]
          },
          "metadata": {
            "tags": [],
            "needs_background": "light"
          }
        }
      ]
    },
    {
      "cell_type": "markdown",
      "metadata": {
        "id": "mZt4dvv18PTB"
      },
      "source": [
        "## Problema físico"
      ]
    },
    {
      "cell_type": "markdown",
      "metadata": {
        "id": "S1olM72ZLVf0"
      },
      "source": [
        "### Pelota que rebota"
      ]
    },
    {
      "cell_type": "markdown",
      "metadata": {
        "id": "BhTGrbboR0UW"
      },
      "source": [
        "En este artículo estamos resolviendo el problema de la pelota que rebota con el integrador más simple de todos: el esquema de Euler hacia adelante.\n",
        "\n",
        "Tenemos que resolver la *EDO de segundo orden* (ecuaciones de movimiento de Newton con aceleración constante)\n",
        "\n",
        "$$\n",
        "\\frac{d^2 y}{dt^2} = -g\n",
        "$$\n",
        "\n",
        "donde $ g $ es la aceleración constante debida a la gravedad y $ y (t) $ es la posición de la pelota en función del tiempo (su\n",
        "trayectoria).\n",
        "\n",
        "El esquema de Euler hacia adelante para cualquier *EDO de primer orden*\n",
        "\n",
        "$$ \\frac{dy}{dt} = f(y, t) $$\n",
        "\n",
        "es\n",
        "\n",
        "$$ y(t + h) = y(t) + h f(y(t), t). $$\n",
        "\n",
        "Para resolver la ecuación de movimiento original de segundo orden, hacemos uso del hecho de que una EDO de $ n $ -ésimo orden puede escribirse como $ n $ EDO acopladas de primer orden, a saber\n",
        "\n",
        "$$\n",
        "\\begin{align}\n",
        "\\frac{dy}{dt} &= v\\\\\n",
        "\\frac{dv}{dt} &= -g.\n",
        "\\end{align} $$\n",
        "\n",
        "Resuelva cada una de las EDO de primer orden con el algoritmo de Euler:\n",
        "\n",
        "$$\n",
        "\\begin{align}\n",
        "y(t + h) &= y(t) + h v(t)\\\\\n",
        "v(t + h) &= v(t) - h g.\n",
        "\\end{align} $$\n"
      ]
    },
    {
      "cell_type": "code",
      "metadata": {
        "colab": {
          "base_uri": "https://localhost:8080/",
          "height": 279
        },
        "id": "iK6szELt3aBz",
        "outputId": "5a66bbe2-3ae9-4b2b-99ff-7b6565a3973d"
      },
      "source": [
        "# Utilice el método de Euler para calcular la trayectoria de un rebote\r\n",
        "# bola asumiendo una reflexión perfecta en la superficie x = 0.\r\n",
        "# Utilice unidades SI (metros y segundos)\r\n",
        "\r\n",
        "steps = 300     # número de pasos de tiempo calculados\r\n",
        "endtime = 3.0   # fin de la simulación\r\n",
        "g = 9.8         # gravedad\r\n",
        "\r\n",
        "# crear matrices 1D de pasos de longitud +1 para tiempo (t), posición (x), velocidad (v)\r\n",
        "\r\n",
        "t = np.zeros(steps+1)  # vector TIEMPO\r\n",
        "x = np.zeros(steps+1)  # vector POSICION\r\n",
        "v = np.zeros(steps+1)  # vector VELOCIDAD\r\n",
        "\r\n",
        "# inicializar variables en el tiempo = 0.0\r\n",
        "# Condicion inicial del Sistema\r\n",
        "x[0] = 1.0\r\n",
        "v[0] = 0.0\r\n",
        "t[0] = 0.0\r\n",
        "\r\n",
        "dt = endtime / float(steps)  # tamaño de paso  (tiempo inicial = 0)\r\n",
        "\r\n",
        "# BUCLE para las iteraciones \r\n",
        "for i in range (steps):\r\n",
        "   t[i+1] = t[i] + dt       # calcular el vector TIEMPO\r\n",
        "   x[i+1] = x[i] + v[i]*dt  # CALCULAR el vector POSICION\r\n",
        "   v[i+1] = v[i] - g*dt     # CALCULAR el vector VELOCIDAD\r\n",
        "\r\n",
        "   if x[i+1] < 0.0:    #si la bola está debajo de la superficie, refléjala\r\n",
        "      x[i+1] = -x[i+1]\r\n",
        "      v[i+1] = -v[i+1]\r\n",
        "\r\n",
        "# GRAFICA TIEMPO vs POSICION\r\n",
        "plt.plot(t, x)\r\n",
        "plt.grid()\r\n",
        "plt.xlabel('TIEMPO')\r\n",
        "plt.ylabel('POSICION')\r\n",
        "plt.show()\r\n"
      ],
      "execution_count": null,
      "outputs": [
        {
          "output_type": "display_data",
          "data": {
            "image/png": "[encoded data removed]",
            "text/plain": [
              "<Figure size 432x288 with 1 Axes>"
            ]
          },
          "metadata": {
            "tags": [],
            "needs_background": "light"
          }
        }
      ]
    },
    {
      "cell_type": "code",
      "metadata": {
        "id": "nT67esPGK_0D"
      },
      "source": [
        "def bouncingBall(g: 'gravity value of g(m/s2)',\r\n",
        "                 y: 'Posicion vertical',\r\n",
        "                 v: 'velocidad',\r\n",
        "                 t: 'tiempo',\r\n",
        "                 dt: 'time step',\r\n",
        "                 y_floor: 'floor position',\r\n",
        "                 e: 'Coefficient of restitution',\r\n",
        "                 interval: 'time interval',\r\n",
        "                 title: 'name of experiment'):    \r\n",
        "   \r\n",
        "    data = []  # vector vacio (almacenar datos)\r\n",
        "    \r\n",
        "    while t < interval:    # tiempo < intervalo \r\n",
        "        y = y + v*dt       # posicion aumetada por la velocidad\r\n",
        "        if y > y_floor:    # posicion > posicion suelo\r\n",
        "          v = v + g*dt     # velocidad es aumetada por el tiempo (gravedad)\r\n",
        "        else:\r\n",
        "            v=-e*v # rebotar en el suelo con Coeficiente de restitución - COR\r\n",
        "        \r\n",
        "        data.append([t, y, v])   # almacenar los datos \r\n",
        "        t = t +dt  # incremento del tiempo\r\n",
        "    \r\n",
        "    data = np.array(data).transpose()  #matriz transpuesta de DATA\r\n",
        "\r\n",
        "\r\n",
        "    # PLOTEO DE LA GRAFICA\r\n",
        "    # data[0] : tiempo\r\n",
        "    # data[1] : posicion\r\n",
        "    # data[2] : velocidad\r\n",
        "\r\n",
        "    plt.plot(data[0], data[1])\r\n",
        "    plt.title(title)\r\n",
        "    plt.xlabel(\"time (s)\")\r\n",
        "    plt.ylabel(\"position (m)\")\r\n",
        "    plt.grid()"
      ],
      "execution_count": null,
      "outputs": []
    },
    {
      "cell_type": "code",
      "metadata": {
        "colab": {
          "base_uri": "https://localhost:8080/",
          "height": 295
        },
        "id": "O9yyjrMBLAxT",
        "outputId": "aa103e8f-97cf-4cc1-8b81-7b25d7899c20"
      },
      "source": [
        "bouncingBall(-9.81, 0, 0, 0, 0.05, -5, 0.794, 6, \"Pelota de tenis de mesa - e = 0.794\")"
      ],
      "execution_count": null,
      "outputs": [
        {
          "output_type": "display_data",
          "data": {
            "image/png": "[encoded data removed]",
            "text/plain": [
              "<Figure size 432x288 with 1 Axes>"
            ]
          },
          "metadata": {
            "tags": [],
            "needs_background": "light"
          }
        }
      ]
    },
    {
      "cell_type": "markdown",
      "metadata": {
        "button": false,
        "new_sheet": false,
        "run_control": {
          "read_only": false
        },
        "id": "_47UrPd3dX4_"
      },
      "source": [
        "# 7. Resumen\n",
        "\n",
        "*   SymPy llega a ser una librería bastante eficiente para resolver analíticamente PVI en EDOs, tiene una amplia gamma de funciones y una comunidad científica trabajando en ello\n",
        "*   El método de Euler es un método sencillo de implementar, pero de bajo orden.\n",
        "*   Tiene errores cuando la pendiente instantánea cambia rápidamente dentro de la $\\Delta x$.\n",
        "*   El algoritmo de Verlet es particularmente apropiado en las situaciones en que la expresión de la segunda derivada solo es función de las variables, dependiente o independiente, sin participar la primera derivada. Este es el caso de numerosos problemas de la dinámica newtoniana, por lo que se emplea frecuentemente en astronomía y mecánica molecular."
      ]
    },
    {
      "cell_type": "markdown",
      "metadata": {
        "id": "6ucKfX5Q-7Ga"
      },
      "source": [
        "## 8. Recursos útiles\n",
        "\n",
        "* [\"Ejemplos avanzados de SymPy\"](https://www.youtube.com/watch?v=r4piIKV4sDw)\n",
        "* [\"Métodos Numéricos con Python\"](https://github.com/pachocamacho1990/MetNum_Py)\n",
        "* [\"La bola que rebota\"](https://www.kaggle.com/gzstoyanov/the-bouncing-ball)\n",
        "* [\"Algoritmo de Verlet\"](https://es.wikipedia.org/wiki/Integración_de_Verlet)\n",
        "* Eric Ayars , 'Computational Physics with Python\" (libro completo [aquí](https://belglas.files.wordpress.com/2018/03/cpwp.pdf))\n",
        "* [\"How to Think Like a Computer Scientist\"](https://nbviewer.jupyter.org/github/Yorko/mlcourse.ai/blob/master/jupyter_english/tutorials/merging_dataframes_tutorial_max_palko.ipynb) - Think Python Versión 2.0.17 by Allen Doney. (libro completo [aquí](https://www.greenteapress.com/thinkpython/thinkpython.pdf))\n",
        "* L. Verlet, Computer experiments on classical fluids. I. Thermodynamical properties of Lennard-Jones molecules, Physical Review 159, 98 (1967)\n",
        "* Richard L. Burden, 'Analisis Numerico', 10ma Edición\n",
        "\n",
        "\n",
        "## Donaciones\n",
        "<br>\n",
        "<center>\n",
        "Puedes donar una vez en el siguiente enlace (Ko-Fi):\n",
        "\n",
        "<br>\n",
        "    \n",
        "*Click en la imagen.*\n",
        "\n",
        "<a href=\"https://ko-fi.com/rcrdphysics\">\n",
        "<img src=\"https://habrastorage.org/webt/8r/ml/xf/8rmlxfpdzukegpxa62cxlfvgkqe.png\" width=20% />\n",
        "\n",
        "</center>"
      ]
    }
  ]
}